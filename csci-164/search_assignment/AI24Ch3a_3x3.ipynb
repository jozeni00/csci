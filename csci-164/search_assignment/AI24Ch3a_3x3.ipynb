{
 "cells": [
  {
   "cell_type": "code",
   "execution_count": 88,
   "metadata": {
    "id": "Gbe5KqWcISTq"
   },
   "outputs": [],
   "source": [
    "import random\n",
    "import heapq"
   ]
  },
  {
   "cell_type": "markdown",
   "metadata": {
    "id": "PHnbnN2uV8zr"
   },
   "source": [
    "# Tile Sliding Domain: Initial State Space"
   ]
  },
  {
   "cell_type": "code",
   "execution_count": 89,
   "metadata": {
    "id": "jPCNOa4W-5yq"
   },
   "outputs": [],
   "source": [
    "StateDimension=3\n",
    "InitialState = [1,2,3,4,5,6,0,7,8]\n",
    "GoalState=[1,2,3,4,5,6,7,8,0]\n",
    "Actions = lambda s: ['u', 'd', 'l', 'r']\n",
    "Opposite=dict([('u','d'),('d','u'),('l','r'),('r','l'), (None, None)])"
   ]
  },
  {
   "cell_type": "code",
   "execution_count": 90,
   "metadata": {
    "id": "XjnzkkC8_HE8"
   },
   "outputs": [],
   "source": [
    "def Result(state, action):\n",
    "  i = state.index(0)\n",
    "  newState = list(state)\n",
    "  row,col=i//StateDimension, i % StateDimension\n",
    "  if ( (action=='u' and row==0) or\n",
    "       (action=='d' and row==StateDimension-1) or\n",
    "       (action=='l' and col==0) or\n",
    "       (action=='r' and col==StateDimension-1)):\n",
    "      return newState\n",
    "  if action=='u':\n",
    "    l,r = row*StateDimension+col, (row-1)*StateDimension+col\n",
    "  elif action=='d':\n",
    "    l,r = row*StateDimension+col, (row+1)*StateDimension+col\n",
    "  elif action=='l':\n",
    "    l,r = row*StateDimension+col, row*StateDimension+col-1\n",
    "  elif action=='r' :\n",
    "    l,r = row*StateDimension+col, row*StateDimension+col+1\n",
    "  newState[l], newState[r] = newState[r], newState[l]\n",
    "  return newState\n",
    "\n",
    "def PrintState(s):\n",
    "  for i in range(0,len(s),StateDimension):\n",
    "    print(s[i:i+StateDimension])\n",
    "\n",
    "def LegalMove(state, action):\n",
    "  i = state.index(0)\n",
    "  row,col=i//StateDimension, i % StateDimension\n",
    "  newState = state.copy()\n",
    "  if ( (action=='u' and row==0) or\n",
    "       (action=='d' and row==StateDimension-1) or\n",
    "       (action=='l' and col==0) or\n",
    "       (action=='r' and col==StateDimension-1)):\n",
    "      return False\n",
    "  return True\n"
   ]
  },
  {
   "cell_type": "code",
   "execution_count": 91,
   "metadata": {
    "id": "4z6hE5HsNwHf"
   },
   "outputs": [],
   "source": [
    "def SingleTileManhattanDistance(tile, left, right):\n",
    "  leftIndex = left.index(tile)\n",
    "  rightIndex = right.index(tile)\n",
    "  return (abs(leftIndex//StateDimension-rightIndex//StateDimension) +\n",
    "          abs(leftIndex%StateDimension-rightIndex%StateDimension))\n",
    "\n",
    "def ManhattanDistance(left, right):\n",
    "  distances = [SingleTileManhattanDistance(tile, left, right)\n",
    "     for tile in range(1, StateDimension**2)]\n",
    "  ### print (\"Distances= \", distances)\n",
    "  return sum(distances)\n"
   ]
  },
  {
   "cell_type": "code",
   "execution_count": 92,
   "metadata": {
    "id": "7PE_gAdLSY_z"
   },
   "outputs": [],
   "source": [
    "def OutOfPlace(left, right):\n",
    "  distances = [left[i]!=right[i] and right[i] != 0\n",
    "     for i in range(StateDimension**2)]\n",
    "  return sum(distances)"
   ]
  },
  {
   "cell_type": "code",
   "execution_count": 93,
   "metadata": {
    "colab": {
     "base_uri": "https://localhost:8080/"
    },
    "id": "bE7MrTAI_t6i",
    "outputId": "fb5cf300-8347-48f9-d12b-4e0eea6829e1"
   },
   "outputs": [
    {
     "name": "stdout",
     "output_type": "stream",
     "text": [
      "[1, 2, 3]\n",
      "[4, 5, 6]\n",
      "[0, 7, 8]\n"
     ]
    }
   ],
   "source": [
    "PrintState(InitialState)"
   ]
  },
  {
   "cell_type": "code",
   "execution_count": 94,
   "metadata": {
    "colab": {
     "base_uri": "https://localhost:8080/"
    },
    "id": "wRULKFeXVcp3",
    "outputId": "4766dafa-c37e-4eb0-96e0-c7067e6dc00a"
   },
   "outputs": [
    {
     "name": "stdout",
     "output_type": "stream",
     "text": [
      "[1, 2, 3]\n",
      "[4, 5, 6]\n",
      "[7, 8, 0]\n"
     ]
    }
   ],
   "source": [
    "PrintState(GoalState)"
   ]
  },
  {
   "cell_type": "code",
   "execution_count": 95,
   "metadata": {
    "colab": {
     "base_uri": "https://localhost:8080/"
    },
    "id": "Ke12RA7cPaS9",
    "outputId": "eecb049f-a2af-449e-fa2a-d5dc848e6697"
   },
   "outputs": [
    {
     "name": "stdout",
     "output_type": "stream",
     "text": [
      "ManhattanDistance=   2\n",
      "OutOfPlace=  2\n"
     ]
    }
   ],
   "source": [
    "print(\"ManhattanDistance=  \", ManhattanDistance(InitialState, GoalState))\n",
    "print(\"OutOfPlace= \", OutOfPlace(InitialState, GoalState))\n"
   ]
  },
  {
   "cell_type": "code",
   "execution_count": 96,
   "metadata": {
    "colab": {
     "base_uri": "https://localhost:8080/"
    },
    "id": "j-EYW_gqGZtl",
    "outputId": "f6764d4f-5771-4a18-ca94-1a7d9887739f"
   },
   "outputs": [
    {
     "name": "stdout",
     "output_type": "stream",
     "text": [
      "[1, 2, 3]\n",
      "[4, 5, 6]\n",
      "[0, 7, 8]\n",
      "\n",
      "[1, 2, 3]\n",
      "[0, 5, 6]\n",
      "[4, 7, 8]\n",
      "\n",
      "[1, 2, 3]\n",
      "[5, 0, 6]\n",
      "[4, 7, 8]\n"
     ]
    }
   ],
   "source": [
    "PrintState(InitialState)\n",
    "print()\n",
    "state1 = Result(InitialState, 'u')\n",
    "PrintState(state1)\n",
    "print()\n",
    "state1 = Result(state1, 'r')\n",
    "PrintState(state1)"
   ]
  },
  {
   "cell_type": "markdown",
   "metadata": {
    "id": "Mp0tnomdTFoC"
   },
   "source": [
    "# Random Walk\n",
    "\n",
    "Take some random moves from a state and return the new state and the sequence of moves.\n",
    "\n",
    "Do not include moves undoing last move, or having no effect."
   ]
  },
  {
   "cell_type": "code",
   "execution_count": 97,
   "metadata": {
    "id": "1RVh0-S9IFiy"
   },
   "outputs": [],
   "source": [
    "def RandomWalk(state, steps):\n",
    "  actionSequence = []\n",
    "  actionLast = None\n",
    "  for i in range(steps):\n",
    "    action = None\n",
    "    while action==None:\n",
    "      action = random.choice(Actions(state))\n",
    "      action = action if (LegalMove(state, action)\n",
    "          and action!= Opposite[actionLast]) else None\n",
    "    actionLast = action\n",
    "    state = Result(state, action)\n",
    "    actionSequence.append(action)\n",
    "  return state, actionSequence\n",
    "\n"
   ]
  },
  {
   "cell_type": "code",
   "execution_count": 98,
   "metadata": {
    "colab": {
     "base_uri": "https://localhost:8080/"
    },
    "id": "wcn5POkxKlER",
    "outputId": "b13cc6e4-1492-464f-ef69-0692c5d30d8a"
   },
   "outputs": [
    {
     "name": "stdout",
     "output_type": "stream",
     "text": [
      "[0, 3, 4]\n",
      "[5, 2, 8]\n",
      "[1, 6, 7]\n",
      "14 ['r', 'r', 'u', 'u', 'l', 'd', 'd', 'r', 'u', 'l', 'l', 'd', 'r', 'u', 'r', 'd', 'l', 'l', 'u', 'r', 'u', 'r', 'd', 'd', 'l', 'l', 'u', 'u', 'r', 'r', 'd', 'd', 'l', 'l', 'u', 'u', 'r', 'r', 'd', 'l', 'u', 'r', 'd', 'd', 'l', 'u', 'l', 'd', 'r', 'r', 'u', 'l', 'l', 'd', 'r', 'u', 'r', 'u', 'l', 'l', 'd', 'r', 'u', 'l', 'd', 'r', 'u', 'r', 'd', 'd', 'l', 'u', 'u', 'l', 'd', 'd', 'r', 'u', 'r', 'u', 'l', 'l', 'd', 'r', 'd', 'l', 'u', 'u', 'r', 'd', 'l', 'u', 'r', 'r', 'd', 'l', 'u', 'l', 'd', 'd', 'r', 'r', 'u', 'l', 'd', 'l', 'u', 'u', 'r', 'r', 'd', 'd', 'l', 'l', 'u', 'r', 'r', 'd', 'l', 'l', 'u', 'u', 'r', 'r', 'd', 'l', 'd', 'l', 'u', 'u', 'r', 'd', 'd', 'l', 'u', 'u', 'r', 'r', 'd', 'd', 'l', 'u', 'l', 'd', 'r', 'r', 'u', 'u', 'l', 'l']\n",
      "Random Walk 5 Steps Initial ------------\n",
      "[1, 2, 3]\n",
      "[4, 5, 6]\n",
      "[0, 7, 8]\n",
      "['u', 'u', 'r', 'd', 'l']\n",
      "[2, 5, 3]\n",
      "[0, 1, 6]\n",
      "[4, 7, 8]\n",
      "Random Walk 10 Steps Initial ------------\n",
      "[1, 2, 3]\n",
      "[4, 5, 6]\n",
      "[0, 7, 8]\n",
      "['r', 'u', 'l', 'u', 'r', 'r', 'd', 'd', 'l', 'u']\n",
      "[2, 3, 6]\n",
      "[1, 0, 8]\n",
      "[7, 4, 5]\n",
      "Random Walk 20 Steps Initial ------------\n",
      "[1, 2, 3]\n",
      "[4, 5, 6]\n",
      "[0, 7, 8]\n",
      "['u', 'u', 'r', 'd', 'd', 'l', 'u', 'u', 'r', 'd', 'd', 'l', 'u', 'r', 'r', 'u', 'l', 'd', 'd', 'l']\n",
      "[5, 6, 7]\n",
      "[4, 1, 3]\n",
      "[0, 2, 8]\n",
      "Random Walk 40 Steps Initial ------------\n",
      "[1, 2, 3]\n",
      "[4, 5, 6]\n",
      "[0, 7, 8]\n",
      "['u', 'r', 'r', 'u', 'l', 'l', 'd', 'd', 'r', 'r', 'u', 'u', 'l', 'l', 'd', 'd', 'r', 'r', 'u', 'u', 'l', 'd', 'd', 'r', 'u', 'l', 'l', 'u', 'r', 'd', 'l', 'd', 'r', 'r', 'u', 'l', 'd', 'l', 'u', 'u']\n",
      "[0, 7, 5]\n",
      "[6, 1, 4]\n",
      "[8, 2, 3]\n",
      "Random Walk 80 Steps Initial ------------\n",
      "[1, 2, 3]\n",
      "[4, 5, 6]\n",
      "[0, 7, 8]\n",
      "['r', 'u', 'l', 'u', 'r', 'd', 'l', 'd', 'r', 'r', 'u', 'u', 'l', 'l', 'd', 'r', 'u', 'r', 'd', 'l', 'u', 'l', 'd', 'd', 'r', 'r', 'u', 'u', 'l', 'l', 'd', 'r', 'u', 'r', 'd', 'd', 'l', 'u', 'r', 'd', 'l', 'l', 'u', 'r', 'r', 'u', 'l', 'd', 'r', 'u', 'l', 'd', 'd', 'l', 'u', 'r', 'u', 'l', 'd', 'r', 'u', 'r', 'd', 'l', 'u', 'r', 'd', 'd', 'l', 'l', 'u', 'r', 'u', 'l', 'd', 'r', 'u', 'l', 'd', 'r']\n",
      "[7, 6, 5]\n",
      "[8, 0, 1]\n",
      "[3, 2, 4]\n"
     ]
    }
   ],
   "source": [
    "state1, sol = RandomWalk(InitialState, 150)\n",
    "PrintState(state1)\n",
    "print (ManhattanDistance(state1, GoalState), sol)\n",
    "\n",
    "print(\"Random Walk 5 Steps Initial ------------\")\n",
    "state1, sol = RandomWalk(InitialState, 5)\n",
    "PrintState(InitialState)\n",
    "print (sol)\n",
    "PrintState(state1)\n",
    "\n",
    "print(\"Random Walk 10 Steps Initial ------------\")\n",
    "state1, sol = RandomWalk(InitialState, 10)\n",
    "PrintState(InitialState)\n",
    "print (sol)\n",
    "PrintState(state1)\n",
    "\n",
    "print(\"Random Walk 20 Steps Initial ------------\")\n",
    "state1, sol = RandomWalk(InitialState, 20)\n",
    "PrintState(InitialState)\n",
    "print (sol)\n",
    "PrintState(state1)\n",
    "\n",
    "print(\"Random Walk 40 Steps Initial ------------\")\n",
    "state1, sol = RandomWalk(InitialState, 40)\n",
    "PrintState(InitialState)\n",
    "print (sol)\n",
    "PrintState(state1)\n",
    "\n",
    "print(\"Random Walk 80 Steps Initial ------------\")\n",
    "state1, sol = RandomWalk(InitialState, 80)\n",
    "PrintState(InitialState)\n",
    "print (sol)\n",
    "PrintState(state1)"
   ]
  },
  {
   "cell_type": "code",
   "execution_count": 99,
   "metadata": {
    "id": "Rc_8ohYvNIq-"
   },
   "outputs": [],
   "source": [
    "def ApplyMoves(actions, state):\n",
    "  for action in actions:\n",
    "    state = Result(state, action)\n",
    "  return state"
   ]
  },
  {
   "cell_type": "code",
   "execution_count": 100,
   "metadata": {
    "colab": {
     "base_uri": "https://localhost:8080/"
    },
    "id": "Wv7MGqh8NXqy",
    "outputId": "7680a0b0-e84f-4a14-c9d5-b881e3f973d1"
   },
   "outputs": [
    {
     "name": "stdout",
     "output_type": "stream",
     "text": [
      "[1, 2, 3]\n",
      "[4, 5, 6]\n",
      "[0, 7, 8]\n",
      "['r', 'r']\n",
      "[1, 2, 3]\n",
      "[4, 5, 6]\n",
      "[7, 8, 0]\n"
     ]
    }
   ],
   "source": [
    "PrintState(InitialState)\n",
    "print(['r','r'])\n",
    "PrintState(ApplyMoves(['r','r'],InitialState))"
   ]
  },
  {
   "cell_type": "code",
   "execution_count": 101,
   "metadata": {
    "id": "_VS2KzQbOHlO"
   },
   "outputs": [],
   "source": [
    "def ReverseMoves(actions):\n",
    "  ret = [Opposite[a] for a in actions]\n",
    "  ret.reverse()\n",
    "  return ret"
   ]
  },
  {
   "cell_type": "code",
   "execution_count": 102,
   "metadata": {
    "colab": {
     "base_uri": "https://localhost:8080/"
    },
    "id": "tp_pqYBXOsqS",
    "outputId": "c322dc22-ea39-46bc-d762-c6dcc310cd95"
   },
   "outputs": [
    {
     "name": "stdout",
     "output_type": "stream",
     "text": [
      "Radom Walk 5 Steps Goal ---------\n",
      "[1, 0, 2]\n",
      "[4, 6, 3]\n",
      "[7, 5, 8]\n",
      "['l', 'u', 'r', 'u', 'l']\n",
      "['r', 'd', 'l', 'd', 'r']\n",
      "[1, 2, 3]\n",
      "[4, 5, 6]\n",
      "[7, 8, 0]\n",
      "Radom Walk 10 Steps Goal ---------\n",
      "[4, 1, 0]\n",
      "[7, 2, 3]\n",
      "[8, 6, 5]\n",
      "['u', 'l', 'u', 'l', 'd', 'd', 'r', 'r', 'u', 'u']\n",
      "['d', 'd', 'l', 'l', 'u', 'u', 'r', 'd', 'r', 'd']\n",
      "[1, 2, 3]\n",
      "[4, 5, 6]\n",
      "[7, 8, 0]\n",
      "Radom Walk 20 Steps Goal ---------\n",
      "[7, 4, 5]\n",
      "[6, 1, 2]\n",
      "[8, 3, 0]\n",
      "['u', 'u', 'l', 'd', 'd', 'r', 'u', 'u', 'l', 'l', 'd', 'd', 'r', 'u', 'u', 'l', 'd', 'd', 'r', 'r']\n",
      "['l', 'l', 'u', 'u', 'r', 'd', 'd', 'l', 'u', 'u', 'r', 'r', 'd', 'd', 'l', 'u', 'u', 'r', 'd', 'd']\n",
      "[1, 2, 3]\n",
      "[4, 5, 6]\n",
      "[7, 8, 0]\n",
      "Radom Walk 40 Steps Goal ---------\n",
      "[0, 8, 5]\n",
      "[6, 2, 1]\n",
      "[4, 7, 3]\n",
      "['u', 'u', 'l', 'd', 'r', 'd', 'l', 'u', 'r', 'd', 'l', 'l', 'u', 'r', 'u', 'r', 'd', 'l', 'l', 'd', 'r', 'u', 'u', 'l', 'd', 'r', 'u', 'r', 'd', 'l', 'l', 'u', 'r', 'd', 'd', 'l', 'u', 'r', 'u', 'l']\n",
      "['r', 'd', 'l', 'd', 'r', 'u', 'u', 'l', 'd', 'r', 'r', 'u', 'l', 'd', 'l', 'u', 'r', 'd', 'd', 'l', 'u', 'r', 'r', 'u', 'l', 'd', 'l', 'd', 'r', 'r', 'u', 'l', 'd', 'r', 'u', 'l', 'u', 'r', 'd', 'd']\n",
      "[1, 2, 3]\n",
      "[4, 5, 6]\n",
      "[7, 8, 0]\n",
      "Radom Walk 80 Steps Goal ---------\n",
      "[0, 8, 4]\n",
      "[1, 2, 5]\n",
      "[6, 3, 7]\n",
      "['u', 'l', 'd', 'l', 'u', 'u', 'r', 'd', 'd', 'l', 'u', 'r', 'r', 'd', 'l', 'l', 'u', 'u', 'r', 'r', 'd', 'd', 'l', 'u', 'l', 'd', 'r', 'r', 'u', 'l', 'u', 'l', 'd', 'r', 'd', 'l', 'u', 'u', 'r', 'd', 'l', 'u', 'r', 'r', 'd', 'd', 'l', 'u', 'u', 'l', 'd', 'r', 'u', 'r', 'd', 'l', 'u', 'r', 'd', 'd', 'l', 'l', 'u', 'u', 'r', 'r', 'd', 'd', 'l', 'u', 'u', 'l', 'd', 'r', 'd', 'r', 'u', 'u', 'l', 'l']\n",
      "['r', 'r', 'd', 'd', 'l', 'u', 'l', 'u', 'r', 'd', 'd', 'r', 'u', 'u', 'l', 'l', 'd', 'd', 'r', 'r', 'u', 'u', 'l', 'd', 'r', 'u', 'l', 'd', 'l', 'u', 'r', 'd', 'd', 'r', 'u', 'u', 'l', 'l', 'd', 'r', 'u', 'l', 'd', 'd', 'r', 'u', 'l', 'u', 'r', 'd', 'r', 'd', 'l', 'l', 'u', 'r', 'd', 'r', 'u', 'u', 'l', 'l', 'd', 'd', 'r', 'r', 'u', 'l', 'l', 'd', 'r', 'u', 'u', 'l', 'd', 'd', 'r', 'u', 'r', 'd']\n",
      "[1, 2, 3]\n",
      "[4, 5, 6]\n",
      "[7, 8, 0]\n"
     ]
    }
   ],
   "source": [
    "print(\"Radom Walk 5 Steps Goal ---------\")\n",
    "state1, sol = RandomWalk(GoalState, 5)\n",
    "PrintState(state1)\n",
    "print (sol)\n",
    "print(ReverseMoves(sol))\n",
    "PrintState (ApplyMoves(ReverseMoves(sol), state1))\n",
    "\n",
    "print(\"Radom Walk 10 Steps Goal ---------\")\n",
    "state1, sol = RandomWalk(GoalState, 10)\n",
    "PrintState(state1)\n",
    "print (sol)\n",
    "print(ReverseMoves(sol))\n",
    "PrintState (ApplyMoves(ReverseMoves(sol), state1))\n",
    "\n",
    "print(\"Radom Walk 20 Steps Goal ---------\")\n",
    "state1, sol = RandomWalk(GoalState, 20)\n",
    "PrintState(state1)\n",
    "print (sol)\n",
    "print(ReverseMoves(sol))\n",
    "PrintState (ApplyMoves(ReverseMoves(sol), state1))\n",
    "\n",
    "print(\"Radom Walk 40 Steps Goal ---------\")\n",
    "state1, sol = RandomWalk(GoalState, 40)\n",
    "PrintState(state1)\n",
    "print (sol)\n",
    "print(ReverseMoves(sol))\n",
    "PrintState (ApplyMoves(ReverseMoves(sol), state1))\n",
    "\n",
    "print(\"Radom Walk 80 Steps Goal ---------\")\n",
    "state1, sol = RandomWalk(GoalState, 80)\n",
    "PrintState(state1)\n",
    "print (sol)\n",
    "print(ReverseMoves(sol))\n",
    "PrintState (ApplyMoves(ReverseMoves(sol), state1))\n"
   ]
  },
  {
   "cell_type": "markdown",
   "metadata": {
    "id": "8ABBDMJLROdo"
   },
   "source": [
    "## Problem Class\n",
    "\n",
    "INITIAL = InitialState  \n",
    "IsGoal = Goal Test  \n",
    "Actions = Actions List  \n",
    "Result = Action Behavior  \n",
    "ActionCost = Action Cost  "
   ]
  },
  {
   "cell_type": "code",
   "execution_count": 103,
   "metadata": {
    "id": "fo6sq7myRQpE"
   },
   "outputs": [],
   "source": [
    "class Problem(object): pass"
   ]
  },
  {
   "cell_type": "markdown",
   "metadata": {
    "id": "aAHXlWteQ2LN"
   },
   "source": [
    "## Node"
   ]
  },
  {
   "cell_type": "code",
   "execution_count": 104,
   "metadata": {
    "id": "URRYlfS9Q3vx"
   },
   "outputs": [],
   "source": [
    "class Node(object):\n",
    "  def __init__(self, state, parent=None, action=None, path_cost=0 ):\n",
    "    self.State=state\n",
    "    self.Parent=parent\n",
    "    self.Action=action\n",
    "    self.PathCost = path_cost\n",
    "\n",
    "  def __str__(self):\n",
    "    action = \"<none>\" if not self.Action else self.Action\n",
    "    return str(self.State) + \", \" + action\n",
    "  def __repr__(self):\n",
    "    action = \"<none>\" if not self.Action else self.Action\n",
    "    return str(self.State) + \", \" + action\n",
    "  def __lt__(self, other):\n",
    "    return self.PathCost < other.PathCost;"
   ]
  },
  {
   "cell_type": "markdown",
   "metadata": {
    "id": "LpzKnx4rkxL9"
   },
   "source": [
    "## Expand"
   ]
  },
  {
   "cell_type": "code",
   "execution_count": 105,
   "metadata": {
    "id": "CRj9UnyHdDo_"
   },
   "outputs": [],
   "source": [
    "def Expand(problem, node):\n",
    "  ret = []\n",
    "  s = node.State\n",
    "  for action in problem.Actions(s):\n",
    "    sPrime = problem.Result(s, action)\n",
    "    cost =node.PathCost + problem.ActionCost(s,action,sPrime)\n",
    "    ret.append(Node(sPrime, node, action, cost))\n",
    "  return ret\n"
   ]
  },
  {
   "cell_type": "markdown",
   "metadata": {
    "id": "Ee2ZYxjVlBSl"
   },
   "source": [
    "## Breadth-First Search"
   ]
  },
  {
   "cell_type": "code",
   "execution_count": 106,
   "metadata": {
    "id": "DZoCxoGzkt4E"
   },
   "outputs": [],
   "source": [
    "def BreadthFirstSearch(problem):\n",
    "  node = Node(tuple(problem.INITIAL))\n",
    "  if problem.IsGoal(node.State):\n",
    "    return node, 0\n",
    "  Frontier = []\n",
    "  Frontier.append(node)\n",
    "  reached = set()\n",
    "  reached.add(tuple(problem.INITIAL))\n",
    "  nodesExpanded = 0\n",
    "  while (Frontier):\n",
    "    ### print([str(n) for n in Frontier])\n",
    "    node = Frontier.pop(0)\n",
    "    ### print(node)\n",
    "    for child in Expand(problem, node):\n",
    "      s = tuple(child.State)\n",
    "      ### print (s, \"IsGoal=\", problem.IsGoal(s))\n",
    "      if problem.IsGoal(s):\n",
    "        return child, nodesExpanded\n",
    "      if s not in reached:\n",
    "        reached.add(s)\n",
    "        Frontier.append(child)\n",
    "    nodesExpanded += 1\n",
    "    if nodesExpanded > 500000:\n",
    "      break;\n",
    "  return None, nodesExpanded"
   ]
  },
  {
   "cell_type": "markdown",
   "metadata": {
    "id": "AoX48XG6lFOf"
   },
   "source": [
    "## Best-First Search"
   ]
  },
  {
   "cell_type": "code",
   "execution_count": 107,
   "metadata": {
    "id": "lUIAdr_qa1KT"
   },
   "outputs": [],
   "source": [
    "def BestFirstSearch(problem, f):\n",
    "  node = Node(tuple(problem.INITIAL))\n",
    "  Frontier = []\n",
    "  heapq.heappush(Frontier,(f(node), node))\n",
    "  reached = {}\n",
    "  reached[tuple(problem.INITIAL)]=node\n",
    "  nodesExpanded = 0\n",
    "  while (Frontier):\n",
    "    ##print([(x, str(n)) for (x,n) in Frontier])\n",
    "    fValue, node = heapq.heappop(Frontier)\n",
    "    ##print (node.State, \"IsGoal=\", problem.IsGoal(tuple(node.State)))\n",
    "    if problem.IsGoal(tuple(node.State)):\n",
    "      return node, nodesExpanded    ### print(node)\n",
    "    for child in Expand(problem, node):\n",
    "      s = tuple(child.State)\n",
    "      if s not in reached or child.PathCost < reached[s].PathCost:\n",
    "        reached[s] = child\n",
    "        heapq.heappush(Frontier, (f(child), child))\n",
    "    nodesExpanded += 1\n",
    "    if nodesExpanded > 500000:\n",
    "      break;\n",
    "  return None, nodesExpanded"
   ]
  },
  {
   "cell_type": "markdown",
   "metadata": {
    "id": "kRjolRYslOa4"
   },
   "source": [
    "## Problem 1"
   ]
  },
  {
   "cell_type": "code",
   "execution_count": 108,
   "metadata": {
    "colab": {
     "base_uri": "https://localhost:8080/"
    },
    "id": "dLWDIbmsRGY3",
    "outputId": "7d503ed3-06cb-453e-965f-1119d4dc965d"
   },
   "outputs": [
    {
     "name": "stdout",
     "output_type": "stream",
     "text": [
      "True\n",
      "[1, 2, 3, 4, 5, 6, 0, 7, 8], <none>\n",
      "2\n"
     ]
    }
   ],
   "source": [
    "TileSliding = Problem()\n",
    "TileSliding.INITIAL = InitialState\n",
    "TileSliding.IsGoal = lambda s: s==(1,2,3,4,5,6,7,8,0)\n",
    "TileSliding.Actions = Actions\n",
    "TileSliding.Result=Result\n",
    "TileSliding.ActionCost = lambda s, a, sPrime: 1\n",
    "print( TileSliding.IsGoal((1,2,3,4,5,6,7,8,0)) )\n",
    "print( Node(InitialState) )\n",
    "print(1+TileSliding.ActionCost(1,2,3))"
   ]
  },
  {
   "cell_type": "code",
   "execution_count": 109,
   "metadata": {
    "colab": {
     "base_uri": "https://localhost:8080/"
    },
    "id": "6VoIEO4c1gHz",
    "outputId": "3ddcf07d-8ee3-4e5e-a08a-81a476b9c1e2"
   },
   "outputs": [
    {
     "name": "stdout",
     "output_type": "stream",
     "text": [
      "[1, 2, 3, 4, 5, 6, 7, 8, 0], r 2\n"
     ]
    }
   ],
   "source": [
    "TileSliding.INITIAL = [1,2,3,4,5,6,0,7,8]\n",
    "ret, cost = BreadthFirstSearch(TileSliding)\n",
    "print (ret, cost)"
   ]
  },
  {
   "cell_type": "code",
   "execution_count": 110,
   "metadata": {
    "id": "3hsBKY7Fle3w"
   },
   "outputs": [],
   "source": [
    "def Solution(node):\n",
    "  if node.Parent==None:\n",
    "    return []\n",
    "  return Solution(node.Parent) + [node.Action]\n"
   ]
  },
  {
   "cell_type": "code",
   "execution_count": 111,
   "metadata": {
    "colab": {
     "base_uri": "https://localhost:8080/"
    },
    "id": "rtr7Vr84NAfY",
    "outputId": "ffb31aae-91e3-4cd5-98e7-62f115b61b21"
   },
   "outputs": [
    {
     "name": "stdout",
     "output_type": "stream",
     "text": [
      "['r', 'r']\n",
      "[1, 2, 3, 4, 5, 6, 0, 7, 8]\n",
      "[1, 2, 3, 4, 5, 6, 7, 8, 0]\n"
     ]
    }
   ],
   "source": [
    "sol = Solution(ret)\n",
    "print (sol)\n",
    "print (TileSliding.INITIAL)\n",
    "print (ApplyMoves(sol, TileSliding.INITIAL))"
   ]
  },
  {
   "cell_type": "code",
   "execution_count": 112,
   "metadata": {
    "colab": {
     "base_uri": "https://localhost:8080/"
    },
    "id": "RDE3dNP8NOU7",
    "outputId": "a931b05e-d36e-4ef5-ffcd-9e33a13af3d9"
   },
   "outputs": [
    {
     "name": "stdout",
     "output_type": "stream",
     "text": [
      "[1, 2, 3, 4, 5, 6, 7, 8, 0], r 2\n"
     ]
    }
   ],
   "source": [
    "TileSliding.INITIAL = [1,2,3,4,0,6,7,5,8]\n",
    "ret, cost = BreadthFirstSearch(TileSliding)\n",
    "print (ret, cost)"
   ]
  },
  {
   "cell_type": "code",
   "execution_count": 113,
   "metadata": {
    "colab": {
     "base_uri": "https://localhost:8080/"
    },
    "id": "YBkLupiYNyZ_",
    "outputId": "d9a01861-ea3e-4036-f007-ce5c17cdd82e"
   },
   "outputs": [
    {
     "name": "stdout",
     "output_type": "stream",
     "text": [
      "['d', 'r']\n",
      "[1, 2, 3, 4, 0, 6, 7, 5, 8]\n",
      "[1, 2, 3, 4, 5, 6, 7, 8, 0]\n"
     ]
    }
   ],
   "source": [
    "sol = Solution(ret)\n",
    "print (sol)\n",
    "print (TileSliding.INITIAL)\n",
    "print (ApplyMoves(sol, TileSliding.INITIAL))"
   ]
  },
  {
   "cell_type": "code",
   "execution_count": 114,
   "metadata": {
    "colab": {
     "base_uri": "https://localhost:8080/"
    },
    "id": "GXdlMLxwhxMF",
    "outputId": "cb8d551e-c147-4a1a-b92b-d1319a98e049"
   },
   "outputs": [
    {
     "name": "stdout",
     "output_type": "stream",
     "text": [
      "[1, 2, 3, 4, 5, 6, 7, 8, 0], r\n",
      "['d', 'r']\n",
      "[1, 2, 3, 4, 0, 6, 7, 5, 8]\n",
      "[1, 2, 3, 4, 5, 6, 7, 8, 0]\n",
      "Nodes Expanded= 8\n"
     ]
    }
   ],
   "source": [
    "UniformCostF = lambda n: n.PathCost\n",
    "AStarF = lambda n: n.PathCost+ManhattanDistance(n.State, GoalState)\n",
    "TileSliding.INITIAL = [1,2,3,4,0,6,7,5,8]\n",
    "ret, cost = BestFirstSearch(TileSliding, UniformCostF)\n",
    "print (ret)\n",
    "sol = Solution(ret)\n",
    "print (sol)\n",
    "print (TileSliding.INITIAL)\n",
    "print (ApplyMoves(sol, TileSliding.INITIAL))\n",
    "print (\"Nodes Expanded=\", cost)"
   ]
  },
  {
   "cell_type": "markdown",
   "metadata": {
    "id": "bu6svMo0n9Pc"
   },
   "source": [
    "# Problem 2"
   ]
  },
  {
   "cell_type": "code",
   "execution_count": 115,
   "metadata": {
    "colab": {
     "base_uri": "https://localhost:8080/"
    },
    "id": "rXzEVLYEn8m1",
    "outputId": "fe31d608-3f4b-4486-a9ba-6b716b44575a"
   },
   "outputs": [
    {
     "name": "stdout",
     "output_type": "stream",
     "text": [
      "[3, 5, 0]\n",
      "[1, 8, 4]\n",
      "[6, 7, 2]\n",
      "['u', 'u', 'l', 'd', 'l', 'd', 'r', 'r', 'u', 'l', 'u', 'l', 'd', 'r', 'r', 'u', 'l', 'l', 'd', 'r', 'd', 'l', 'u', 'u', 'r', 'd', 'r', 'u', 'l', 'd', 'd', 'r', 'u', 'l', 'l', 'd', 'r', 'u', 'u', 'l', 'd', 'r', 'r', 'd', 'l', 'l', 'u', 'r', 'u', 'r', 'd', 'd', 'l', 'l', 'u', 'r', 'r', 'd', 'l', 'u', 'u', 'l', 'd', 'd', 'r', 'r', 'u', 'u', 'l', 'l', 'd', 'd', 'r', 'r', 'u', 'l', 'u', 'l', 'd', 'd', 'r', 'r', 'u', 'l', 'u', 'l', 'd', 'r', 'd', 'r', 'u', 'l', 'u', 'l', 'd', 'r', 'r', 'u', 'l', 'd', 'd', 'l', 'u', 'r', 'u', 'l', 'd', 'r', 'r', 'u', 'l', 'd', 'l', 'd', 'r', 'u', 'l', 'd', 'r', 'u', 'u', 'r', 'd', 'd', 'l', 'l', 'u', 'u', 'r', 'r', 'd', 'd', 'l', 'u', 'u', 'l', 'd', 'r', 'r', 'd', 'l', 'u', 'r', 'd', 'l', 'l', 'u', 'r', 'r', 'u', 'l', 'd', 'r', 'd', 'l', 'u', 'u', 'r', 'd', 'd', 'l', 'l', 'u', 'u', 'r', 'r', 'd', 'l', 'd', 'l', 'u', 'u', 'r', 'r', 'd', 'd', 'l', 'u', 'r', 'u', 'l', 'l', 'd', 'r', 'd', 'r', 'u', 'u', 'l', 'd', 'l', 'd', 'r', 'u', 'l', 'u', 'r', 'r', 'd', 'd', 'l', 'l', 'u', 'u', 'r', 'd', 'd', 'r', 'u', 'l', 'd', 'r', 'u', 'u', 'l', 'd', 'r', 'd', 'l', 'l', 'u', 'u', 'r', 'd', 'l', 'u', 'r', 'd', 'l', 'd', 'r', 'u', 'u', 'l', 'd', 'r', 'd', 'l', 'u', 'u', 'r', 'r', 'd', 'd', 'l', 'l', 'u', 'u', 'r', 'r', 'd', 'l', 'u', 'r', 'd', 'l', 'l', 'd', 'r', 'u', 'r', 'd', 'l', 'u', 'u', 'l', 'd', 'd', 'r', 'u', 'r', 'd', 'l', 'u', 'u', 'l', 'd', 'd', 'r', 'u', 'r', 'u', 'l', 'l', 'd', 'd', 'r', 'r', 'u', 'u', 'l', 'd', 'd', 'r', 'u', 'l', 'l', 'u', 'r', 'r']\n",
      "['l', 'l', 'd', 'r', 'r', 'd', 'l', 'u', 'u', 'r', 'd', 'd', 'l', 'l', 'u', 'u', 'r', 'r', 'd', 'l', 'd', 'l', 'u', 'u', 'r', 'd', 'd', 'r', 'u', 'l', 'd', 'l', 'u', 'u', 'r', 'd', 'd', 'r', 'u', 'l', 'd', 'l', 'u', 'r', 'r', 'u', 'l', 'd', 'r', 'u', 'l', 'l', 'd', 'd', 'r', 'r', 'u', 'u', 'l', 'l', 'd', 'd', 'r', 'u', 'l', 'u', 'r', 'd', 'd', 'l', 'u', 'r', 'u', 'l', 'd', 'r', 'u', 'l', 'd', 'd', 'r', 'r', 'u', 'l', 'u', 'r', 'd', 'd', 'l', 'u', 'r', 'd', 'l', 'u', 'u', 'l', 'd', 'd', 'r', 'r', 'u', 'u', 'l', 'l', 'd', 'r', 'd', 'l', 'u', 'r', 'u', 'r', 'd', 'd', 'l', 'u', 'l', 'u', 'r', 'r', 'd', 'l', 'd', 'r', 'u', 'u', 'l', 'l', 'd', 'd', 'r', 'u', 'r', 'u', 'l', 'l', 'd', 'd', 'r', 'r', 'u', 'u', 'l', 'd', 'd', 'r', 'u', 'l', 'u', 'r', 'd', 'l', 'l', 'd', 'r', 'r', 'u', 'l', 'd', 'r', 'u', 'l', 'l', 'u', 'r', 'd', 'd', 'r', 'u', 'u', 'l', 'l', 'd', 'd', 'r', 'r', 'u', 'u', 'l', 'd', 'd', 'l', 'u', 'r', 'd', 'l', 'u', 'r', 'u', 'r', 'd', 'l', 'l', 'u', 'r', 'd', 'l', 'd', 'r', 'u', 'u', 'r', 'd', 'l', 'l', 'u', 'r', 'd', 'r', 'd', 'l', 'u', 'l', 'u', 'r', 'd', 'r', 'd', 'l', 'l', 'u', 'u', 'r', 'd', 'r', 'd', 'l', 'l', 'u', 'u', 'r', 'r', 'd', 'd', 'l', 'l', 'u', 'u', 'r', 'd', 'd', 'r', 'u', 'l', 'l', 'd', 'r', 'r', 'u', 'u', 'l', 'd', 'l', 'd', 'r', 'r', 'u', 'l', 'l', 'u', 'r', 'd', 'd', 'l', 'u', 'r', 'r', 'd', 'l', 'u', 'u', 'r', 'd', 'l', 'u', 'l', 'd', 'd', 'r', 'u', 'l', 'u', 'r', 'r', 'd', 'l', 'l', 'u', 'r', 'd', 'r', 'd', 'l', 'l', 'u', 'r', 'u', 'r', 'd', 'd']\n",
      "[1, 2, 3]\n",
      "[4, 5, 6]\n",
      "[7, 8, 0]\n"
     ]
    }
   ],
   "source": [
    "state1, sol = RandomWalk(GoalState, 300)\n",
    "PrintState(state1)\n",
    "print (sol)\n",
    "print(ReverseMoves(sol))\n",
    "PrintState (ApplyMoves(ReverseMoves(sol), state1))"
   ]
  },
  {
   "cell_type": "code",
   "execution_count": 116,
   "metadata": {
    "colab": {
     "base_uri": "https://localhost:8080/"
    },
    "id": "tKnMcesqoCss",
    "outputId": "884c7eda-76ff-472e-f951-8c6795202ae8"
   },
   "outputs": [
    {
     "name": "stdout",
     "output_type": "stream",
     "text": [
      "[1, 2, 3, 4, 5, 6, 7, 8, 0], d\n",
      "['l', 'l', 'd', 'r', 'd', 'l', 'u', 'r', 'r', 'd', 'l', 'l', 'u', 'r', 'r', 'u', 'l', 'd', 'r', 'd']\n",
      "[3, 5, 0, 1, 8, 4, 6, 7, 2]\n",
      "[1, 2, 3, 4, 5, 6, 7, 8, 0]\n",
      "Length of solution:  20\n",
      "Nodes Expanded= 37245\n"
     ]
    }
   ],
   "source": [
    "TileSliding.INITIAL = state1\n",
    "ret, cost = BreadthFirstSearch(TileSliding)\n",
    "print (ret)\n",
    "sol = Solution(ret)\n",
    "print (sol)\n",
    "print (TileSliding.INITIAL)\n",
    "print (ApplyMoves(sol, TileSliding.INITIAL))\n",
    "print (\"Length of solution: \", len(sol))\n",
    "print (\"Nodes Expanded=\", cost)"
   ]
  },
  {
   "cell_type": "code",
   "execution_count": 117,
   "metadata": {
    "colab": {
     "base_uri": "https://localhost:8080/"
    },
    "id": "k24bl418eL5m",
    "outputId": "9b1a7dab-7f50-45a7-a6b3-39398f1078ce"
   },
   "outputs": [
    {
     "name": "stdout",
     "output_type": "stream",
     "text": [
      "[1, 2, 3, 4, 5, 6, 7, 8, 0], d\n",
      "['l', 'l', 'd', 'r', 'd', 'l', 'u', 'r', 'r', 'd', 'l', 'l', 'u', 'r', 'r', 'u', 'l', 'd', 'r', 'd']\n",
      "[3, 5, 0, 1, 8, 4, 6, 7, 2]\n",
      "[1, 2, 3, 4, 5, 6, 7, 8, 0]\n",
      "Length of solution:  20\n",
      "Nodes Expanded= 43732\n"
     ]
    }
   ],
   "source": [
    "UniformCostF = lambda n: n.PathCost\n",
    "TileSliding.INITIAL = state1\n",
    "ret, cost = BestFirstSearch(TileSliding, UniformCostF)\n",
    "print (ret)\n",
    "sol = Solution(ret)\n",
    "print (sol)\n",
    "print (TileSliding.INITIAL)\n",
    "print (ApplyMoves(sol, TileSliding.INITIAL))\n",
    "print (\"Length of solution: \", len(sol))\n",
    "print (\"Nodes Expanded=\", cost)"
   ]
  },
  {
   "cell_type": "markdown",
   "metadata": {
    "id": "tdtWdXGlXFGG"
   },
   "source": [
    "# Problem List"
   ]
  },
  {
   "cell_type": "code",
   "execution_count": 118,
   "metadata": {
    "colab": {
     "base_uri": "https://localhost:8080/"
    },
    "id": "iDhmyFXQXI3N",
    "outputId": "b1402a8e-c19f-48a7-a091-c7a949c7f229"
   },
   "outputs": [
    {
     "name": "stdout",
     "output_type": "stream",
     "text": [
      "[[6, 2, 8, 4, 1, 5, 0, 3, 7], [5, 6, 8, 1, 2, 4, 3, 7, 0], [4, 1, 8, 5, 0, 3, 7, 6, 2], [2, 5, 4, 8, 0, 3, 6, 1, 7], [3, 5, 0, 8, 4, 1, 2, 6, 7], [2, 4, 0, 1, 6, 7, 5, 3, 8], [5, 7, 3, 2, 6, 4, 8, 1, 0], [4, 7, 3, 8, 6, 1, 0, 5, 2], [0, 7, 2, 8, 5, 4, 1, 6, 3], [3, 4, 6, 1, 5, 2, 7, 8, 0]]\n"
     ]
    }
   ],
   "source": [
    "findNum = 10\n",
    "randomWalkDistance = 300\n",
    "problemList = []\n",
    "for i in range(10):\n",
    "  state1, sol = RandomWalk(GoalState, 300)\n",
    "  problemList.append(state1)\n",
    "print (problemList)"
   ]
  },
  {
   "cell_type": "markdown",
   "metadata": {
    "id": "TpdrxwA8UvFn"
   },
   "source": [
    "### Breadth First Search w/ Test Problems"
   ]
  },
  {
   "cell_type": "code",
   "execution_count": 119,
   "metadata": {
    "colab": {
     "base_uri": "https://localhost:8080/"
    },
    "id": "xrni2RRIXkfU",
    "outputId": "97d4857e-15eb-4038-f0e7-c1c3b36cfa00"
   },
   "outputs": [
    {
     "name": "stdout",
     "output_type": "stream",
     "text": [
      "['l', 'd', 'l', 'd', 'r', 'u', 'u', 'l', 'd', 'd', 'r', 'u', 'u', 'l', 'd', 'd', 'r', 'r']\n",
      "-----------------------\n",
      "[5, 3, 0, 4, 7, 6, 2, 1, 8] \n",
      "\n",
      "[1, 2, 3, 4, 5, 6, 7, 8, 0]\n",
      "Length of solution:  18\n",
      "Nodes Expanded= 15775\n",
      "-----------------------\n",
      "['l', 'd', 'r', 'u', 'l', 'l', 'd', 'r', 'r', 'u', 'l', 'd', 'r', 'd']\n",
      "-----------------------\n",
      "[3, 2, 0, 1, 5, 4, 7, 8, 6] \n",
      "\n",
      "[1, 2, 3, 4, 5, 6, 7, 8, 0]\n",
      "Length of solution:  14\n",
      "Nodes Expanded= 2645\n",
      "-----------------------\n",
      "['d', 'd', 'r', 'u', 'r', 'd', 'l', 'l', 'u', 'u', 'r', 'd', 'd', 'l', 'u', 'r', 'r', 'd', 'l', 'l', 'u', 'r', 'r', 'd']\n",
      "-----------------------\n",
      "[0, 1, 3, 8, 5, 2, 6, 7, 4] \n",
      "\n",
      "[1, 2, 3, 4, 5, 6, 7, 8, 0]\n",
      "Length of solution:  24\n",
      "Nodes Expanded= 99562\n",
      "-----------------------\n",
      "['u', 'l', 'u', 'l', 'd', 'r', 'r', 'u', 'l', 'd', 'd', 'r', 'u', 'l', 'd', 'l', 'u', 'r', 'u', 'l', 'd', 'r', 'r', 'd']\n",
      "-----------------------\n",
      "[3, 7, 6, 2, 4, 1, 8, 5, 0] \n",
      "\n",
      "[1, 2, 3, 4, 5, 6, 7, 8, 0]\n",
      "Length of solution:  24\n",
      "Nodes Expanded= 102839\n",
      "-----------------------\n",
      "['u', 'r', 'd', 'l', 'd', 'r', 'u', 'l', 'l', 'u', 'r', 'r', 'd', 'l', 'l', 'd', 'r', 'r', 'u', 'l', 'l', 'u', 'r', 'd', 'l', 'd', 'r', 'r']\n",
      "-----------------------\n",
      "[6, 7, 5, 8, 0, 1, 2, 3, 4] \n",
      "\n",
      "[1, 2, 3, 4, 5, 6, 7, 8, 0]\n",
      "Length of solution:  28\n",
      "Nodes Expanded= 176504\n",
      "-----------------------\n",
      "['d', 'l', 'u', 'u', 'r', 'd', 'r', 'u', 'l', 'd', 'd', 'r', 'u', 'l', 'd', 'l', 'u', 'u', 'r', 'r', 'd', 'd']\n",
      "-----------------------\n",
      "[7, 4, 6, 8, 0, 1, 3, 2, 5] \n",
      "\n",
      "[1, 2, 3, 4, 5, 6, 7, 8, 0]\n",
      "Length of solution:  22\n",
      "Nodes Expanded= 70228\n",
      "-----------------------\n",
      "['r', 'r', 'd', 'l', 'l', 'd', 'r', 'r', 'u', 'l', 'u', 'r', 'd', 'l', 'l', 'd', 'r', 'r', 'u', 'l', 'd', 'r']\n",
      "-----------------------\n",
      "[0, 1, 8, 3, 5, 2, 6, 4, 7] \n",
      "\n",
      "[1, 2, 3, 4, 5, 6, 7, 8, 0]\n",
      "Length of solution:  22\n",
      "Nodes Expanded= 71840\n",
      "-----------------------\n",
      "['r', 'r', 'd', 'l', 'd', 'r', 'u', 'l', 'u', 'r', 'd', 'l', 'd', 'r', 'u', 'l', 'l', 'u', 'r', 'r', 'd', 'd']\n",
      "-----------------------\n",
      "[0, 4, 6, 5, 8, 1, 7, 2, 3] \n",
      "\n",
      "[1, 2, 3, 4, 5, 6, 7, 8, 0]\n",
      "Length of solution:  22\n",
      "Nodes Expanded= 71233\n",
      "-----------------------\n",
      "['d', 'r', 'u', 'u', 'l', 'd', 'r', 'd', 'l', 'u', 'l', 'u', 'r', 'r', 'd', 'l', 'u', 'l', 'd', 'd', 'r', 'r']\n",
      "-----------------------\n",
      "[1, 5, 7, 6, 0, 3, 4, 2, 8] \n",
      "\n",
      "[1, 2, 3, 4, 5, 6, 7, 8, 0]\n",
      "Length of solution:  22\n",
      "Nodes Expanded= 72942\n",
      "-----------------------\n",
      "['d', 'd', 'r', 'u', 'l', 'd', 'r', 'r', 'u', 'l', 'l', 'u', 'r', 'r', 'd', 'l', 'u', 'l', 'd', 'r', 'r', 'd']\n",
      "-----------------------\n",
      "[0, 2, 4, 1, 7, 6, 3, 5, 8] \n",
      "\n",
      "[1, 2, 3, 4, 5, 6, 7, 8, 0]\n",
      "Length of solution:  22\n",
      "Nodes Expanded= 56648\n",
      "-----------------------\n",
      "-------\n",
      "[('530476218', 'ldldruulddruulddrr', 15775), ('320154786', 'ldrulldrruldrd', 2645), ('013852674', 'ddrurdlluurddlurrdllurrd', 99562), ('376241850', 'ululdrrulddruldluruldrrd', 102839), ('675801234', 'urdldrullurrdlldrrullurdldrr', 176504), ('746801325', 'dluurdrulddruldluurrdd', 70228), ('018352647', 'rrdlldrrulurdlldrruldr', 71840), ('046581723', 'rrdldrulurdldrullurrdd', 71233), ('157603428', 'druuldrdlulurrdlulddrr', 72942), ('024176358', 'ddruldrrullurrdluldrrd', 56648)]\n"
     ]
    }
   ],
   "source": [
    "testProblems = [[5, 3, 0, 4, 7, 6, 2, 1, 8], [3, 2, 0, 1, 5, 4, 7, 8, 6], [0, 1, 3, 8, 5, 2, 6, 7, 4],\n",
    "                [3, 7, 6, 2, 4, 1, 8, 5, 0], [6, 7, 5, 8, 0, 1, 2, 3, 4], [7, 4, 6, 8, 0, 1, 3, 2, 5],\n",
    "                [0, 1, 8, 3, 5, 2, 6, 4, 7], [0, 4, 6, 5, 8, 1, 7, 2, 3], [1, 5, 7, 6, 0, 3, 4, 2, 8],\n",
    "                [0, 2, 4, 1, 7, 6, 3, 5, 8]]\n",
    "\n",
    "Solutions = []\n",
    "for s in testProblems:\n",
    "  TileSliding.INITIAL = s\n",
    "  ret, cost = BreadthFirstSearch(TileSliding)\n",
    "  sol = Solution(ret)\n",
    "  print (sol)\n",
    "  print (\"-----------------------\")\n",
    "  print (TileSliding.INITIAL,'\\n')\n",
    "  print (ApplyMoves(sol, TileSliding.INITIAL))\n",
    "  print (\"Length of solution: \", len(sol))\n",
    "  print (\"Nodes Expanded=\", cost)\n",
    "  print (\"-----------------------\")\n",
    "  Solutions.append((''.join(map(str, s)), ''.join(sol), cost))\n",
    "print (\"-------\")\n",
    "print (Solutions)\n"
   ]
  },
  {
   "cell_type": "markdown",
   "metadata": {
    "id": "YLVN3sTkU0jw"
   },
   "source": [
    "### Uniform Cost Search w/ Test Problems"
   ]
  },
  {
   "cell_type": "code",
   "execution_count": 120,
   "metadata": {
    "colab": {
     "base_uri": "https://localhost:8080/"
    },
    "id": "LsWVfbeLRYfO",
    "outputId": "8a792c22-bd2c-4f5a-fa73-f1747b47c514"
   },
   "outputs": [
    {
     "name": "stdout",
     "output_type": "stream",
     "text": [
      "['l', 'l', 'd', 'd', 'r', 'u', 'u', 'l', 'd', 'd', 'r', 'u', 'u', 'l', 'd', 'r', 'd', 'r']\n",
      "-----------------------\n",
      "[5, 3, 0, 4, 7, 6, 2, 1, 8] \n",
      "\n",
      "[1, 2, 3, 4, 5, 6, 7, 8, 0]\n",
      "Length of solution:  18\n",
      "Nodes Expanded= 22919\n",
      "-----------------------\n",
      "['l', 'd', 'r', 'u', 'l', 'l', 'd', 'r', 'r', 'u', 'l', 'd', 'r', 'd']\n",
      "-----------------------\n",
      "[3, 2, 0, 1, 5, 4, 7, 8, 6] \n",
      "\n",
      "[1, 2, 3, 4, 5, 6, 7, 8, 0]\n",
      "Length of solution:  14\n",
      "Nodes Expanded= 4754\n",
      "-----------------------\n",
      "['r', 'd', 'd', 'l', 'u', 'r', 'r', 'd', 'l', 'l', 'u', 'u', 'r', 'd', 'r', 'u', 'l', 'l', 'd', 'r', 'u', 'r', 'd', 'd']\n",
      "-----------------------\n",
      "[0, 1, 3, 8, 5, 2, 6, 7, 4] \n",
      "\n",
      "[1, 2, 3, 4, 5, 6, 7, 8, 0]\n",
      "Length of solution:  24\n",
      "Nodes Expanded= 120796\n",
      "-----------------------\n",
      "['u', 'l', 'u', 'l', 'd', 'r', 'r', 'u', 'l', 'd', 'd', 'r', 'u', 'l', 'd', 'l', 'u', 'r', 'u', 'l', 'd', 'r', 'r', 'd']\n",
      "-----------------------\n",
      "[3, 7, 6, 2, 4, 1, 8, 5, 0] \n",
      "\n",
      "[1, 2, 3, 4, 5, 6, 7, 8, 0]\n",
      "Length of solution:  24\n",
      "Nodes Expanded= 121538\n",
      "-----------------------\n",
      "['d', 'l', 'u', 'u', 'r', 'd', 'r', 'u', 'l', 'd', 'l', 'u', 'r', 'r', 'd', 'l', 'd', 'r', 'u', 'u', 'l', 'd', 'd', 'l', 'u', 'r', 'r', 'd']\n",
      "-----------------------\n",
      "[6, 7, 5, 8, 0, 1, 2, 3, 4] \n",
      "\n",
      "[1, 2, 3, 4, 5, 6, 7, 8, 0]\n",
      "Length of solution:  28\n",
      "Nodes Expanded= 179157\n",
      "-----------------------\n",
      "['d', 'l', 'u', 'u', 'r', 'd', 'r', 'u', 'l', 'd', 'd', 'r', 'u', 'l', 'd', 'l', 'u', 'u', 'r', 'r', 'd', 'd']\n",
      "-----------------------\n",
      "[7, 4, 6, 8, 0, 1, 3, 2, 5] \n",
      "\n",
      "[1, 2, 3, 4, 5, 6, 7, 8, 0]\n",
      "Length of solution:  22\n",
      "Nodes Expanded= 92946\n",
      "-----------------------\n",
      "['r', 'r', 'd', 'l', 'l', 'd', 'r', 'r', 'u', 'l', 'l', 'd', 'r', 'u', 'u', 'r', 'd', 'd', 'l', 'u', 'r', 'd']\n",
      "-----------------------\n",
      "[0, 1, 8, 3, 5, 2, 6, 4, 7] \n",
      "\n",
      "[1, 2, 3, 4, 5, 6, 7, 8, 0]\n",
      "Length of solution:  22\n",
      "Nodes Expanded= 72788\n",
      "-----------------------\n",
      "['r', 'r', 'd', 'l', 'd', 'r', 'u', 'l', 'u', 'r', 'd', 'l', 'd', 'r', 'u', 'l', 'l', 'u', 'r', 'r', 'd', 'd']\n",
      "-----------------------\n",
      "[0, 4, 6, 5, 8, 1, 7, 2, 3] \n",
      "\n",
      "[1, 2, 3, 4, 5, 6, 7, 8, 0]\n",
      "Length of solution:  22\n",
      "Nodes Expanded= 82015\n",
      "-----------------------\n",
      "['r', 'u', 'l', 'd', 'r', 'd', 'l', 'u', 'l', 'd', 'r', 'u', 'r', 'd', 'l', 'u', 'r', 'u', 'l', 'd', 'r', 'd']\n",
      "-----------------------\n",
      "[1, 5, 7, 6, 0, 3, 4, 2, 8] \n",
      "\n",
      "[1, 2, 3, 4, 5, 6, 7, 8, 0]\n",
      "Length of solution:  22\n",
      "Nodes Expanded= 86853\n",
      "-----------------------\n",
      "['d', 'r', 'd', 'l', 'u', 'u', 'r', 'd', 'd', 'r', 'u', 'u', 'l', 'd', 'r', 'u', 'l', 'l', 'd', 'r', 'r', 'd']\n",
      "-----------------------\n",
      "[0, 2, 4, 1, 7, 6, 3, 5, 8] \n",
      "\n",
      "[1, 2, 3, 4, 5, 6, 7, 8, 0]\n",
      "Length of solution:  22\n",
      "Nodes Expanded= 77754\n",
      "-----------------------\n",
      "-------\n",
      "[('530476218', 'llddruulddruuldrdr', 22919), ('320154786', 'ldrulldrruldrd', 4754), ('013852674', 'rddlurrdlluurdrulldrurdd', 120796), ('376241850', 'ululdrrulddruldluruldrrd', 121538), ('675801234', 'dluurdruldlurrdldruulddlurrd', 179157), ('746801325', 'dluurdrulddruldluurrdd', 92946), ('018352647', 'rrdlldrrulldruurddlurd', 72788), ('046581723', 'rrdldrulurdldrullurrdd', 82015), ('157603428', 'ruldrdluldrurdluruldrd', 86853), ('024176358', 'drdluurddruuldrulldrrd', 77754)]\n"
     ]
    }
   ],
   "source": [
    "UniformCostF = lambda n: n.PathCost\n",
    "testProblems = [[5, 3, 0, 4, 7, 6, 2, 1, 8], [3, 2, 0, 1, 5, 4, 7, 8, 6], [0, 1, 3, 8, 5, 2, 6, 7, 4],\n",
    "                [3, 7, 6, 2, 4, 1, 8, 5, 0], [6, 7, 5, 8, 0, 1, 2, 3, 4], [7, 4, 6, 8, 0, 1, 3, 2, 5],\n",
    "                [0, 1, 8, 3, 5, 2, 6, 4, 7], [0, 4, 6, 5, 8, 1, 7, 2, 3], [1, 5, 7, 6, 0, 3, 4, 2, 8],\n",
    "                [0, 2, 4, 1, 7, 6, 3, 5, 8]]\n",
    "\n",
    "Solutions = []\n",
    "for s in testProblems:\n",
    "  TileSliding.INITIAL = s\n",
    "  ret, cost = BestFirstSearch(TileSliding, UniformCostF)\n",
    "  sol = Solution(ret)\n",
    "  print (sol)\n",
    "  print (\"-----------------------\")\n",
    "  print (TileSliding.INITIAL,'\\n')\n",
    "  print (ApplyMoves(sol, TileSliding.INITIAL))\n",
    "  print (\"Length of solution: \", len(sol))\n",
    "  print (\"Nodes Expanded=\", cost)\n",
    "  print (\"-----------------------\")\n",
    "  Solutions.append((''.join(map(str, s)), ''.join(sol), cost))\n",
    "print (\"-------\")\n",
    "print (Solutions)"
   ]
  },
  {
   "cell_type": "markdown",
   "metadata": {
    "id": "p8yiFsHoU6sf"
   },
   "source": [
    "### AStar using ManhattanDistance w/ Test Problems"
   ]
  },
  {
   "cell_type": "code",
   "execution_count": 121,
   "metadata": {
    "colab": {
     "base_uri": "https://localhost:8080/"
    },
    "id": "6VD8LuUJRhxU",
    "outputId": "b652997e-932b-430e-f6c7-471867a4df52"
   },
   "outputs": [
    {
     "name": "stdout",
     "output_type": "stream",
     "text": [
      "['l', 'l', 'd', 'd', 'r', 'u', 'u', 'l', 'd', 'd', 'r', 'u', 'u', 'l', 'd', 'r', 'd', 'r']\n",
      "-----------------------\n",
      "[5, 3, 0, 4, 7, 6, 2, 1, 8] \n",
      "\n",
      "[1, 2, 3, 4, 5, 6, 7, 8, 0]\n",
      "Length of solution:  18\n",
      "Nodes Expanded= 251\n",
      "-----------------------\n",
      "['l', 'd', 'r', 'u', 'l', 'l', 'd', 'r', 'r', 'u', 'l', 'd', 'r', 'd']\n",
      "-----------------------\n",
      "[3, 2, 0, 1, 5, 4, 7, 8, 6] \n",
      "\n",
      "[1, 2, 3, 4, 5, 6, 7, 8, 0]\n",
      "Length of solution:  14\n",
      "Nodes Expanded= 92\n",
      "-----------------------\n",
      "['d', 'd', 'r', 'u', 'r', 'd', 'l', 'l', 'u', 'u', 'r', 'd', 'd', 'l', 'u', 'r', 'r', 'd', 'l', 'l', 'u', 'r', 'r', 'd']\n",
      "-----------------------\n",
      "[0, 1, 3, 8, 5, 2, 6, 7, 4] \n",
      "\n",
      "[1, 2, 3, 4, 5, 6, 7, 8, 0]\n",
      "Length of solution:  24\n",
      "Nodes Expanded= 2798\n",
      "-----------------------\n",
      "['u', 'l', 'u', 'l', 'd', 'r', 'r', 'u', 'l', 'd', 'd', 'r', 'u', 'l', 'd', 'l', 'u', 'r', 'u', 'l', 'd', 'r', 'r', 'd']\n",
      "-----------------------\n",
      "[3, 7, 6, 2, 4, 1, 8, 5, 0] \n",
      "\n",
      "[1, 2, 3, 4, 5, 6, 7, 8, 0]\n",
      "Length of solution:  24\n",
      "Nodes Expanded= 1769\n",
      "-----------------------\n",
      "['d', 'l', 'u', 'u', 'r', 'd', 'r', 'u', 'l', 'd', 'l', 'u', 'r', 'r', 'd', 'l', 'd', 'r', 'u', 'u', 'l', 'd', 'd', 'l', 'u', 'r', 'r', 'd']\n",
      "-----------------------\n",
      "[6, 7, 5, 8, 0, 1, 2, 3, 4] \n",
      "\n",
      "[1, 2, 3, 4, 5, 6, 7, 8, 0]\n",
      "Length of solution:  28\n",
      "Nodes Expanded= 7654\n",
      "-----------------------\n",
      "['d', 'l', 'u', 'u', 'r', 'd', 'r', 'u', 'l', 'd', 'd', 'r', 'u', 'l', 'd', 'l', 'u', 'u', 'r', 'r', 'd', 'd']\n",
      "-----------------------\n",
      "[7, 4, 6, 8, 0, 1, 3, 2, 5] \n",
      "\n",
      "[1, 2, 3, 4, 5, 6, 7, 8, 0]\n",
      "Length of solution:  22\n",
      "Nodes Expanded= 641\n",
      "-----------------------\n",
      "['r', 'r', 'd', 'l', 'l', 'd', 'r', 'r', 'u', 'l', 'u', 'r', 'd', 'l', 'l', 'd', 'r', 'r', 'u', 'l', 'd', 'r']\n",
      "-----------------------\n",
      "[0, 1, 8, 3, 5, 2, 6, 4, 7] \n",
      "\n",
      "[1, 2, 3, 4, 5, 6, 7, 8, 0]\n",
      "Length of solution:  22\n",
      "Nodes Expanded= 570\n",
      "-----------------------\n",
      "['r', 'r', 'd', 'l', 'd', 'r', 'u', 'l', 'u', 'r', 'd', 'l', 'd', 'r', 'u', 'l', 'l', 'u', 'r', 'r', 'd', 'd']\n",
      "-----------------------\n",
      "[0, 4, 6, 5, 8, 1, 7, 2, 3] \n",
      "\n",
      "[1, 2, 3, 4, 5, 6, 7, 8, 0]\n",
      "Length of solution:  22\n",
      "Nodes Expanded= 1020\n",
      "-----------------------\n",
      "['r', 'u', 'l', 'd', 'd', 'r', 'u', 'u', 'l', 'd', 'd', 'r', 'u', 'l', 'l', 'd', 'r', 'r', 'u', 'l', 'd', 'r']\n",
      "-----------------------\n",
      "[1, 5, 7, 6, 0, 3, 4, 2, 8] \n",
      "\n",
      "[1, 2, 3, 4, 5, 6, 7, 8, 0]\n",
      "Length of solution:  22\n",
      "Nodes Expanded= 1378\n",
      "-----------------------\n",
      "['d', 'r', 'd', 'l', 'u', 'r', 'd', 'r', 'u', 'l', 'l', 'u', 'r', 'r', 'd', 'l', 'u', 'l', 'd', 'r', 'r', 'd']\n",
      "-----------------------\n",
      "[0, 2, 4, 1, 7, 6, 3, 5, 8] \n",
      "\n",
      "[1, 2, 3, 4, 5, 6, 7, 8, 0]\n",
      "Length of solution:  22\n",
      "Nodes Expanded= 1090\n",
      "-----------------------\n",
      "-------\n",
      "[('530476218', 'llddruulddruuldrdr', 251), ('320154786', 'ldrulldrruldrd', 92), ('013852674', 'ddrurdlluurddlurrdllurrd', 2798), ('376241850', 'ululdrrulddruldluruldrrd', 1769), ('675801234', 'dluurdruldlurrdldruulddlurrd', 7654), ('746801325', 'dluurdrulddruldluurrdd', 641), ('018352647', 'rrdlldrrulurdlldrruldr', 570), ('046581723', 'rrdldrulurdldrullurrdd', 1020), ('157603428', 'rulddruulddrulldrruldr', 1378), ('024176358', 'drdlurdrullurrdluldrrd', 1090)]\n"
     ]
    }
   ],
   "source": [
    "AStarFb = lambda n: n.PathCost + Manhattan(n.State, GoalState)\n",
    "testProblems = [[5, 3, 0, 4, 7, 6, 2, 1, 8], [3, 2, 0, 1, 5, 4, 7, 8, 6], [0, 1, 3, 8, 5, 2, 6, 7, 4],\n",
    "                [3, 7, 6, 2, 4, 1, 8, 5, 0], [6, 7, 5, 8, 0, 1, 2, 3, 4], [7, 4, 6, 8, 0, 1, 3, 2, 5],\n",
    "                [0, 1, 8, 3, 5, 2, 6, 4, 7], [0, 4, 6, 5, 8, 1, 7, 2, 3], [1, 5, 7, 6, 0, 3, 4, 2, 8],\n",
    "                [0, 2, 4, 1, 7, 6, 3, 5, 8]]\n",
    "\n",
    "Solutions = []\n",
    "for s in testProblems:\n",
    "  TileSliding.INITIAL = s\n",
    "  ret, cost = BestFirstSearch(TileSliding, AStarF)\n",
    "  sol = Solution(ret)\n",
    "  print (sol)\n",
    "  print (\"-----------------------\")\n",
    "  print (TileSliding.INITIAL,'\\n')\n",
    "  print (ApplyMoves(sol, TileSliding.INITIAL))\n",
    "  print (\"Length of solution: \", len(sol))\n",
    "  print (\"Nodes Expanded=\", cost)\n",
    "  print (\"-----------------------\")\n",
    "  Solutions.append((''.join(map(str, s)), ''.join(sol), cost))\n",
    "print (\"-------\")\n",
    "print (Solutions)"
   ]
  },
  {
   "cell_type": "markdown",
   "metadata": {
    "id": "dluzNjyYVBSl"
   },
   "source": [
    "### AStar using OutOfPlace w/ Test Problems"
   ]
  },
  {
   "cell_type": "code",
   "execution_count": 122,
   "metadata": {
    "colab": {
     "base_uri": "https://localhost:8080/"
    },
    "id": "m7icYl-JUGbR",
    "outputId": "180b55bc-3d50-414b-ede3-319a59b83b78"
   },
   "outputs": [
    {
     "name": "stdout",
     "output_type": "stream",
     "text": [
      "['l', 'd', 'l', 'd', 'r', 'u', 'u', 'l', 'd', 'd', 'r', 'u', 'u', 'l', 'd', 'd', 'r', 'r']\n",
      "-----------------------\n",
      "[5, 3, 0, 4, 7, 6, 2, 1, 8] \n",
      "\n",
      "[1, 2, 3, 4, 5, 6, 7, 8, 0]\n",
      "Length of solution:  18\n",
      "Nodes Expanded= 1319\n",
      "-----------------------\n",
      "['l', 'd', 'r', 'u', 'l', 'l', 'd', 'r', 'r', 'u', 'l', 'd', 'r', 'd']\n",
      "-----------------------\n",
      "[3, 2, 0, 1, 5, 4, 7, 8, 6] \n",
      "\n",
      "[1, 2, 3, 4, 5, 6, 7, 8, 0]\n",
      "Length of solution:  14\n",
      "Nodes Expanded= 242\n",
      "-----------------------\n",
      "['d', 'd', 'r', 'u', 'r', 'd', 'l', 'l', 'u', 'u', 'r', 'd', 'd', 'l', 'u', 'r', 'r', 'd', 'l', 'l', 'u', 'r', 'r', 'd']\n",
      "-----------------------\n",
      "[0, 1, 3, 8, 5, 2, 6, 7, 4] \n",
      "\n",
      "[1, 2, 3, 4, 5, 6, 7, 8, 0]\n",
      "Length of solution:  24\n",
      "Nodes Expanded= 18751\n",
      "-----------------------\n",
      "['u', 'l', 'u', 'l', 'd', 'r', 'r', 'u', 'l', 'd', 'd', 'r', 'u', 'l', 'd', 'l', 'u', 'r', 'u', 'l', 'd', 'r', 'r', 'd']\n",
      "-----------------------\n",
      "[3, 7, 6, 2, 4, 1, 8, 5, 0] \n",
      "\n",
      "[1, 2, 3, 4, 5, 6, 7, 8, 0]\n",
      "Length of solution:  24\n",
      "Nodes Expanded= 17913\n",
      "-----------------------\n",
      "['r', 'd', 'l', 'u', 'l', 'd', 'r', 'u', 'r', 'd', 'l', 'u', 'u', 'l', 'd', 'd', 'r', 'u', 'u', 'r', 'd', 'l', 'u', 'l', 'd', 'd', 'r', 'r']\n",
      "-----------------------\n",
      "[6, 7, 5, 8, 0, 1, 2, 3, 4] \n",
      "\n",
      "[1, 2, 3, 4, 5, 6, 7, 8, 0]\n",
      "Length of solution:  28\n",
      "Nodes Expanded= 82106\n",
      "-----------------------\n",
      "['d', 'l', 'u', 'u', 'r', 'd', 'r', 'u', 'l', 'd', 'd', 'r', 'u', 'l', 'd', 'l', 'u', 'u', 'r', 'r', 'd', 'd']\n",
      "-----------------------\n",
      "[7, 4, 6, 8, 0, 1, 3, 2, 5] \n",
      "\n",
      "[1, 2, 3, 4, 5, 6, 7, 8, 0]\n",
      "Length of solution:  22\n",
      "Nodes Expanded= 9167\n",
      "-----------------------\n",
      "['r', 'r', 'd', 'l', 'l', 'd', 'r', 'r', 'u', 'l', 'u', 'r', 'd', 'l', 'l', 'd', 'r', 'r', 'u', 'l', 'd', 'r']\n",
      "-----------------------\n",
      "[0, 1, 8, 3, 5, 2, 6, 4, 7] \n",
      "\n",
      "[1, 2, 3, 4, 5, 6, 7, 8, 0]\n",
      "Length of solution:  22\n",
      "Nodes Expanded= 7533\n",
      "-----------------------\n",
      "['r', 'r', 'd', 'l', 'd', 'r', 'u', 'l', 'u', 'r', 'd', 'l', 'd', 'r', 'u', 'l', 'l', 'u', 'r', 'r', 'd', 'd']\n",
      "-----------------------\n",
      "[0, 4, 6, 5, 8, 1, 7, 2, 3] \n",
      "\n",
      "[1, 2, 3, 4, 5, 6, 7, 8, 0]\n",
      "Length of solution:  22\n",
      "Nodes Expanded= 8021\n",
      "-----------------------\n",
      "['r', 'u', 'l', 'd', 'd', 'r', 'u', 'u', 'l', 'd', 'd', 'r', 'u', 'l', 'l', 'd', 'r', 'r', 'u', 'l', 'd', 'r']\n",
      "-----------------------\n",
      "[1, 5, 7, 6, 0, 3, 4, 2, 8] \n",
      "\n",
      "[1, 2, 3, 4, 5, 6, 7, 8, 0]\n",
      "Length of solution:  22\n",
      "Nodes Expanded= 10011\n",
      "-----------------------\n",
      "['d', 'r', 'd', 'r', 'u', 'u', 'l', 'd', 'r', 'd', 'l', 'l', 'u', 'r', 'd', 'r', 'u', 'l', 'u', 'r', 'd', 'd']\n",
      "-----------------------\n",
      "[0, 2, 4, 1, 7, 6, 3, 5, 8] \n",
      "\n",
      "[1, 2, 3, 4, 5, 6, 7, 8, 0]\n",
      "Length of solution:  22\n",
      "Nodes Expanded= 8014\n",
      "-----------------------\n",
      "-------\n",
      "[('530476218', 'ldldruulddruulddrr', 1319), ('320154786', 'ldrulldrruldrd', 242), ('013852674', 'ddrurdlluurddlurrdllurrd', 18751), ('376241850', 'ululdrrulddruldluruldrrd', 17913), ('675801234', 'rdluldrurdluulddruurdlulddrr', 82106), ('746801325', 'dluurdrulddruldluurrdd', 9167), ('018352647', 'rrdlldrrulurdlldrruldr', 7533), ('046581723', 'rrdldrulurdldrullurrdd', 8021), ('157603428', 'rulddruulddrulldrruldr', 10011), ('024176358', 'drdruuldrdllurdrulurdd', 8014)]\n"
     ]
    }
   ],
   "source": [
    "AStarFb = lambda n: n.PathCost + OutOfPlace(n.State, GoalState)\n",
    "testProblems = [[5, 3, 0, 4, 7, 6, 2, 1, 8], [3, 2, 0, 1, 5, 4, 7, 8, 6], [0, 1, 3, 8, 5, 2, 6, 7, 4],\n",
    "                [3, 7, 6, 2, 4, 1, 8, 5, 0], [6, 7, 5, 8, 0, 1, 2, 3, 4], [7, 4, 6, 8, 0, 1, 3, 2, 5],\n",
    "                [0, 1, 8, 3, 5, 2, 6, 4, 7], [0, 4, 6, 5, 8, 1, 7, 2, 3], [1, 5, 7, 6, 0, 3, 4, 2, 8],\n",
    "                [0, 2, 4, 1, 7, 6, 3, 5, 8]]\n",
    "\n",
    "Solutions = []\n",
    "for s in testProblems:\n",
    "  TileSliding.INITIAL = s\n",
    "  ret, cost = BestFirstSearch(TileSliding, AStarFb)\n",
    "  sol = Solution(ret)\n",
    "  print (sol)\n",
    "  print (\"-----------------------\")\n",
    "  print (TileSliding.INITIAL,'\\n')\n",
    "  print (ApplyMoves(sol, TileSliding.INITIAL))\n",
    "  print (\"Length of solution: \", len(sol))\n",
    "  print (\"Nodes Expanded=\", cost)\n",
    "  print (\"-----------------------\")\n",
    "  Solutions.append((''.join(map(str, s)), ''.join(sol), cost))\n",
    "print (\"-------\")\n",
    "print (Solutions)"
   ]
  },
  {
   "cell_type": "markdown",
   "metadata": {
    "id": "TEBWJx6DwN-r"
   },
   "source": [
    "### Best First Search -- Greedy"
   ]
  },
  {
   "cell_type": "code",
   "execution_count": 123,
   "metadata": {
    "colab": {
     "base_uri": "https://localhost:8080/"
    },
    "id": "fI27-Y5ivXdw",
    "outputId": "0e78f087-b7ea-433a-9fa2-3aad3e5d5b03"
   },
   "outputs": [
    {
     "name": "stdout",
     "output_type": "stream",
     "text": [
      "['l', 'l', 'd', 'd', 'r', 'u', 'u', 'l', 'd', 'd', 'r', 'u', 'u', 'l', 'd', 'r', 'd', 'r']\n",
      "-----------------------\n",
      "[5, 3, 0, 4, 7, 6, 2, 1, 8] \n",
      "\n",
      "[1, 2, 3, 4, 5, 6, 7, 8, 0]\n",
      "Length of solution:  18\n",
      "Nodes Expanded= 52\n",
      "-----------------------\n",
      "['l', 'l', 'd', 'r', 'u', 'r', 'd', 'l', 'l', 'u', 'r', 'r', 'd', 'l', 'u', 'l', 'd', 'r', 'r', 'd']\n",
      "-----------------------\n",
      "[3, 2, 0, 1, 5, 4, 7, 8, 6] \n",
      "\n",
      "[1, 2, 3, 4, 5, 6, 7, 8, 0]\n",
      "Length of solution:  20\n",
      "Nodes Expanded= 196\n",
      "-----------------------\n",
      "['r', 'd', 'd', 'l', 'u', 'r', 'r', 'd', 'l', 'l', 'u', 'r', 'r', 'd', 'l', 'l', 'u', 'r', 'u', 'l', 'd', 'd', 'r', 'u', 'l', 'u', 'r', 'd', 'd', 'r']\n",
      "-----------------------\n",
      "[0, 1, 3, 8, 5, 2, 6, 7, 4] \n",
      "\n",
      "[1, 2, 3, 4, 5, 6, 7, 8, 0]\n",
      "Length of solution:  30\n",
      "Nodes Expanded= 380\n",
      "-----------------------\n",
      "['u', 'u', 'l', 'l', 'd', 'r', 'd', 'r', 'u', 'u', 'l', 'd', 'd', 'l', 'u', 'r', 'u', 'l', 'd', 'r', 'r', 'd', 'l', 'u', 'l', 'd', 'r', 'r']\n",
      "-----------------------\n",
      "[3, 7, 6, 2, 4, 1, 8, 5, 0] \n",
      "\n",
      "[1, 2, 3, 4, 5, 6, 7, 8, 0]\n",
      "Length of solution:  28\n",
      "Nodes Expanded= 609\n",
      "-----------------------\n",
      "['l', 'd', 'r', 'u', 'r', 'u', 'l', 'l', 'd', 'r', 'r', 'u', 'l', 'l', 'd', 'r', 'd', 'l', 'u', 'r', 'r', 'd', 'l', 'l', 'u', 'r', 'd', 'l', 'u', 'r', 'r', 'd', 'l', 'u', 'r', 'u', 'l', 'd', 'd', 'r', 'u', 'l', 'u', 'r', 'd', 'l', 'l', 'u', 'r', 'r', 'd', 'l', 'u', 'l', 'd', 'r', 'r', 'd']\n",
      "-----------------------\n",
      "[6, 7, 5, 8, 0, 1, 2, 3, 4] \n",
      "\n",
      "[1, 2, 3, 4, 5, 6, 7, 8, 0]\n",
      "Length of solution:  58\n",
      "Nodes Expanded= 1753\n",
      "-----------------------\n",
      "['r', 'u', 'l', 'd', 'l', 'u', 'r', 'd', 'd', 'l', 'u', 'r', 'd', 'r', 'u', 'l', 'u', 'r', 'd', 'd', 'l', 'u', 'u', 'l', 'd', 'r', 'u', 'r', 'd', 'l', 'u', 'l', 'd', 'r', 'r', 'u', 'l', 'd', 'l', 'u', 'r', 'r', 'd', 'd', 'l', 'u', 'r', 'u', 'l', 'd', 'd', 'r', 'u', 'l', 'u', 'r', 'd', 'd']\n",
      "-----------------------\n",
      "[7, 4, 6, 8, 0, 1, 3, 2, 5] \n",
      "\n",
      "[1, 2, 3, 4, 5, 6, 7, 8, 0]\n",
      "Length of solution:  58\n",
      "Nodes Expanded= 365\n",
      "-----------------------\n",
      "['r', 'd', 'r', 'u', 'l', 'd', 'l', 'd', 'r', 'r', 'u', 'l', 'l', 'd', 'r', 'u', 'r', 'u', 'l', 'd', 'd', 'r', 'u', 'l', 'u', 'r', 'd', 'd', 'l', 'u', 'r', 'u', 'l', 'd', 'd', 'r', 'u', 'l', 'u', 'r', 'd', 'd']\n",
      "-----------------------\n",
      "[0, 1, 8, 3, 5, 2, 6, 4, 7] \n",
      "\n",
      "[1, 2, 3, 4, 5, 6, 7, 8, 0]\n",
      "Length of solution:  42\n",
      "Nodes Expanded= 696\n",
      "-----------------------\n",
      "['r', 'd', 'l', 'u', 'r', 'r', 'd', 'd', 'l', 'u', 'u', 'r', 'd', 'l', 'd', 'l', 'u', 'u', 'r', 'd', 'l', 'd', 'r', 'u', 'u', 'r', 'd', 'd', 'l', 'u', 'r', 'u', 'l', 'd', 'd', 'r']\n",
      "-----------------------\n",
      "[0, 4, 6, 5, 8, 1, 7, 2, 3] \n",
      "\n",
      "[1, 2, 3, 4, 5, 6, 7, 8, 0]\n",
      "Length of solution:  36\n",
      "Nodes Expanded= 386\n",
      "-----------------------\n",
      "['u', 'r', 'd', 'l', 'l', 'd', 'r', 'u', 'r', 'd', 'l', 'u', 'u', 'r', 'd', 'l', 'd', 'r', 'u', 'u', 'l', 'd', 'd', 'r', 'u', 'l', 'u', 'l', 'd', 'd', 'r', 'u', 'l', 'u', 'r', 'd', 'd', 'r']\n",
      "-----------------------\n",
      "[1, 5, 7, 6, 0, 3, 4, 2, 8] \n",
      "\n",
      "[1, 2, 3, 4, 5, 6, 7, 8, 0]\n",
      "Length of solution:  38\n",
      "Nodes Expanded= 1232\n",
      "-----------------------\n",
      "['d', 'r', 'd', 'l', 'u', 'r', 'd', 'r', 'u', 'l', 'l', 'u', 'r', 'r', 'd', 'l', 'u', 'l', 'd', 'r', 'r', 'd']\n",
      "-----------------------\n",
      "[0, 2, 4, 1, 7, 6, 3, 5, 8] \n",
      "\n",
      "[1, 2, 3, 4, 5, 6, 7, 8, 0]\n",
      "Length of solution:  22\n",
      "Nodes Expanded= 111\n",
      "-----------------------\n",
      "-------\n",
      "[('530476218', 'llddruulddruuldrdr', 52), ('320154786', 'lldrurdllurrdluldrrd', 196), ('013852674', 'rddlurrdllurrdllurulddrulurddr', 380), ('376241850', 'uulldrdruulddluruldrrdluldrr', 609), ('675801234', 'ldrurulldrrulldrdlurrdllurdlurrdlurulddrulurdllurrdluldrrd', 1753), ('746801325', 'ruldlurddlurdrulurddluuldrurdluldrruldlurrddlurulddrulurdd', 365), ('018352647', 'rdruldldrrulldrurulddrulurddlurulddrulurdd', 696), ('046581723', 'rdlurrddluurdldluurdldruurddlurulddr', 386), ('157603428', 'urdlldrurdluurdldruulddrululddrulurddr', 1232), ('024176358', 'drdlurdrullurrdluldrrd', 111)]\n"
     ]
    }
   ],
   "source": [
    "### Best First\n",
    "bestFirstSearchf = lambda n: OutOfPlace(n.State, GoalState)\n",
    "testProblems = [[5, 3, 0, 4, 7, 6, 2, 1, 8], [3, 2, 0, 1, 5, 4, 7, 8, 6], [0, 1, 3, 8, 5, 2, 6, 7, 4],\n",
    "                [3, 7, 6, 2, 4, 1, 8, 5, 0], [6, 7, 5, 8, 0, 1, 2, 3, 4], [7, 4, 6, 8, 0, 1, 3, 2, 5],\n",
    "                [0, 1, 8, 3, 5, 2, 6, 4, 7], [0, 4, 6, 5, 8, 1, 7, 2, 3], [1, 5, 7, 6, 0, 3, 4, 2, 8],\n",
    "                [0, 2, 4, 1, 7, 6, 3, 5, 8]]\n",
    "\n",
    "Solutions = []\n",
    "for s in testProblems:\n",
    "  TileSliding.INITIAL = s\n",
    "  ret, cost = BestFirstSearch(TileSliding, bestFirstSearchf)\n",
    "  sol = Solution(ret)\n",
    "  print (sol)\n",
    "  print (\"-----------------------\")\n",
    "  print (TileSliding.INITIAL,'\\n')\n",
    "  print (ApplyMoves(sol, TileSliding.INITIAL))\n",
    "  print (\"Length of solution: \", len(sol))\n",
    "  print (\"Nodes Expanded=\", cost)\n",
    "  print (\"-----------------------\")\n",
    "  Solutions.append((''.join(map(str, s)), ''.join(sol), cost))\n",
    "print (\"-------\")\n",
    "print (Solutions)"
   ]
  },
  {
   "cell_type": "code",
   "execution_count": 124,
   "metadata": {
    "colab": {
     "base_uri": "https://localhost:8080/"
    },
    "id": "rQw9QKTCMvBY",
    "outputId": "84ee3def-78b4-4ea9-fde8-ce90a4f7fb2d"
   },
   "outputs": [
    {
     "name": "stdout",
     "output_type": "stream",
     "text": [
      "['l', 'l', 'd', 'd', 'r', 'u', 'l', 'd', 'r', 'u', 'l', 'u', 'r', 'd', 'd', 'l', 'u', 'u', 'r', 'd', 'l', 'd', 'r', 'r']\n",
      "-----------------------\n",
      "[5, 3, 0, 4, 7, 6, 2, 1, 8] \n",
      "\n",
      "[1, 2, 3, 4, 5, 6, 7, 8, 0]\n",
      "Length of solution:  24\n",
      "Nodes Expanded= 263\n",
      "-----------------------\n",
      "['l', 'l', 'd', 'r', 'u', 'r', 'd', 'l', 'l', 'u', 'r', 'r', 'd', 'l', 'u', 'l', 'd', 'r', 'r', 'd']\n",
      "-----------------------\n",
      "[3, 2, 0, 1, 5, 4, 7, 8, 6] \n",
      "\n",
      "[1, 2, 3, 4, 5, 6, 7, 8, 0]\n",
      "Length of solution:  20\n",
      "Nodes Expanded= 193\n",
      "-----------------------\n",
      "['r', 'd', 'l', 'd', 'r', 'u', 'u', 'r', 'd', 'd', 'l', 'u', 'r', 'u', 'l', 'd', 'l', 'u', 'r', 'r', 'd', 'l', 'd', 'r', 'u', 'u', 'l', 'l', 'd', 'r', 'r', 'u', 'l', 'd', 'l', 'u', 'r', 'r', 'd', 'l', 'u', 'l', 'd', 'r', 'r', 'd']\n",
      "-----------------------\n",
      "[0, 1, 3, 8, 5, 2, 6, 7, 4] \n",
      "\n",
      "[1, 2, 3, 4, 5, 6, 7, 8, 0]\n",
      "Length of solution:  46\n",
      "Nodes Expanded= 412\n",
      "-----------------------\n",
      "['u', 'u', 'l', 'l', 'd', 'r', 'd', 'r', 'u', 'u', 'l', 'd', 'd', 'l', 'u', 'r', 'u', 'l', 'd', 'r', 'r', 'd', 'l', 'u', 'l', 'd', 'r', 'r']\n",
      "-----------------------\n",
      "[3, 7, 6, 2, 4, 1, 8, 5, 0] \n",
      "\n",
      "[1, 2, 3, 4, 5, 6, 7, 8, 0]\n",
      "Length of solution:  28\n",
      "Nodes Expanded= 38\n",
      "-----------------------\n",
      "['u', 'r', 'd', 'd', 'l', 'u', 'l', 'd', 'r', 'u', 'u', 'l', 'd', 'r', 'u', 'r', 'd', 'l', 'l', 'u', 'r', 'r', 'd', 'l', 'u', 'l', 'd', 'r', 'r', 'd', 'l', 'u', 'r', 'u', 'l', 'd', 'd', 'r', 'u', 'u', 'l', 'l', 'd', 'r', 'r', 'u', 'l', 'd', 'l', 'u', 'r', 'r', 'd', 'd']\n",
      "-----------------------\n",
      "[6, 7, 5, 8, 0, 1, 2, 3, 4] \n",
      "\n",
      "[1, 2, 3, 4, 5, 6, 7, 8, 0]\n",
      "Length of solution:  54\n",
      "Nodes Expanded= 362\n",
      "-----------------------\n",
      "['l', 'u', 'r', 'd', 'd', 'l', 'u', 'u', 'r', 'd', 'r', 'd', 'l', 'u', 'r', 'u', 'l', 'l', 'd', 'r', 'u', 'r', 'd', 'd', 'l', 'u', 'l', 'u', 'r', 'r', 'd', 'd', 'l', 'u', 'u', 'r', 'd', 'l', 'd', 'r', 'u', 'u', 'l', 'd', 'r', 'd', 'l', 'l', 'u', 'r', 'u', 'l', 'd', 'd', 'r', 'r']\n",
      "-----------------------\n",
      "[7, 4, 6, 8, 0, 1, 3, 2, 5] \n",
      "\n",
      "[1, 2, 3, 4, 5, 6, 7, 8, 0]\n",
      "Length of solution:  56\n",
      "Nodes Expanded= 205\n",
      "-----------------------\n",
      "['d', 'd', 'r', 'r', 'u', 'u', 'l', 'l', 'd', 'd', 'r', 'r', 'u', 'l', 'd', 'r', 'u', 'u', 'l', 'd', 'r', 'u', 'l', 'd', 'l', 'u', 'r', 'r', 'd', 'd', 'l', 'u', 'l', 'd', 'r', 'r', 'u', 'l', 'l', 'd', 'r', 'r', 'u', 'l', 'd', 'l', 'u', 'r', 'r', 'd', 'l', 'u', 'l', 'd', 'r', 'r']\n",
      "-----------------------\n",
      "[0, 1, 8, 3, 5, 2, 6, 4, 7] \n",
      "\n",
      "[1, 2, 3, 4, 5, 6, 7, 8, 0]\n",
      "Length of solution:  56\n",
      "Nodes Expanded= 180\n",
      "-----------------------\n",
      "['r', 'd', 'r', 'u', 'l', 'd', 'l', 'u', 'r', 'r', 'd', 'd', 'l', 'u', 'u', 'r', 'd', 'd', 'l', 'u', 'r', 'u', 'l', 'd', 'r', 'd', 'l', 'u', 'r', 'u', 'l', 'd', 'd', 'r', 'u', 'l', 'u', 'r', 'd', 'd']\n",
      "-----------------------\n",
      "[0, 4, 6, 5, 8, 1, 7, 2, 3] \n",
      "\n",
      "[1, 2, 3, 4, 5, 6, 7, 8, 0]\n",
      "Length of solution:  40\n",
      "Nodes Expanded= 184\n",
      "-----------------------\n",
      "['u', 'r', 'd', 'l', 'l', 'd', 'r', 'r', 'u', 'l', 'u', 'r', 'd', 'd', 'l', 'u', 'r', 'u', 'l', 'l', 'd', 'd', 'r', 'u', 'l', 'u', 'r', 'd', 'd', 'r']\n",
      "-----------------------\n",
      "[1, 5, 7, 6, 0, 3, 4, 2, 8] \n",
      "\n",
      "[1, 2, 3, 4, 5, 6, 7, 8, 0]\n",
      "Length of solution:  30\n",
      "Nodes Expanded= 158\n",
      "-----------------------\n",
      "['d', 'r', 'd', 'l', 'u', 'r', 'd', 'r', 'u', 'l', 'l', 'u', 'r', 'r', 'd', 'l', 'u', 'l', 'd', 'r', 'r', 'd']\n",
      "-----------------------\n",
      "[0, 2, 4, 1, 7, 6, 3, 5, 8] \n",
      "\n",
      "[1, 2, 3, 4, 5, 6, 7, 8, 0]\n",
      "Length of solution:  22\n",
      "Nodes Expanded= 166\n",
      "-----------------------\n",
      "-------\n",
      "[('530476218', 'llddruldrulurddluurdldrr', 263), ('320154786', 'lldrurdllurrdluldrrd', 193), ('013852674', 'rdldruurddluruldlurrdldruulldrruldlurrdluldrrd', 412), ('376241850', 'uulldrdruulddluruldrrdluldrr', 38), ('675801234', 'urddluldruuldrurdllurrdluldrrdlurulddruulldrruldlurrdd', 362), ('746801325', 'lurddluurdrdlurulldrurddlulurrddluurdldruuldrdllurulddrr', 205), ('018352647', 'ddrruullddrruldruuldruldlurrddluldrrulldrruldlurrdluldrr', 180), ('046581723', 'rdruldlurrddluurddluruldrdlurulddrulurdd', 184), ('157603428', 'urdlldrrulurddlurullddrulurddr', 158), ('024176358', 'drdlurdrullurrdluldrrd', 166)]\n"
     ]
    }
   ],
   "source": [
    "### Best First\n",
    "bestFirstSearchf = lambda n: ManhattanDistance(n.State, GoalState)\n",
    "testProblems = [[5, 3, 0, 4, 7, 6, 2, 1, 8], [3, 2, 0, 1, 5, 4, 7, 8, 6], [0, 1, 3, 8, 5, 2, 6, 7, 4],\n",
    "                [3, 7, 6, 2, 4, 1, 8, 5, 0], [6, 7, 5, 8, 0, 1, 2, 3, 4], [7, 4, 6, 8, 0, 1, 3, 2, 5],\n",
    "                [0, 1, 8, 3, 5, 2, 6, 4, 7], [0, 4, 6, 5, 8, 1, 7, 2, 3], [1, 5, 7, 6, 0, 3, 4, 2, 8],\n",
    "                [0, 2, 4, 1, 7, 6, 3, 5, 8]]\n",
    "\n",
    "Solutions = []\n",
    "for s in testProblems:\n",
    "  TileSliding.INITIAL = s\n",
    "  ret, cost = BestFirstSearch(TileSliding, bestFirstSearchf)\n",
    "  sol = Solution(ret)\n",
    "  print (sol)\n",
    "  print (\"-----------------------\")\n",
    "  print (TileSliding.INITIAL,'\\n')\n",
    "  print (ApplyMoves(sol, TileSliding.INITIAL))\n",
    "  print (\"Length of solution: \", len(sol))\n",
    "  print (\"Nodes Expanded=\", cost)\n",
    "  print (\"-----------------------\")\n",
    "  Solutions.append((''.join(map(str, s)), ''.join(sol), cost))\n",
    "print (\"-------\")\n",
    "print (Solutions)"
   ]
  },
  {
   "cell_type": "markdown",
   "metadata": {
    "id": "TFLhS5QmxRz2"
   },
   "source": [
    "# Domain 2"
   ]
  },
  {
   "cell_type": "code",
   "execution_count": 125,
   "metadata": {
    "id": "PqDD8fsrxXK7"
   },
   "outputs": [],
   "source": [
    "VectorWorldDim = 10\n",
    "VectorWorld = Problem()\n",
    "VectorWorld.INITIAL = [0]\n",
    "VectorWorld.IsGoal = lambda s: s==[3,] or s==(3,)\n",
    "VectorWorld.Actions = lambda s: ['Left', 'Right']\n",
    "## TileSliding.Result=VectorWorldResult\n",
    "VectorWorld.ActionCost = lambda s, a, sPrime: 1"
   ]
  },
  {
   "cell_type": "code",
   "execution_count": 126,
   "metadata": {
    "id": "uWNR8AQJyCN7"
   },
   "outputs": [],
   "source": [
    "def VectorWorldResult(state, action):\n",
    "  if action=='Left':\n",
    "    return [(state[0]+VectorWorldDim-1)%VectorWorldDim]\n",
    "  else:\n",
    "    return [(state[0]+1)%VectorWorldDim]\n",
    "VectorWorld.Result=VectorWorldResult\n"
   ]
  },
  {
   "cell_type": "code",
   "execution_count": 127,
   "metadata": {
    "colab": {
     "base_uri": "https://localhost:8080/"
    },
    "id": "Ox26cyPP2xba",
    "outputId": "40387548-f024-4cf8-9ddd-7f016cbce708"
   },
   "outputs": [
    {
     "name": "stdout",
     "output_type": "stream",
     "text": [
      "True\n"
     ]
    }
   ],
   "source": [
    "print (VectorWorld.IsGoal((3,)))"
   ]
  },
  {
   "cell_type": "code",
   "execution_count": 128,
   "metadata": {
    "colab": {
     "base_uri": "https://localhost:8080/"
    },
    "id": "SBfeM9Vbykci",
    "outputId": "8e6689d5-f32d-4cff-cb33-ba656277774f"
   },
   "outputs": [
    {
     "name": "stdout",
     "output_type": "stream",
     "text": [
      "ret= [3], Right\n",
      "['Right', 'Right', 'Right']\n"
     ]
    }
   ],
   "source": [
    "ret, cost = BreadthFirstSearch(VectorWorld)\n",
    "print (\"ret=\", ret)\n",
    "sol = Solution(ret)\n",
    "print (sol)\n"
   ]
  },
  {
   "cell_type": "code",
   "execution_count": 129,
   "metadata": {
    "id": "dAbJ75Ym4WmP"
   },
   "outputs": [],
   "source": [
    "VectorWorld.INITIAL = [8]"
   ]
  },
  {
   "cell_type": "code",
   "execution_count": 130,
   "metadata": {
    "colab": {
     "base_uri": "https://localhost:8080/"
    },
    "id": "QGO1VglP4Zq6",
    "outputId": "5a145a87-66f6-4645-9329-98768f258908"
   },
   "outputs": [
    {
     "name": "stdout",
     "output_type": "stream",
     "text": [
      "ret= [3], Left\n",
      "['Left', 'Left', 'Left', 'Left', 'Left']\n"
     ]
    }
   ],
   "source": [
    "ret, cost = BreadthFirstSearch(VectorWorld)\n",
    "print (\"ret=\", ret)\n",
    "sol = Solution(ret)\n",
    "print (sol)"
   ]
  },
  {
   "cell_type": "code",
   "execution_count": null,
   "metadata": {},
   "outputs": [],
   "source": []
  }
 ],
 "metadata": {
  "colab": {
   "authorship_tag": "ABX9TyP/XgtPkoBl7WatIg5txFKQ",
   "include_colab_link": true,
   "provenance": []
  },
  "kernelspec": {
   "display_name": "Python 3 (ipykernel)",
   "language": "python",
   "name": "python3"
  },
  "language_info": {
   "codemirror_mode": {
    "name": "ipython",
    "version": 3
   },
   "file_extension": ".py",
   "mimetype": "text/x-python",
   "name": "python",
   "nbconvert_exporter": "python",
   "pygments_lexer": "ipython3",
   "version": "3.13.3"
  }
 },
 "nbformat": 4,
 "nbformat_minor": 4
}
