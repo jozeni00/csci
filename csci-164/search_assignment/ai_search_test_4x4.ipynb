{
 "cells": [
  {
   "cell_type": "code",
   "execution_count": 139,
   "metadata": {
    "id": "Gbe5KqWcISTq"
   },
   "outputs": [],
   "source": [
    "import random\n",
    "import heapq"
   ]
  },
  {
   "cell_type": "markdown",
   "metadata": {
    "id": "PHnbnN2uV8zr"
   },
   "source": [
    "# Tile Sliding Domain: Initial State Space"
   ]
  },
  {
   "cell_type": "code",
   "execution_count": 140,
   "metadata": {
    "id": "jPCNOa4W-5yq"
   },
   "outputs": [],
   "source": [
    "StateDimension=4\n",
    "InitialState = [1,2,3,4,5,6,0,7,8,10,11,9,12,13,15,14]\n",
    "GoalState=[1,2,3,4,5,6,7,8,0,9,10,11,12,13,14,15]\n",
    "Actions = lambda s: ['u', 'd', 'l', 'r']\n",
    "Opposite=dict([('u','d'),('d','u'),('l','r'),('r','l'), (None, None)])"
   ]
  },
  {
   "cell_type": "code",
   "execution_count": 141,
   "metadata": {
    "id": "XjnzkkC8_HE8"
   },
   "outputs": [],
   "source": [
    "def Result(state, action):\n",
    "  i = state.index(0)\n",
    "  newState = list(state)\n",
    "  row,col=i//StateDimension, i % StateDimension\n",
    "  if ( (action=='u' and row==0) or\n",
    "       (action=='d' and row==StateDimension-1) or\n",
    "       (action=='l' and col==0) or\n",
    "       (action=='r' and col==StateDimension-1)):\n",
    "      return newState\n",
    "  if action=='u':\n",
    "    l,r = row*StateDimension+col, (row-1)*StateDimension+col\n",
    "  elif action=='d':\n",
    "    l,r = row*StateDimension+col, (row+1)*StateDimension+col\n",
    "  elif action=='l':\n",
    "    l,r = row*StateDimension+col, row*StateDimension+col-1\n",
    "  elif action=='r' :\n",
    "    l,r = row*StateDimension+col, row*StateDimension+col+1\n",
    "  newState[l], newState[r] = newState[r], newState[l]\n",
    "  return newState\n",
    "\n",
    "def PrintState(s):\n",
    "  for i in range(0,len(s),StateDimension):\n",
    "    print(s[i:i+StateDimension])\n",
    "\n",
    "def LegalMove(state, action):\n",
    "  i = state.index(0)\n",
    "  row,col=i//StateDimension, i % StateDimension\n",
    "  newState = state.copy()\n",
    "  if ( (action=='u' and row==0) or\n",
    "       (action=='d' and row==StateDimension-1) or\n",
    "       (action=='l' and col==0) or\n",
    "       (action=='r' and col==StateDimension-1)):\n",
    "      return False\n",
    "  return True\n"
   ]
  },
  {
   "cell_type": "code",
   "execution_count": 142,
   "metadata": {
    "id": "4z6hE5HsNwHf"
   },
   "outputs": [],
   "source": [
    "def SingleTileManhattanDistance(tile, left, right):\n",
    "  leftIndex = left.index(tile)\n",
    "  rightIndex = right.index(tile)\n",
    "  return (abs(leftIndex//StateDimension-rightIndex//StateDimension) +\n",
    "          abs(leftIndex%StateDimension-rightIndex%StateDimension))\n",
    "\n",
    "def ManhattanDistance(left, right):\n",
    "  distances = [SingleTileManhattanDistance(tile, left, right)\n",
    "     for tile in range(1, StateDimension**2)]\n",
    "  ### print (\"Distances= \", distances)\n",
    "  return sum(distances)\n"
   ]
  },
  {
   "cell_type": "code",
   "execution_count": 143,
   "metadata": {
    "id": "7PE_gAdLSY_z"
   },
   "outputs": [],
   "source": [
    "def OutOfPlace(left, right):\n",
    "  distances = [left[i]!=right[i] and right[i] != 0\n",
    "     for i in range(StateDimension**2)]\n",
    "  return sum(distances)"
   ]
  },
  {
   "cell_type": "code",
   "execution_count": 144,
   "metadata": {
    "colab": {
     "base_uri": "https://localhost:8080/"
    },
    "id": "bE7MrTAI_t6i",
    "outputId": "fb5cf300-8347-48f9-d12b-4e0eea6829e1"
   },
   "outputs": [
    {
     "name": "stdout",
     "output_type": "stream",
     "text": [
      "[1, 2, 3, 4]\n",
      "[5, 6, 0, 7]\n",
      "[8, 10, 11, 9]\n",
      "[12, 13, 15, 14]\n"
     ]
    }
   ],
   "source": [
    "PrintState(InitialState)"
   ]
  },
  {
   "cell_type": "code",
   "execution_count": 145,
   "metadata": {
    "colab": {
     "base_uri": "https://localhost:8080/"
    },
    "id": "wRULKFeXVcp3",
    "outputId": "4766dafa-c37e-4eb0-96e0-c7067e6dc00a"
   },
   "outputs": [
    {
     "name": "stdout",
     "output_type": "stream",
     "text": [
      "[1, 2, 3, 4]\n",
      "[5, 6, 7, 8]\n",
      "[0, 9, 10, 11]\n",
      "[12, 13, 14, 15]\n"
     ]
    }
   ],
   "source": [
    "PrintState(GoalState)"
   ]
  },
  {
   "cell_type": "code",
   "execution_count": 146,
   "metadata": {
    "colab": {
     "base_uri": "https://localhost:8080/"
    },
    "id": "Ke12RA7cPaS9",
    "outputId": "eecb049f-a2af-449e-fa2a-d5dc848e6697"
   },
   "outputs": [
    {
     "name": "stdout",
     "output_type": "stream",
     "text": [
      "ManhattanDistance=   11\n",
      "OutOfPlace=  7\n"
     ]
    }
   ],
   "source": [
    "print(\"ManhattanDistance=  \", ManhattanDistance(InitialState, GoalState))\n",
    "print(\"OutOfPlace= \", OutOfPlace(InitialState, GoalState))\n"
   ]
  },
  {
   "cell_type": "code",
   "execution_count": 147,
   "metadata": {
    "colab": {
     "base_uri": "https://localhost:8080/"
    },
    "id": "j-EYW_gqGZtl",
    "outputId": "f6764d4f-5771-4a18-ca94-1a7d9887739f"
   },
   "outputs": [
    {
     "name": "stdout",
     "output_type": "stream",
     "text": [
      "[1, 2, 3, 4]\n",
      "[5, 6, 0, 7]\n",
      "[8, 10, 11, 9]\n",
      "[12, 13, 15, 14]\n",
      "\n",
      "[1, 2, 0, 4]\n",
      "[5, 6, 3, 7]\n",
      "[8, 10, 11, 9]\n",
      "[12, 13, 15, 14]\n",
      "\n",
      "[1, 2, 4, 0]\n",
      "[5, 6, 3, 7]\n",
      "[8, 10, 11, 9]\n",
      "[12, 13, 15, 14]\n"
     ]
    }
   ],
   "source": [
    "PrintState(InitialState)\n",
    "print()\n",
    "state1 = Result(InitialState, 'u')\n",
    "PrintState(state1)\n",
    "print()\n",
    "state1 = Result(state1, 'r')\n",
    "PrintState(state1)"
   ]
  },
  {
   "cell_type": "markdown",
   "metadata": {
    "id": "Mp0tnomdTFoC"
   },
   "source": [
    "# Random Walk\n",
    "\n",
    "Take some random moves from a state and return the new state and the sequence of moves.\n",
    "\n",
    "Do not include moves undoing last move, or having no effect."
   ]
  },
  {
   "cell_type": "code",
   "execution_count": 148,
   "metadata": {
    "id": "1RVh0-S9IFiy"
   },
   "outputs": [],
   "source": [
    "def RandomWalk(state, steps):\n",
    "  actionSequence = []\n",
    "  actionLast = None\n",
    "  for i in range(steps):\n",
    "    action = None\n",
    "    while action==None:\n",
    "      action = random.choice(Actions(state))\n",
    "      action = action if (LegalMove(state, action)\n",
    "          and action!= Opposite[actionLast]) else None\n",
    "    actionLast = action\n",
    "    state = Result(state, action)\n",
    "    actionSequence.append(action)\n",
    "  return state, actionSequence\n",
    "\n"
   ]
  },
  {
   "cell_type": "code",
   "execution_count": 149,
   "metadata": {
    "colab": {
     "base_uri": "https://localhost:8080/"
    },
    "id": "wcn5POkxKlER",
    "outputId": "b13cc6e4-1492-464f-ef69-0692c5d30d8a"
   },
   "outputs": [
    {
     "name": "stdout",
     "output_type": "stream",
     "text": [
      "[15, 1, 9, 12]\n",
      "[3, 10, 6, 2]\n",
      "[4, 0, 5, 11]\n",
      "[14, 7, 13, 8]\n",
      "41 ['u', 'r', 'd', 'd', 'd', 'l', 'l', 'l', 'u', 'r', 'd', 'l', 'u', 'r', 'r', 'u', 'r', 'd', 'd', 'l', 'u', 'u', 'r', 'u', 'l', 'd', 'd', 'r', 'u', 'u', 'l', 'd', 'l', 'd', 'd', 'r', 'r', 'u', 'l', 'd', 'r', 'u', 'u', 'l', 'l', 'd', 'd', 'r', 'r', 'u', 'l', 'u', 'l', 'd', 'l', 'u', 'r', 'd', 'd', 'r', 'r', 'u', 'u', 'u', 'l', 'l', 'l', 'd', 'd', 'r', 'd', 'l', 'u', 'r', 'd', 'r', 'u', 'u', 'r', 'd', 'd', 'l', 'u', 'u', 'r', 'd', 'd', 'l', 'u', 'u', 'u', 'l', 'd', 'd', 'l', 'd', 'r', 'r', 'r', 'u', 'l', 'u', 'r', 'u', 'l', 'l', 'l', 'd', 'd', 'r', 'r', 'u', 'u', 'r', 'd', 'l', 'd', 'l', 'l', 'u', 'r', 'd', 'l', 'u', 'u', 'r', 'd', 'l', 'd', 'r', 'u', 'l', 'u', 'r', 'r', 'r', 'd', 'd', 'l', 'u', 'r', 'd', 'd', 'l', 'u', 'l', 'l', 'd', 'r', 'u']\n",
      "Random Walk 5 Steps--------------\n",
      "[1, 2, 3, 4]\n",
      "[5, 6, 0, 7]\n",
      "[8, 10, 11, 9]\n",
      "[12, 13, 15, 14]\n",
      "['r', 'u', 'l', 'd', 'r']\n",
      "[1, 2, 7, 3]\n",
      "[5, 6, 4, 0]\n",
      "[8, 10, 11, 9]\n",
      "[12, 13, 15, 14]\n",
      "Random Walk 10 Steps--------------\n",
      "[1, 2, 3, 4]\n",
      "[5, 6, 0, 7]\n",
      "[8, 10, 11, 9]\n",
      "[12, 13, 15, 14]\n",
      "['u', 'r', 'd', 'd', 'd', 'l', 'l', 'l', 'u', 'u']\n",
      "[1, 2, 4, 7]\n",
      "[0, 6, 3, 9]\n",
      "[5, 10, 11, 14]\n",
      "[8, 12, 13, 15]\n",
      "Random Walk 20 Steps--------------\n",
      "[1, 2, 3, 4]\n",
      "[5, 6, 0, 7]\n",
      "[8, 10, 11, 9]\n",
      "[12, 13, 15, 14]\n",
      "['d', 'd', 'l', 'l', 'u', 'r', 'r', 'u', 'r', 'u', 'l', 'l', 'd', 'r', 'd', 'l', 'l', 'd', 'r', 'u']\n",
      "[1, 6, 2, 3]\n",
      "[5, 7, 11, 4]\n",
      "[8, 0, 15, 9]\n",
      "[12, 10, 13, 14]\n",
      "Random Walk 40 Steps--------------\n",
      "[1, 2, 3, 4]\n",
      "[5, 6, 0, 7]\n",
      "[8, 10, 11, 9]\n",
      "[12, 13, 15, 14]\n",
      "['r', 'd', 'l', 'u', 'l', 'l', 'd', 'd', 'r', 'u', 'l', 'd', 'r', 'u', 'l', 'd', 'r', 'r', 'u', 'r', 'd', 'l', 'l', 'l', 'u', 'u', 'u', 'r', 'r', 'r', 'd', 'l', 'u', 'l', 'd', 'd', 'd', 'l', 'u', 'r']\n",
      "[2, 5, 3, 9]\n",
      "[1, 13, 4, 6]\n",
      "[12, 0, 11, 14]\n",
      "[8, 10, 15, 7]\n",
      "Random Walk 80 Steps--------------\n",
      "[1, 2, 3, 4]\n",
      "[5, 6, 0, 7]\n",
      "[8, 10, 11, 9]\n",
      "[12, 13, 15, 14]\n",
      "['l', 'l', 'u', 'r', 'd', 'l', 'd', 'd', 'r', 'u', 'l', 'd', 'r', 'u', 'l', 'u', 'u', 'r', 'd', 'l', 'u', 'r', 'd', 'd', 'd', 'r', 'r', 'u', 'u', 'u', 'l', 'd', 'd', 'r', 'd', 'l', 'l', 'l', 'u', 'r', 'r', 'r', 'u', 'u', 'l', 'l', 'l', 'd', 'r', 'u', 'l', 'd', 'r', 'u', 'r', 'd', 'r', 'u', 'l', 'd', 'd', 'r', 'u', 'u', 'l', 'd', 'd', 'l', 'l', 'u', 'u', 'r', 'd', 'l', 'd', 'r', 'u', 'r', 'd', 'd']\n",
      "[2, 5, 9, 3]\n",
      "[1, 4, 7, 11]\n",
      "[12, 13, 15, 6]\n",
      "[8, 10, 0, 14]\n"
     ]
    }
   ],
   "source": [
    "state1, sol = RandomWalk(InitialState, 150)\n",
    "PrintState(state1)\n",
    "print (ManhattanDistance(state1, GoalState), sol)\n",
    "\n",
    "print(\"Random Walk 5 Steps--------------\")\n",
    "state1, sol = RandomWalk(InitialState, 5)\n",
    "PrintState(InitialState)\n",
    "print (sol)\n",
    "PrintState(state1)\n",
    "\n",
    "print(\"Random Walk 10 Steps--------------\")\n",
    "state1, sol = RandomWalk(InitialState, 10)\n",
    "PrintState(InitialState)\n",
    "print (sol)\n",
    "PrintState(state1)\n",
    "\n",
    "print(\"Random Walk 20 Steps--------------\")\n",
    "state1, sol = RandomWalk(InitialState, 20)\n",
    "PrintState(InitialState)\n",
    "print (sol)\n",
    "PrintState(state1)\n",
    "\n",
    "print(\"Random Walk 40 Steps--------------\")\n",
    "state1, sol = RandomWalk(InitialState, 40)\n",
    "PrintState(InitialState)\n",
    "print (sol)\n",
    "PrintState(state1)\n",
    "\n",
    "print(\"Random Walk 80 Steps--------------\")\n",
    "state1, sol = RandomWalk(InitialState, 80)\n",
    "PrintState(InitialState)\n",
    "print (sol)\n",
    "PrintState(state1)"
   ]
  },
  {
   "cell_type": "code",
   "execution_count": 150,
   "metadata": {
    "id": "Rc_8ohYvNIq-"
   },
   "outputs": [],
   "source": [
    "def ApplyMoves(actions, state):\n",
    "  for action in actions:\n",
    "    state = Result(state, action)\n",
    "  return state"
   ]
  },
  {
   "cell_type": "code",
   "execution_count": 151,
   "metadata": {
    "colab": {
     "base_uri": "https://localhost:8080/"
    },
    "id": "Wv7MGqh8NXqy",
    "outputId": "7680a0b0-e84f-4a14-c9d5-b881e3f973d1"
   },
   "outputs": [
    {
     "name": "stdout",
     "output_type": "stream",
     "text": [
      "[1, 2, 3, 4]\n",
      "[5, 6, 0, 7]\n",
      "[8, 10, 11, 9]\n",
      "[12, 13, 15, 14]\n",
      "['r', 'r']\n",
      "[1, 2, 3, 4]\n",
      "[5, 6, 7, 0]\n",
      "[8, 10, 11, 9]\n",
      "[12, 13, 15, 14]\n"
     ]
    }
   ],
   "source": [
    "PrintState(InitialState)\n",
    "print(['r','r'])\n",
    "PrintState(ApplyMoves(['r','r'],InitialState))"
   ]
  },
  {
   "cell_type": "code",
   "execution_count": 152,
   "metadata": {
    "id": "_VS2KzQbOHlO"
   },
   "outputs": [],
   "source": [
    "def ReverseMoves(actions):\n",
    "  ret = [Opposite[a] for a in actions]\n",
    "  ret.reverse()\n",
    "  return ret"
   ]
  },
  {
   "cell_type": "code",
   "execution_count": 153,
   "metadata": {
    "colab": {
     "base_uri": "https://localhost:8080/"
    },
    "id": "tp_pqYBXOsqS",
    "outputId": "c322dc22-ea39-46bc-d762-c6dcc310cd95"
   },
   "outputs": [
    {
     "name": "stdout",
     "output_type": "stream",
     "text": [
      "Radom Walk 5 Steps Goal ---------\n",
      "[1, 2, 3, 4]\n",
      "[5, 6, 7, 8]\n",
      "[13, 12, 10, 11]\n",
      "[0, 9, 14, 15]\n",
      "['d', 'r', 'u', 'l', 'd']\n",
      "['u', 'r', 'd', 'l', 'u']\n",
      "[1, 2, 3, 4]\n",
      "[5, 6, 7, 8]\n",
      "[0, 9, 10, 11]\n",
      "[12, 13, 14, 15]\n",
      "Radom Walk 10 Steps Goal ---------\n",
      "[6, 1, 3, 4]\n",
      "[2, 9, 7, 8]\n",
      "[0, 13, 10, 11]\n",
      "[5, 12, 14, 15]\n",
      "['u', 'r', 'u', 'l', 'd', 'r', 'd', 'd', 'l', 'u']\n",
      "['d', 'r', 'u', 'u', 'l', 'u', 'r', 'd', 'l', 'd']\n",
      "[1, 2, 3, 4]\n",
      "[5, 6, 7, 8]\n",
      "[0, 9, 10, 11]\n",
      "[12, 13, 14, 15]\n",
      "Radom Walk 20 Steps Goal ---------\n",
      "[1, 4, 7, 8]\n",
      "[6, 0, 2, 3]\n",
      "[5, 9, 15, 11]\n",
      "[12, 13, 10, 14]\n",
      "['u', 'r', 'r', 'r', 'd', 'd', 'l', 'u', 'r', 'u', 'l', 'u', 'r', 'd', 'l', 'l', 'u', 'r', 'd', 'l']\n",
      "['r', 'u', 'l', 'd', 'r', 'r', 'u', 'l', 'd', 'r', 'd', 'l', 'd', 'r', 'u', 'u', 'l', 'l', 'l', 'd']\n",
      "[1, 2, 3, 4]\n",
      "[5, 6, 7, 8]\n",
      "[0, 9, 10, 11]\n",
      "[12, 13, 14, 15]\n",
      "Radom Walk 40 Steps Goal ---------\n",
      "[2, 5, 15, 8]\n",
      "[13, 6, 3, 0]\n",
      "[12, 1, 11, 4]\n",
      "[9, 14, 7, 10]\n",
      "['d', 'r', 'u', 'u', 'u', 'l', 'd', 'r', 'd', 'l', 'd', 'r', 'r', 'u', 'u', 'r', 'd', 'd', 'l', 'u', 'r', 'u', 'u', 'l', 'd', 'l', 'u', 'l', 'd', 'd', 'r', 'u', 'r', 'd', 'r', 'u', 'u', 'l', 'd', 'r']\n",
      "['l', 'u', 'r', 'd', 'd', 'l', 'u', 'l', 'd', 'l', 'u', 'u', 'r', 'd', 'r', 'u', 'r', 'd', 'd', 'l', 'd', 'r', 'u', 'u', 'l', 'd', 'd', 'l', 'l', 'u', 'r', 'u', 'l', 'u', 'r', 'd', 'd', 'd', 'l', 'u']\n",
      "[1, 2, 3, 4]\n",
      "[5, 6, 7, 8]\n",
      "[0, 9, 10, 11]\n",
      "[12, 13, 14, 15]\n",
      "Radom Walk 80 Steps Goal ---------\n",
      "[11, 4, 3, 8]\n",
      "[14, 5, 6, 7]\n",
      "[0, 1, 13, 15]\n",
      "[2, 10, 9, 12]\n",
      "['r', 'r', 'u', 'r', 'd', 'd', 'l', 'l', 'l', 'u', 'u', 'r', 'u', 'l', 'd', 'd', 'r', 'r', 'd', 'r', 'u', 'l', 'l', 'u', 'r', 'u', 'r', 'd', 'l', 'l', 'u', 'r', 'r', 'd', 'l', 'l', 'u', 'r', 'r', 'd', 'd', 'l', 'd', 'l', 'l', 'u', 'r', 'r', 'u', 'r', 'd', 'd', 'l', 'l', 'l', 'u', 'r', 'r', 'u', 'u', 'l', 'd', 'l', 'u', 'r', 'd', 'l', 'u', 'r', 'r', 'd', 'l', 'u', 'l', 'd', 'r', 'u', 'l', 'd', 'd']\n",
      "['u', 'u', 'r', 'd', 'l', 'u', 'r', 'd', 'r', 'u', 'l', 'l', 'd', 'r', 'u', 'l', 'd', 'r', 'u', 'r', 'd', 'd', 'l', 'l', 'd', 'r', 'r', 'r', 'u', 'u', 'l', 'd', 'l', 'l', 'd', 'r', 'r', 'u', 'r', 'u', 'u', 'l', 'l', 'd', 'r', 'r', 'u', 'l', 'l', 'd', 'r', 'r', 'u', 'l', 'd', 'l', 'd', 'r', 'r', 'd', 'l', 'u', 'l', 'l', 'u', 'u', 'r', 'd', 'l', 'd', 'd', 'r', 'r', 'r', 'u', 'u', 'l', 'd', 'l', 'l']\n",
      "[1, 2, 3, 4]\n",
      "[5, 6, 7, 8]\n",
      "[0, 9, 10, 11]\n",
      "[12, 13, 14, 15]\n"
     ]
    }
   ],
   "source": [
    "print(\"Radom Walk 5 Steps Goal ---------\")\n",
    "state1, sol = RandomWalk(GoalState, 5)\n",
    "PrintState(state1)\n",
    "print (sol)\n",
    "print(ReverseMoves(sol))\n",
    "PrintState (ApplyMoves(ReverseMoves(sol), state1))\n",
    "\n",
    "print(\"Radom Walk 10 Steps Goal ---------\")\n",
    "state1, sol = RandomWalk(GoalState, 10)\n",
    "PrintState(state1)\n",
    "print (sol)\n",
    "print(ReverseMoves(sol))\n",
    "PrintState (ApplyMoves(ReverseMoves(sol), state1))\n",
    "\n",
    "print(\"Radom Walk 20 Steps Goal ---------\")\n",
    "state1, sol = RandomWalk(GoalState, 20)\n",
    "PrintState(state1)\n",
    "print (sol)\n",
    "print(ReverseMoves(sol))\n",
    "PrintState (ApplyMoves(ReverseMoves(sol), state1))\n",
    "\n",
    "print(\"Radom Walk 40 Steps Goal ---------\")\n",
    "state1, sol = RandomWalk(GoalState, 40)\n",
    "PrintState(state1)\n",
    "print (sol)\n",
    "print(ReverseMoves(sol))\n",
    "PrintState (ApplyMoves(ReverseMoves(sol), state1))\n",
    "\n",
    "print(\"Radom Walk 80 Steps Goal ---------\")\n",
    "state1, sol = RandomWalk(GoalState, 80)\n",
    "PrintState(state1)\n",
    "print (sol)\n",
    "print(ReverseMoves(sol))\n",
    "PrintState (ApplyMoves(ReverseMoves(sol), state1))\n"
   ]
  },
  {
   "cell_type": "markdown",
   "metadata": {
    "id": "8ABBDMJLROdo"
   },
   "source": [
    "## Problem Class\n",
    "\n",
    "INITIAL = InitialState  \n",
    "IsGoal = Goal Test  \n",
    "Actions = Actions List  \n",
    "Result = Action Behavior  \n",
    "ActionCost = Action Cost  "
   ]
  },
  {
   "cell_type": "code",
   "execution_count": 154,
   "metadata": {
    "id": "fo6sq7myRQpE"
   },
   "outputs": [],
   "source": [
    "class Problem(object): pass"
   ]
  },
  {
   "cell_type": "markdown",
   "metadata": {
    "id": "aAHXlWteQ2LN"
   },
   "source": [
    "## Node"
   ]
  },
  {
   "cell_type": "code",
   "execution_count": 155,
   "metadata": {
    "id": "URRYlfS9Q3vx"
   },
   "outputs": [],
   "source": [
    "class Node(object):\n",
    "  def __init__(self, state, parent=None, action=None, path_cost=0 ):\n",
    "    self.State=state\n",
    "    self.Parent=parent\n",
    "    self.Action=action\n",
    "    self.PathCost = path_cost\n",
    "\n",
    "  def __str__(self):\n",
    "    action = \"<none>\" if not self.Action else self.Action\n",
    "    return str(self.State) + \", \" + action\n",
    "  def __repr__(self):\n",
    "    action = \"<none>\" if not self.Action else self.Action\n",
    "    return str(self.State) + \", \" + action\n",
    "  def __lt__(self, other):\n",
    "    return self.PathCost < other.PathCost;"
   ]
  },
  {
   "cell_type": "markdown",
   "metadata": {
    "id": "LpzKnx4rkxL9"
   },
   "source": [
    "## Expand"
   ]
  },
  {
   "cell_type": "code",
   "execution_count": 156,
   "metadata": {
    "id": "CRj9UnyHdDo_"
   },
   "outputs": [],
   "source": [
    "def Expand(problem, node):\n",
    "  ret = []\n",
    "  s = node.State\n",
    "  for action in problem.Actions(s):\n",
    "    sPrime = problem.Result(s, action)\n",
    "    cost =node.PathCost + problem.ActionCost(s,action,sPrime)\n",
    "    ret.append(Node(sPrime, node, action, cost))\n",
    "  return ret\n"
   ]
  },
  {
   "cell_type": "markdown",
   "metadata": {
    "id": "Ee2ZYxjVlBSl"
   },
   "source": [
    "## Breadth-First Search"
   ]
  },
  {
   "cell_type": "code",
   "execution_count": 157,
   "metadata": {
    "id": "DZoCxoGzkt4E"
   },
   "outputs": [],
   "source": [
    "def BreadthFirstSearch(problem):\n",
    "  node = Node(tuple(problem.INITIAL))\n",
    "  if problem.IsGoal(node.State):\n",
    "    return node, 0\n",
    "  Frontier = []\n",
    "  Frontier.append(node)\n",
    "  reached = set()\n",
    "  reached.add(tuple(problem.INITIAL))\n",
    "  nodesExpanded = 0\n",
    "  while (Frontier):\n",
    "    ### print([str(n) for n in Frontier])\n",
    "    node = Frontier.pop(0)\n",
    "    ### print(node)\n",
    "    for child in Expand(problem, node):\n",
    "      s = tuple(child.State)\n",
    "      ### print (s, \"IsGoal=\", problem.IsGoal(s))\n",
    "      if problem.IsGoal(s):\n",
    "        return child, nodesExpanded\n",
    "      if s not in reached:\n",
    "        reached.add(s)\n",
    "        Frontier.append(child)\n",
    "    nodesExpanded += 1\n",
    "    if nodesExpanded > 500000:\n",
    "      break;\n",
    "  return None, nodesExpanded"
   ]
  },
  {
   "cell_type": "markdown",
   "metadata": {
    "id": "AoX48XG6lFOf"
   },
   "source": [
    "## Best-First Search"
   ]
  },
  {
   "cell_type": "code",
   "execution_count": 158,
   "metadata": {
    "id": "lUIAdr_qa1KT"
   },
   "outputs": [],
   "source": [
    "def BestFirstSearch(problem, f):\n",
    "  node = Node(tuple(problem.INITIAL))\n",
    "  Frontier = []\n",
    "  heapq.heappush(Frontier,(f(node), node))\n",
    "  reached = {}\n",
    "  reached[tuple(problem.INITIAL)]=node\n",
    "  nodesExpanded = 0\n",
    "  while (Frontier):\n",
    "    ##print([(x, str(n)) for (x,n) in Frontier])\n",
    "    fValue, node = heapq.heappop(Frontier)\n",
    "    ##print (node.State, \"IsGoal=\", problem.IsGoal(tuple(node.State)))\n",
    "    if problem.IsGoal(tuple(node.State)):\n",
    "      return node, nodesExpanded    ### print(node)\n",
    "    for child in Expand(problem, node):\n",
    "      s = tuple(child.State)\n",
    "      if s not in reached or child.PathCost < reached[s].PathCost:\n",
    "        reached[s] = child\n",
    "        heapq.heappush(Frontier, (f(child), child))\n",
    "    nodesExpanded += 1\n",
    "    if nodesExpanded > 500000:\n",
    "      break;\n",
    "  return None, nodesExpanded"
   ]
  },
  {
   "cell_type": "markdown",
   "metadata": {
    "id": "kRjolRYslOa4"
   },
   "source": [
    "## Problem 1"
   ]
  },
  {
   "cell_type": "code",
   "execution_count": 159,
   "metadata": {
    "colab": {
     "base_uri": "https://localhost:8080/"
    },
    "id": "dLWDIbmsRGY3",
    "outputId": "7d503ed3-06cb-453e-965f-1119d4dc965d"
   },
   "outputs": [
    {
     "name": "stdout",
     "output_type": "stream",
     "text": [
      "True\n",
      "[1, 2, 3, 4, 5, 6, 0, 7, 8, 10, 11, 9, 12, 13, 15, 14], <none>\n",
      "2\n"
     ]
    }
   ],
   "source": [
    "TileSliding = Problem()\n",
    "TileSliding.INITIAL = InitialState\n",
    "TileSliding.IsGoal = lambda s: s==(1,2,3,4,5,6,7,8,0,9,10,11,12,13,14,15)\n",
    "TileSliding.Actions = Actions\n",
    "TileSliding.Result=Result\n",
    "TileSliding.ActionCost = lambda s, a, sPrime: 1\n",
    "print( TileSliding.IsGoal((1,2,3,4,5,6,7,8,0,9,10,11,12,13,14,15)) )\n",
    "print( Node(InitialState) )\n",
    "print(1+TileSliding.ActionCost(1,2,3))"
   ]
  },
  {
   "cell_type": "code",
   "execution_count": 160,
   "metadata": {
    "colab": {
     "base_uri": "https://localhost:8080/"
    },
    "id": "6VoIEO4c1gHz",
    "outputId": "3ddcf07d-8ee3-4e5e-a08a-81a476b9c1e2"
   },
   "outputs": [
    {
     "name": "stdout",
     "output_type": "stream",
     "text": [
      "None 500001\n"
     ]
    }
   ],
   "source": [
    "TileSliding.INITIAL = [1,2,3,4,0,6,7,5,8,9,10,11,15,14,13,12]\n",
    "ret, cost = BreadthFirstSearch(TileSliding)\n",
    "print (ret, cost)"
   ]
  },
  {
   "cell_type": "code",
   "execution_count": 161,
   "metadata": {
    "id": "3hsBKY7Fle3w"
   },
   "outputs": [],
   "source": [
    "def Solution(node):\n",
    "  if node == None or node.Parent==None:\n",
    "    return []\n",
    "  return Solution(node.Parent) + [node.Action]\n"
   ]
  },
  {
   "cell_type": "code",
   "execution_count": 162,
   "metadata": {
    "colab": {
     "base_uri": "https://localhost:8080/"
    },
    "id": "rtr7Vr84NAfY",
    "outputId": "ffb31aae-91e3-4cd5-98e7-62f115b61b21"
   },
   "outputs": [
    {
     "name": "stdout",
     "output_type": "stream",
     "text": [
      "[]\n",
      "[1, 2, 3, 4, 0, 6, 7, 5, 8, 9, 10, 11, 15, 14, 13, 12]\n",
      "[1, 2, 3, 4, 0, 6, 7, 5, 8, 9, 10, 11, 15, 14, 13, 12]\n"
     ]
    }
   ],
   "source": [
    "sol = Solution(ret)\n",
    "print (sol)\n",
    "print (TileSliding.INITIAL)\n",
    "print (ApplyMoves(sol, TileSliding.INITIAL))"
   ]
  },
  {
   "cell_type": "code",
   "execution_count": 163,
   "metadata": {
    "colab": {
     "base_uri": "https://localhost:8080/"
    },
    "id": "RDE3dNP8NOU7",
    "outputId": "a931b05e-d36e-4ef5-ffcd-9e33a13af3d9"
   },
   "outputs": [
    {
     "name": "stdout",
     "output_type": "stream",
     "text": [
      "None 500001\n"
     ]
    }
   ],
   "source": [
    "TileSliding.INITIAL = [1,2,3,4,0,6,7,5,8,9,10,11,15,14,13,12]\n",
    "ret, cost = BreadthFirstSearch(TileSliding)\n",
    "print (ret, cost)"
   ]
  },
  {
   "cell_type": "code",
   "execution_count": 164,
   "metadata": {
    "colab": {
     "base_uri": "https://localhost:8080/"
    },
    "id": "YBkLupiYNyZ_",
    "outputId": "d9a01861-ea3e-4036-f007-ce5c17cdd82e"
   },
   "outputs": [
    {
     "name": "stdout",
     "output_type": "stream",
     "text": [
      "[]\n",
      "[1, 2, 3, 4, 0, 6, 7, 5, 8, 9, 10, 11, 15, 14, 13, 12]\n",
      "[1, 2, 3, 4, 0, 6, 7, 5, 8, 9, 10, 11, 15, 14, 13, 12]\n"
     ]
    }
   ],
   "source": [
    "sol = Solution(ret)\n",
    "print (sol)\n",
    "print (TileSliding.INITIAL)\n",
    "print (ApplyMoves(sol, TileSliding.INITIAL))"
   ]
  },
  {
   "cell_type": "code",
   "execution_count": 165,
   "metadata": {
    "colab": {
     "base_uri": "https://localhost:8080/"
    },
    "id": "GXdlMLxwhxMF",
    "outputId": "cb8d551e-c147-4a1a-b92b-d1319a98e049"
   },
   "outputs": [
    {
     "name": "stdout",
     "output_type": "stream",
     "text": [
      "None\n",
      "[]\n",
      "[1, 2, 3, 4, 0, 6, 7, 5, 8, 9, 10, 11, 15, 14, 13, 12]\n",
      "[1, 2, 3, 4, 0, 6, 7, 5, 8, 9, 10, 11, 15, 14, 13, 12]\n",
      "Nodes Expanded= 500001\n"
     ]
    }
   ],
   "source": [
    "UniformCostF = lambda n: n.PathCost\n",
    "AStarF = lambda n: n.PathCost+ManhattanDistance(n.State, GoalState)\n",
    "TileSliding.INITIAL = [1,2,3,4,0,6,7,5,8,9,10,11,15,14,13,12]\n",
    "ret, cost = BestFirstSearch(TileSliding, UniformCostF)\n",
    "print (ret)\n",
    "sol = Solution(ret)\n",
    "print (sol)\n",
    "print (TileSliding.INITIAL)\n",
    "print (ApplyMoves(sol, TileSliding.INITIAL))\n",
    "print (\"Nodes Expanded=\", cost)"
   ]
  },
  {
   "cell_type": "markdown",
   "metadata": {
    "id": "bu6svMo0n9Pc"
   },
   "source": [
    "# Problem 2"
   ]
  },
  {
   "cell_type": "code",
   "execution_count": 166,
   "metadata": {
    "colab": {
     "base_uri": "https://localhost:8080/"
    },
    "id": "rXzEVLYEn8m1",
    "outputId": "fe31d608-3f4b-4486-a9ba-6b716b44575a"
   },
   "outputs": [
    {
     "name": "stdout",
     "output_type": "stream",
     "text": [
      "[7, 9, 10, 13]\n",
      "[3, 4, 6, 2]\n",
      "[1, 15, 0, 14]\n",
      "[8, 12, 11, 5]\n",
      "['d', 'r', 'u', 'u', 'l', 'd', 'r', 'd', 'r', 'r', 'u', 'u', 'l', 'l', 'l', 'd', 'r', 'r', 'd', 'l', 'l', 'u', 'u', 'u', 'r', 'r', 'r', 'd', 'l', 'd', 'l', 'd', 'l', 'u', 'r', 'u', 'r', 'u', 'l', 'l', 'd', 'd', 'r', 'r', 'r', 'd', 'l', 'l', 'u', 'r', 'd', 'l', 'u', 'r', 'r', 'u', 'l', 'u', 'r', 'd', 'd', 'l', 'd', 'r', 'u', 'u', 'u', 'l', 'd', 'd', 'l', 'u', 'u', 'r', 'r', 'd', 'l', 'u', 'l', 'l', 'd', 'r', 'd', 'r', 'd', 'r', 'u', 'l', 'l', 'u', 'r', 'r', 'u', 'l', 'l', 'd', 'l', 'd', 'r', 'r', 'u', 'r', 'd', 'd', 'l', 'l', 'l', 'u', 'u', 'r', 'r', 'r', 'd', 'l', 'l', 'l', 'd', 'r', 'u', 'u', 'u', 'r', 'r', 'd', 'l', 'l', 'd', 'r', 'd', 'l', 'l', 'u', 'r', 'u', 'u', 'l', 'd', 'd', 'r', 'd', 'r', 'u', 'r', 'u', 'l', 'u', 'l', 'l', 'd', 'd', 'd', 'r', 'u', 'r', 'u', 'u', 'r', 'd', 'l', 'l', 'd', 'r', 'u', 'u', 'l', 'd', 'r', 'u', 'l', 'd', 'd', 'l', 'u', 'r', 'u', 'r', 'd', 'd', 'l', 'u', 'l', 'u', 'r', 'd', 'r', 'r', 'u', 'l', 'l', 'l', 'd', 'r', 'r', 'r', 'd', 'l', 'l', 'l', 'd', 'r', 'r', 'r', 'u', 'l', 'u', 'u', 'l', 'd', 'l', 'd', 'd', 'r', 'u', 'l', 'd', 'r', 'r', 'r', 'u', 'u', 'u', 'l', 'd', 'd', 'd', 'r', 'u', 'l', 'l', 'l', 'u', 'u', 'r', 'r', 'r', 'd', 'd', 'd', 'l', 'l', 'l', 'u', 'r', 'd', 'l', 'u', 'r', 'u', 'r', 'u', 'l', 'd', 'l', 'd', 'd', 'r', 'r', 'r', 'u', 'u', 'l', 'u', 'l', 'l', 'd', 'r', 'r', 'd', 'r', 'd', 'l', 'l', 'l', 'u', 'r', 'r', 'u', 'u', 'l', 'd', 'l', 'u', 'r', 'd', 'r', 'u', 'l', 'd', 'l', 'u', 'r', 'r', 'r', 'd', 'l', 'u', 'r', 'd', 'l', 'd']\n",
      "['u', 'r', 'u', 'l', 'd', 'r', 'u', 'l', 'l', 'l', 'd', 'r', 'u', 'r', 'd', 'l', 'u', 'l', 'd', 'r', 'u', 'r', 'd', 'd', 'l', 'l', 'd', 'r', 'r', 'r', 'u', 'l', 'u', 'l', 'l', 'u', 'r', 'r', 'd', 'r', 'd', 'd', 'l', 'l', 'l', 'u', 'u', 'r', 'u', 'r', 'd', 'l', 'd', 'l', 'd', 'r', 'u', 'l', 'd', 'r', 'r', 'r', 'u', 'u', 'u', 'l', 'l', 'l', 'd', 'd', 'r', 'r', 'r', 'd', 'l', 'u', 'u', 'u', 'r', 'd', 'd', 'd', 'l', 'l', 'l', 'u', 'r', 'd', 'l', 'u', 'u', 'r', 'u', 'r', 'd', 'd', 'r', 'd', 'l', 'l', 'l', 'u', 'r', 'r', 'r', 'u', 'l', 'l', 'l', 'u', 'r', 'r', 'r', 'd', 'l', 'l', 'u', 'l', 'd', 'r', 'd', 'r', 'u', 'u', 'l', 'd', 'l', 'd', 'r', 'u', 'u', 'r', 'd', 'l', 'u', 'r', 'd', 'd', 'l', 'u', 'r', 'r', 'u', 'l', 'd', 'd', 'l', 'd', 'l', 'u', 'u', 'u', 'r', 'r', 'd', 'r', 'd', 'l', 'd', 'l', 'u', 'l', 'u', 'u', 'r', 'd', 'd', 'l', 'd', 'r', 'r', 'u', 'l', 'u', 'r', 'r', 'u', 'l', 'l', 'd', 'd', 'd', 'l', 'u', 'r', 'r', 'r', 'u', 'l', 'l', 'l', 'd', 'd', 'r', 'r', 'r', 'u', 'u', 'l', 'd', 'l', 'l', 'u', 'r', 'u', 'r', 'r', 'd', 'l', 'l', 'd', 'r', 'r', 'd', 'l', 'u', 'l', 'u', 'l', 'u', 'r', 'r', 'd', 'r', 'u', 'l', 'l', 'd', 'd', 'r', 'u', 'u', 'r', 'd', 'd', 'd', 'l', 'u', 'r', 'u', 'u', 'l', 'd', 'r', 'd', 'l', 'l', 'd', 'r', 'u', 'l', 'd', 'r', 'r', 'u', 'l', 'l', 'l', 'u', 'u', 'r', 'r', 'd', 'l', 'd', 'l', 'd', 'r', 'u', 'r', 'u', 'r', 'u', 'l', 'l', 'l', 'd', 'd', 'd', 'r', 'r', 'u', 'l', 'l', 'u', 'r', 'r', 'r', 'd', 'd', 'l', 'l', 'u', 'l', 'u', 'r', 'd', 'd', 'l', 'u']\n",
      "[1, 2, 3, 4]\n",
      "[5, 6, 7, 8]\n",
      "[0, 9, 10, 11]\n",
      "[12, 13, 14, 15]\n"
     ]
    }
   ],
   "source": [
    "state1, sol = RandomWalk(GoalState, 300)\n",
    "PrintState(state1)\n",
    "print (sol)\n",
    "print(ReverseMoves(sol))\n",
    "PrintState (ApplyMoves(ReverseMoves(sol), state1))"
   ]
  },
  {
   "cell_type": "code",
   "execution_count": 167,
   "metadata": {
    "colab": {
     "base_uri": "https://localhost:8080/"
    },
    "id": "tKnMcesqoCss",
    "outputId": "884c7eda-76ff-472e-f951-8c6795202ae8"
   },
   "outputs": [
    {
     "name": "stdout",
     "output_type": "stream",
     "text": [
      "None\n",
      "[]\n",
      "[7, 9, 10, 13, 3, 4, 6, 2, 1, 15, 0, 14, 8, 12, 11, 5]\n",
      "[7, 9, 10, 13, 3, 4, 6, 2, 1, 15, 0, 14, 8, 12, 11, 5]\n",
      "Length of solution:  0\n",
      "Nodes Expanded= 500001\n"
     ]
    }
   ],
   "source": [
    "TileSliding.INITIAL = state1\n",
    "ret, cost = BreadthFirstSearch(TileSliding)\n",
    "print (ret)\n",
    "sol = Solution(ret)\n",
    "print (sol)\n",
    "print (TileSliding.INITIAL)\n",
    "print (ApplyMoves(sol, TileSliding.INITIAL))\n",
    "print (\"Length of solution: \", len(sol))\n",
    "print (\"Nodes Expanded=\", cost)"
   ]
  },
  {
   "cell_type": "code",
   "execution_count": 168,
   "metadata": {
    "colab": {
     "base_uri": "https://localhost:8080/"
    },
    "id": "k24bl418eL5m",
    "outputId": "9b1a7dab-7f50-45a7-a6b3-39398f1078ce"
   },
   "outputs": [
    {
     "name": "stdout",
     "output_type": "stream",
     "text": [
      "None\n",
      "[]\n",
      "[7, 9, 10, 13, 3, 4, 6, 2, 1, 15, 0, 14, 8, 12, 11, 5]\n",
      "[7, 9, 10, 13, 3, 4, 6, 2, 1, 15, 0, 14, 8, 12, 11, 5]\n",
      "Length of solution:  0\n",
      "Nodes Expanded= 500001\n"
     ]
    }
   ],
   "source": [
    "UniformCostF = lambda n: n.PathCost\n",
    "TileSliding.INITIAL = state1\n",
    "ret, cost = BestFirstSearch(TileSliding, UniformCostF)\n",
    "print (ret)\n",
    "sol = Solution(ret)\n",
    "print (sol)\n",
    "print (TileSliding.INITIAL)\n",
    "print (ApplyMoves(sol, TileSliding.INITIAL))\n",
    "print (\"Length of solution: \", len(sol))\n",
    "print (\"Nodes Expanded=\", cost)"
   ]
  },
  {
   "cell_type": "markdown",
   "metadata": {
    "id": "tdtWdXGlXFGG"
   },
   "source": [
    "# Problem List"
   ]
  },
  {
   "cell_type": "code",
   "execution_count": 169,
   "metadata": {
    "colab": {
     "base_uri": "https://localhost:8080/"
    },
    "id": "iDhmyFXQXI3N",
    "outputId": "b1402a8e-c19f-48a7-a091-c7a949c7f229"
   },
   "outputs": [
    {
     "name": "stdout",
     "output_type": "stream",
     "text": [
      "[[0, 13, 8, 4, 1, 2, 6, 15, 5, 7, 3, 14, 9, 10, 11, 12], [5, 1, 12, 8, 7, 3, 14, 4, 11, 9, 10, 2, 6, 13, 15, 0], [1, 4, 5, 9, 13, 6, 14, 12, 11, 3, 0, 10, 7, 15, 2, 8], [14, 1, 12, 7, 5, 11, 13, 9, 10, 15, 0, 3, 4, 2, 6, 8], [2, 9, 8, 12, 11, 1, 13, 4, 5, 7, 6, 14, 10, 0, 3, 15], [1, 12, 7, 2, 6, 11, 3, 5, 13, 10, 4, 9, 8, 0, 14, 15], [15, 11, 2, 5, 8, 0, 3, 12, 6, 4, 13, 10, 1, 9, 7, 14], [0, 2, 10, 11, 8, 6, 9, 15, 7, 14, 12, 1, 5, 13, 3, 4], [12, 2, 9, 10, 4, 8, 14, 11, 5, 15, 0, 1, 3, 6, 7, 13], [14, 4, 1, 3, 13, 5, 2, 11, 10, 8, 9, 7, 15, 0, 6, 12]]\n"
     ]
    }
   ],
   "source": [
    "findNum = 10\n",
    "randomWalkDistance = 300\n",
    "problemList = []\n",
    "for i in range(10):\n",
    "  state1, sol = RandomWalk(GoalState, 300)\n",
    "  problemList.append(state1)\n",
    "print (problemList)"
   ]
  },
  {
   "cell_type": "markdown",
   "metadata": {
    "id": "TpdrxwA8UvFn"
   },
   "source": [
    "### Breadth First Search w/ Test Problems"
   ]
  },
  {
   "cell_type": "code",
   "execution_count": 170,
   "metadata": {
    "colab": {
     "base_uri": "https://localhost:8080/"
    },
    "id": "xrni2RRIXkfU",
    "outputId": "97d4857e-15eb-4038-f0e7-c1c3b36cfa00"
   },
   "outputs": [
    {
     "name": "stdout",
     "output_type": "stream",
     "text": [
      "[]\n",
      "-----------------------\n",
      "[1, 8, 15, 11, 3, 0, 7, 9, 2, 13, 4, 14, 12, 6, 10, 5] \n",
      "\n",
      "[1, 8, 15, 11, 3, 0, 7, 9, 2, 13, 4, 14, 12, 6, 10, 5]\n",
      "Length of solution:  0\n",
      "Nodes Expanded= 500001\n",
      "-----------------------\n",
      "[]\n",
      "-----------------------\n",
      "[11, 2, 12, 13, 15, 4, 1, 9, 8, 5, 6, 7, 3, 0, 10, 14] \n",
      "\n",
      "[11, 2, 12, 13, 15, 4, 1, 9, 8, 5, 6, 7, 3, 0, 10, 14]\n",
      "Length of solution:  0\n",
      "Nodes Expanded= 500001\n",
      "-----------------------\n",
      "[]\n",
      "-----------------------\n",
      "[15, 3, 12, 1, 9, 0, 13, 11, 6, 4, 7, 10, 2, 14, 8, 5] \n",
      "\n",
      "[15, 3, 12, 1, 9, 0, 13, 11, 6, 4, 7, 10, 2, 14, 8, 5]\n",
      "Length of solution:  0\n",
      "Nodes Expanded= 500001\n",
      "-----------------------\n",
      "[]\n",
      "-----------------------\n",
      "[12, 3, 8, 9, 6, 1, 14, 15, 13, 4, 11, 5, 7, 0, 10, 2] \n",
      "\n",
      "[12, 3, 8, 9, 6, 1, 14, 15, 13, 4, 11, 5, 7, 0, 10, 2]\n",
      "Length of solution:  0\n",
      "Nodes Expanded= 500001\n",
      "-----------------------\n",
      "[]\n",
      "-----------------------\n",
      "[11, 8, 15, 4, 3, 9, 7, 2, 0, 14, 5, 12, 13, 6, 1, 10] \n",
      "\n",
      "[11, 8, 15, 4, 3, 9, 7, 2, 0, 14, 5, 12, 13, 6, 1, 10]\n",
      "Length of solution:  0\n",
      "Nodes Expanded= 500001\n",
      "-----------------------\n",
      "[]\n",
      "-----------------------\n",
      "[4, 5, 7, 2, 15, 14, 12, 3, 11, 6, 10, 9, 13, 0, 1, 8] \n",
      "\n",
      "[4, 5, 7, 2, 15, 14, 12, 3, 11, 6, 10, 9, 13, 0, 1, 8]\n",
      "Length of solution:  0\n",
      "Nodes Expanded= 500001\n",
      "-----------------------\n",
      "[]\n",
      "-----------------------\n",
      "[14, 10, 8, 7, 5, 13, 6, 11, 1, 12, 0, 4, 2, 9, 15, 3] \n",
      "\n",
      "[14, 10, 8, 7, 5, 13, 6, 11, 1, 12, 0, 4, 2, 9, 15, 3]\n",
      "Length of solution:  0\n",
      "Nodes Expanded= 500001\n",
      "-----------------------\n",
      "[]\n",
      "-----------------------\n",
      "[3, 9, 11, 1, 7, 5, 8, 12, 6, 14, 15, 4, 2, 10, 13, 0] \n",
      "\n",
      "[3, 9, 11, 1, 7, 5, 8, 12, 6, 14, 15, 4, 2, 10, 13, 0]\n",
      "Length of solution:  0\n",
      "Nodes Expanded= 500001\n",
      "-----------------------\n",
      "[]\n",
      "-----------------------\n",
      "[11, 4, 9, 5, 6, 13, 1, 7, 0, 15, 10, 2, 3, 12, 14, 8] \n",
      "\n",
      "[11, 4, 9, 5, 6, 13, 1, 7, 0, 15, 10, 2, 3, 12, 14, 8]\n",
      "Length of solution:  0\n",
      "Nodes Expanded= 500001\n",
      "-----------------------\n",
      "[]\n",
      "-----------------------\n",
      "[13, 3, 12, 11, 2, 7, 9, 14, 8, 6, 4, 15, 5, 0, 1, 10] \n",
      "\n",
      "[13, 3, 12, 11, 2, 7, 9, 14, 8, 6, 4, 15, 5, 0, 1, 10]\n",
      "Length of solution:  0\n",
      "Nodes Expanded= 500001\n",
      "-----------------------\n",
      "-------\n",
      "[('1815113079213414126105', '', 500001), ('1121213154198567301014', '', 500001), ('1531219013116471021485', '', 500001), ('1238961141513411570102', '', 500001), ('1181543972014512136110', '', 500001), ('4572151412311610913018', '', 500001), ('1410875136111120429153', '', 500001), ('3911175812614154210130', '', 500001), ('1149561317015102312148', '', 500001), ('1331211279148641550110', '', 500001)]\n"
     ]
    }
   ],
   "source": [
    "testProblems = [[1, 8, 15, 11, 3, 0, 7, 9, 2, 13, 4, 14, 12, 6, 10, 5], [11, 2, 12, 13, 15, 4, 1, 9, 8, 5, 6, 7, 3, 0, 10, 14], [15, 3, 12, 1, 9, 0, 13, 11, 6, 4, 7, 10, 2, 14, 8, 5], [12, 3, 8, 9, 6, 1, 14, 15, 13, 4, 11, 5, 7, 0, 10, 2], [11, 8, 15, 4, 3, 9, 7, 2, 0, 14, 5, 12, 13, 6, 1, 10], [4, 5, 7, 2, 15, 14, 12, 3, 11, 6, 10, 9, 13, 0, 1, 8], [14, 10, 8, 7, 5, 13, 6, 11, 1, 12, 0, 4, 2, 9, 15, 3], [3, 9, 11, 1, 7, 5, 8, 12, 6, 14, 15, 4, 2, 10, 13, 0], [11, 4, 9, 5, 6, 13, 1, 7, 0, 15, 10, 2, 3, 12, 14, 8], [13, 3, 12, 11, 2, 7, 9, 14, 8, 6, 4, 15, 5, 0, 1, 10]]\n",
    "\n",
    "Solutions = []\n",
    "for s in testProblems:\n",
    "  TileSliding.INITIAL = s\n",
    "  ret, cost = BreadthFirstSearch(TileSliding)\n",
    "  sol = Solution(ret)\n",
    "  print (sol)\n",
    "  print (\"-----------------------\")\n",
    "  print (TileSliding.INITIAL,'\\n')\n",
    "  print (ApplyMoves(sol, TileSliding.INITIAL))\n",
    "  print (\"Length of solution: \", len(sol))\n",
    "  print (\"Nodes Expanded=\", cost)\n",
    "  print (\"-----------------------\")\n",
    "  Solutions.append((''.join(map(str, s)), ''.join(sol), cost))\n",
    "print (\"-------\")\n",
    "print (Solutions)\n"
   ]
  },
  {
   "cell_type": "markdown",
   "metadata": {
    "id": "YLVN3sTkU0jw"
   },
   "source": [
    "### Uniform Cost Search w/ Test Problems"
   ]
  },
  {
   "cell_type": "code",
   "execution_count": 171,
   "metadata": {
    "colab": {
     "base_uri": "https://localhost:8080/"
    },
    "id": "LsWVfbeLRYfO",
    "outputId": "8a792c22-bd2c-4f5a-fa73-f1747b47c514"
   },
   "outputs": [
    {
     "name": "stdout",
     "output_type": "stream",
     "text": [
      "[]\n",
      "-----------------------\n",
      "[1, 8, 15, 11, 3, 0, 7, 9, 2, 13, 4, 14, 12, 6, 10, 5] \n",
      "\n",
      "[1, 8, 15, 11, 3, 0, 7, 9, 2, 13, 4, 14, 12, 6, 10, 5]\n",
      "Length of solution:  0\n",
      "Nodes Expanded= 500001\n",
      "-----------------------\n",
      "[]\n",
      "-----------------------\n",
      "[11, 2, 12, 13, 15, 4, 1, 9, 8, 5, 6, 7, 3, 0, 10, 14] \n",
      "\n",
      "[11, 2, 12, 13, 15, 4, 1, 9, 8, 5, 6, 7, 3, 0, 10, 14]\n",
      "Length of solution:  0\n",
      "Nodes Expanded= 500001\n",
      "-----------------------\n",
      "[]\n",
      "-----------------------\n",
      "[15, 3, 12, 1, 9, 0, 13, 11, 6, 4, 7, 10, 2, 14, 8, 5] \n",
      "\n",
      "[15, 3, 12, 1, 9, 0, 13, 11, 6, 4, 7, 10, 2, 14, 8, 5]\n",
      "Length of solution:  0\n",
      "Nodes Expanded= 500001\n",
      "-----------------------\n",
      "[]\n",
      "-----------------------\n",
      "[12, 3, 8, 9, 6, 1, 14, 15, 13, 4, 11, 5, 7, 0, 10, 2] \n",
      "\n",
      "[12, 3, 8, 9, 6, 1, 14, 15, 13, 4, 11, 5, 7, 0, 10, 2]\n",
      "Length of solution:  0\n",
      "Nodes Expanded= 500001\n",
      "-----------------------\n",
      "[]\n",
      "-----------------------\n",
      "[11, 8, 15, 4, 3, 9, 7, 2, 0, 14, 5, 12, 13, 6, 1, 10] \n",
      "\n",
      "[11, 8, 15, 4, 3, 9, 7, 2, 0, 14, 5, 12, 13, 6, 1, 10]\n",
      "Length of solution:  0\n",
      "Nodes Expanded= 500001\n",
      "-----------------------\n",
      "[]\n",
      "-----------------------\n",
      "[4, 5, 7, 2, 15, 14, 12, 3, 11, 6, 10, 9, 13, 0, 1, 8] \n",
      "\n",
      "[4, 5, 7, 2, 15, 14, 12, 3, 11, 6, 10, 9, 13, 0, 1, 8]\n",
      "Length of solution:  0\n",
      "Nodes Expanded= 500001\n",
      "-----------------------\n",
      "[]\n",
      "-----------------------\n",
      "[14, 10, 8, 7, 5, 13, 6, 11, 1, 12, 0, 4, 2, 9, 15, 3] \n",
      "\n",
      "[14, 10, 8, 7, 5, 13, 6, 11, 1, 12, 0, 4, 2, 9, 15, 3]\n",
      "Length of solution:  0\n",
      "Nodes Expanded= 500001\n",
      "-----------------------\n",
      "[]\n",
      "-----------------------\n",
      "[3, 9, 11, 1, 7, 5, 8, 12, 6, 14, 15, 4, 2, 10, 13, 0] \n",
      "\n",
      "[3, 9, 11, 1, 7, 5, 8, 12, 6, 14, 15, 4, 2, 10, 13, 0]\n",
      "Length of solution:  0\n",
      "Nodes Expanded= 500001\n",
      "-----------------------\n",
      "[]\n",
      "-----------------------\n",
      "[11, 4, 9, 5, 6, 13, 1, 7, 0, 15, 10, 2, 3, 12, 14, 8] \n",
      "\n",
      "[11, 4, 9, 5, 6, 13, 1, 7, 0, 15, 10, 2, 3, 12, 14, 8]\n",
      "Length of solution:  0\n",
      "Nodes Expanded= 500001\n",
      "-----------------------\n",
      "[]\n",
      "-----------------------\n",
      "[13, 3, 12, 11, 2, 7, 9, 14, 8, 6, 4, 15, 5, 0, 1, 10] \n",
      "\n",
      "[13, 3, 12, 11, 2, 7, 9, 14, 8, 6, 4, 15, 5, 0, 1, 10]\n",
      "Length of solution:  0\n",
      "Nodes Expanded= 500001\n",
      "-----------------------\n",
      "-------\n",
      "[('1815113079213414126105', '', 500001), ('1121213154198567301014', '', 500001), ('1531219013116471021485', '', 500001), ('1238961141513411570102', '', 500001), ('1181543972014512136110', '', 500001), ('4572151412311610913018', '', 500001), ('1410875136111120429153', '', 500001), ('3911175812614154210130', '', 500001), ('1149561317015102312148', '', 500001), ('1331211279148641550110', '', 500001)]\n"
     ]
    }
   ],
   "source": [
    "UniformCostF = lambda n: n.PathCost\n",
    "testProblems = [[1, 8, 15, 11, 3, 0, 7, 9, 2, 13, 4, 14, 12, 6, 10, 5], [11, 2, 12, 13, 15, 4, 1, 9, 8, 5, 6, 7, 3, 0, 10, 14], [15, 3, 12, 1, 9, 0, 13, 11, 6, 4, 7, 10, 2, 14, 8, 5], [12, 3, 8, 9, 6, 1, 14, 15, 13, 4, 11, 5, 7, 0, 10, 2], [11, 8, 15, 4, 3, 9, 7, 2, 0, 14, 5, 12, 13, 6, 1, 10], [4, 5, 7, 2, 15, 14, 12, 3, 11, 6, 10, 9, 13, 0, 1, 8], [14, 10, 8, 7, 5, 13, 6, 11, 1, 12, 0, 4, 2, 9, 15, 3], [3, 9, 11, 1, 7, 5, 8, 12, 6, 14, 15, 4, 2, 10, 13, 0], [11, 4, 9, 5, 6, 13, 1, 7, 0, 15, 10, 2, 3, 12, 14, 8], [13, 3, 12, 11, 2, 7, 9, 14, 8, 6, 4, 15, 5, 0, 1, 10]]\n",
    "\n",
    "Solutions = []\n",
    "for s in testProblems:\n",
    "  TileSliding.INITIAL = s\n",
    "  ret, cost = BestFirstSearch(TileSliding, UniformCostF)\n",
    "  sol = Solution(ret)\n",
    "  print (sol)\n",
    "  print (\"-----------------------\")\n",
    "  print (TileSliding.INITIAL,'\\n')\n",
    "  print (ApplyMoves(sol, TileSliding.INITIAL))\n",
    "  print (\"Length of solution: \", len(sol))\n",
    "  print (\"Nodes Expanded=\", cost)\n",
    "  print (\"-----------------------\")\n",
    "  Solutions.append((''.join(map(str, s)), ''.join(sol), cost))\n",
    "print (\"-------\")\n",
    "print (Solutions)"
   ]
  },
  {
   "cell_type": "markdown",
   "metadata": {
    "id": "p8yiFsHoU6sf"
   },
   "source": [
    "### AStar using ManhattanDistance w/ Test Problems"
   ]
  },
  {
   "cell_type": "code",
   "execution_count": 172,
   "metadata": {
    "colab": {
     "base_uri": "https://localhost:8080/"
    },
    "id": "6VD8LuUJRhxU",
    "outputId": "b652997e-932b-430e-f6c7-471867a4df52"
   },
   "outputs": [
    {
     "name": "stdout",
     "output_type": "stream",
     "text": [
      "[]\n",
      "-----------------------\n",
      "[2, 4, 1, 15, 12, 5, 14, 13, 9, 7, 10, 6, 11, 0, 8, 3] \n",
      "\n",
      "[2, 4, 1, 15, 12, 5, 14, 13, 9, 7, 10, 6, 11, 0, 8, 3]\n",
      "Length of solution:  0\n",
      "Nodes Expanded= 500001\n",
      "-----------------------\n",
      "['u', 'l', 'u', 'u', 'l', 'l', 'd', 'd', 'd', 'r', 'u', 'r', 'u', 'l', 'u', 'l', 'd', 'd', 'd', 'r', 'u', 'r', 'd', 'l', 'u', 'u', 'r', 'd', 'r', 'd', 'l', 'l', 'u', 'u', 'r', 'u', 'l', 'd', 'l', 'u', 'r', 'd', 'l', 'd']\n",
      "-----------------------\n",
      "[13, 7, 14, 4, 3, 9, 15, 8, 6, 12, 10, 11, 2, 5, 1, 0] \n",
      "\n",
      "[1, 2, 3, 4, 5, 6, 7, 8, 0, 9, 10, 11, 12, 13, 14, 15]\n",
      "Length of solution:  44\n",
      "Nodes Expanded= 171776\n",
      "-----------------------\n",
      "[]\n",
      "-----------------------\n",
      "[12, 13, 3, 2, 8, 7, 5, 9, 10, 1, 15, 11, 6, 0, 4, 14] \n",
      "\n",
      "[12, 13, 3, 2, 8, 7, 5, 9, 10, 1, 15, 11, 6, 0, 4, 14]\n",
      "Length of solution:  0\n",
      "Nodes Expanded= 500001\n",
      "-----------------------\n",
      "['d', 'r', 'd', 'l', 'd', 'l', 'u', 'u', 'r', 'r', 'u', 'l', 'l', 'l', 'd', 'd', 'r', 'u', 'u', 'r', 'd', 'l', 'l', 'd', 'd', 'r', 'u', 'l', 'u', 'u', 'r', 'r', 'd', 'l', 'd', 'r', 'd', 'r', 'u', 'u', 'l', 'l', 'l', 'd']\n",
      "-----------------------\n",
      "[3, 1, 0, 11, 6, 5, 4, 13, 8, 12, 15, 2, 7, 10, 9, 14] \n",
      "\n",
      "[1, 2, 3, 4, 5, 6, 7, 8, 0, 9, 10, 11, 12, 13, 14, 15]\n",
      "Length of solution:  44\n",
      "Nodes Expanded= 232669\n",
      "-----------------------\n",
      "[]\n",
      "-----------------------\n",
      "[7, 11, 2, 14, 1, 0, 9, 3, 13, 5, 8, 12, 15, 10, 6, 4] \n",
      "\n",
      "[7, 11, 2, 14, 1, 0, 9, 3, 13, 5, 8, 12, 15, 10, 6, 4]\n",
      "Length of solution:  0\n",
      "Nodes Expanded= 500001\n",
      "-----------------------\n",
      "['d', 'l', 'u', 'r', 'd', 'd', 'r', 'r', 'u', 'u', 'l', 'l', 'd', 'r', 'r', 'u', 'l', 'u', 'l', 'd', 'l', 'd', 'r', 'd', 'r', 'u', 'u', 'u', 'r', 'd', 'l', 'l', 'd', 'd', 'r', 'r', 'u', 'u', 'u', 'l', 'l', 'd', 'd', 'l']\n",
      "-----------------------\n",
      "[1, 11, 10, 4, 5, 0, 15, 13, 8, 7, 9, 14, 12, 3, 2, 6] \n",
      "\n",
      "[1, 2, 3, 4, 5, 6, 7, 8, 0, 9, 10, 11, 12, 13, 14, 15]\n",
      "Length of solution:  44\n",
      "Nodes Expanded= 368406\n",
      "-----------------------\n",
      "[]\n",
      "-----------------------\n",
      "[7, 13, 12, 8, 4, 11, 2, 6, 14, 5, 0, 3, 10, 15, 9, 1] \n",
      "\n",
      "[7, 13, 12, 8, 4, 11, 2, 6, 14, 5, 0, 3, 10, 15, 9, 1]\n",
      "Length of solution:  0\n",
      "Nodes Expanded= 500001\n",
      "-----------------------\n",
      "[]\n",
      "-----------------------\n",
      "[5, 8, 2, 7, 14, 11, 10, 3, 15, 6, 0, 1, 12, 4, 9, 13] \n",
      "\n",
      "[5, 8, 2, 7, 14, 11, 10, 3, 15, 6, 0, 1, 12, 4, 9, 13]\n",
      "Length of solution:  0\n",
      "Nodes Expanded= 500001\n",
      "-----------------------\n",
      "[]\n",
      "-----------------------\n",
      "[12, 2, 0, 5, 14, 3, 10, 4, 9, 11, 7, 15, 8, 13, 6, 1] \n",
      "\n",
      "[12, 2, 0, 5, 14, 3, 10, 4, 9, 11, 7, 15, 8, 13, 6, 1]\n",
      "Length of solution:  0\n",
      "Nodes Expanded= 500001\n",
      "-----------------------\n",
      "[]\n",
      "-----------------------\n",
      "[10, 3, 4, 2, 6, 8, 7, 13, 5, 12, 0, 11, 15, 9, 1, 14] \n",
      "\n",
      "[10, 3, 4, 2, 6, 8, 7, 13, 5, 12, 0, 11, 15, 9, 1, 14]\n",
      "Length of solution:  0\n",
      "Nodes Expanded= 500001\n",
      "-----------------------\n",
      "-------\n",
      "[('2411512514139710611083', '', 500001), ('1371443915861210112510', 'uluulldddrurululdddrurdluurdrdlluuruldlurdld', 171776), ('1213328759101151160414', '', 500001), ('3101165413812152710914', 'drdldluurrulllddruurdllddruluurrdldrdruullld', 232669), ('7112141093135812151064', '', 500001), ('1111045015138791412326', 'dlurddrruulldrrululdldrdruuurdllddrruuullddl', 368406), ('7131284112614503101591', '', 500001), ('5827141110315601124913', '', 500001), ('1220514310491171581361', '', 500001), ('1034268713512011159114', '', 500001)]\n"
     ]
    }
   ],
   "source": [
    "AStarFb = lambda n: n.PathCost + Manhattan(n.State, GoalState)\n",
    "testProblems = [[2, 4, 1, 15, 12, 5, 14, 13, 9, 7, 10, 6, 11, 0, 8, 3], [13, 7, 14, 4, 3, 9, 15, 8, 6, 12, 10, 11, 2, 5, 1, 0], [12, 13, 3, 2, 8, 7, 5, 9, 10, 1, 15, 11, 6, 0, 4, 14], [3, 1, 0, 11, 6, 5, 4, 13, 8, 12, 15, 2, 7, 10, 9, 14], [7, 11, 2, 14, 1, 0, 9, 3, 13, 5, 8, 12, 15, 10, 6, 4], [1, 11, 10, 4, 5, 0, 15, 13, 8, 7, 9, 14, 12, 3, 2, 6], [7, 13, 12, 8, 4, 11, 2, 6, 14, 5, 0, 3, 10, 15, 9, 1], [5, 8, 2, 7, 14, 11, 10, 3, 15, 6, 0, 1, 12, 4, 9, 13], [12, 2, 0, 5, 14, 3, 10, 4, 9, 11, 7, 15, 8, 13, 6, 1], [10, 3, 4, 2, 6, 8, 7, 13, 5, 12, 0, 11, 15, 9, 1, 14]]\n",
    "\n",
    "Solutions = []\n",
    "for s in testProblems:\n",
    "  TileSliding.INITIAL = s\n",
    "  ret, cost = BestFirstSearch(TileSliding, AStarF)\n",
    "  sol = Solution(ret)\n",
    "  print (sol)\n",
    "  print (\"-----------------------\")\n",
    "  print (TileSliding.INITIAL,'\\n')\n",
    "  print (ApplyMoves(sol, TileSliding.INITIAL))\n",
    "  print (\"Length of solution: \", len(sol))\n",
    "  print (\"Nodes Expanded=\", cost)\n",
    "  print (\"-----------------------\")\n",
    "  Solutions.append((''.join(map(str, s)), ''.join(sol), cost))\n",
    "print (\"-------\")\n",
    "print (Solutions)"
   ]
  },
  {
   "cell_type": "markdown",
   "metadata": {
    "id": "dluzNjyYVBSl"
   },
   "source": [
    "### AStar using OutOfPlace w/ Test Problems"
   ]
  },
  {
   "cell_type": "code",
   "execution_count": 173,
   "metadata": {
    "colab": {
     "base_uri": "https://localhost:8080/"
    },
    "id": "m7icYl-JUGbR",
    "outputId": "180b55bc-3d50-414b-ede3-319a59b83b78"
   },
   "outputs": [
    {
     "name": "stdout",
     "output_type": "stream",
     "text": [
      "[]\n",
      "-----------------------\n",
      "[1, 8, 15, 11, 3, 0, 7, 9, 2, 13, 4, 14, 12, 6, 10, 5] \n",
      "\n",
      "[1, 8, 15, 11, 3, 0, 7, 9, 2, 13, 4, 14, 12, 6, 10, 5]\n",
      "Length of solution:  0\n",
      "Nodes Expanded= 500001\n",
      "-----------------------\n",
      "[]\n",
      "-----------------------\n",
      "[11, 2, 12, 13, 15, 4, 1, 9, 8, 5, 6, 7, 3, 0, 10, 14] \n",
      "\n",
      "[11, 2, 12, 13, 15, 4, 1, 9, 8, 5, 6, 7, 3, 0, 10, 14]\n",
      "Length of solution:  0\n",
      "Nodes Expanded= 500001\n",
      "-----------------------\n",
      "[]\n",
      "-----------------------\n",
      "[15, 3, 12, 1, 9, 0, 13, 11, 6, 4, 7, 10, 2, 14, 8, 5] \n",
      "\n",
      "[15, 3, 12, 1, 9, 0, 13, 11, 6, 4, 7, 10, 2, 14, 8, 5]\n",
      "Length of solution:  0\n",
      "Nodes Expanded= 500001\n",
      "-----------------------\n",
      "[]\n",
      "-----------------------\n",
      "[12, 3, 8, 9, 6, 1, 14, 15, 13, 4, 11, 5, 7, 0, 10, 2] \n",
      "\n",
      "[12, 3, 8, 9, 6, 1, 14, 15, 13, 4, 11, 5, 7, 0, 10, 2]\n",
      "Length of solution:  0\n",
      "Nodes Expanded= 500001\n",
      "-----------------------\n",
      "[]\n",
      "-----------------------\n",
      "[11, 8, 15, 4, 3, 9, 7, 2, 0, 14, 5, 12, 13, 6, 1, 10] \n",
      "\n",
      "[11, 8, 15, 4, 3, 9, 7, 2, 0, 14, 5, 12, 13, 6, 1, 10]\n",
      "Length of solution:  0\n",
      "Nodes Expanded= 500001\n",
      "-----------------------\n",
      "[]\n",
      "-----------------------\n",
      "[4, 5, 7, 2, 15, 14, 12, 3, 11, 6, 10, 9, 13, 0, 1, 8] \n",
      "\n",
      "[4, 5, 7, 2, 15, 14, 12, 3, 11, 6, 10, 9, 13, 0, 1, 8]\n",
      "Length of solution:  0\n",
      "Nodes Expanded= 500001\n",
      "-----------------------\n",
      "[]\n",
      "-----------------------\n",
      "[14, 10, 8, 7, 5, 13, 6, 11, 1, 12, 0, 4, 2, 9, 15, 3] \n",
      "\n",
      "[14, 10, 8, 7, 5, 13, 6, 11, 1, 12, 0, 4, 2, 9, 15, 3]\n",
      "Length of solution:  0\n",
      "Nodes Expanded= 500001\n",
      "-----------------------\n",
      "[]\n",
      "-----------------------\n",
      "[3, 9, 11, 1, 7, 5, 8, 12, 6, 14, 15, 4, 2, 10, 13, 0] \n",
      "\n",
      "[3, 9, 11, 1, 7, 5, 8, 12, 6, 14, 15, 4, 2, 10, 13, 0]\n",
      "Length of solution:  0\n",
      "Nodes Expanded= 500001\n",
      "-----------------------\n",
      "[]\n",
      "-----------------------\n",
      "[11, 4, 9, 5, 6, 13, 1, 7, 0, 15, 10, 2, 3, 12, 14, 8] \n",
      "\n",
      "[11, 4, 9, 5, 6, 13, 1, 7, 0, 15, 10, 2, 3, 12, 14, 8]\n",
      "Length of solution:  0\n",
      "Nodes Expanded= 500001\n",
      "-----------------------\n",
      "[]\n",
      "-----------------------\n",
      "[13, 3, 12, 11, 2, 7, 9, 14, 8, 6, 4, 15, 5, 0, 1, 10] \n",
      "\n",
      "[13, 3, 12, 11, 2, 7, 9, 14, 8, 6, 4, 15, 5, 0, 1, 10]\n",
      "Length of solution:  0\n",
      "Nodes Expanded= 500001\n",
      "-----------------------\n",
      "-------\n",
      "[('1815113079213414126105', '', 500001), ('1121213154198567301014', '', 500001), ('1531219013116471021485', '', 500001), ('1238961141513411570102', '', 500001), ('1181543972014512136110', '', 500001), ('4572151412311610913018', '', 500001), ('1410875136111120429153', '', 500001), ('3911175812614154210130', '', 500001), ('1149561317015102312148', '', 500001), ('1331211279148641550110', '', 500001)]\n"
     ]
    }
   ],
   "source": [
    "AStarFb = lambda n: n.PathCost + OutOfPlace(n.State, GoalState)\n",
    "testProblems = [[1, 8, 15, 11, 3, 0, 7, 9, 2, 13, 4, 14, 12, 6, 10, 5], [11, 2, 12, 13, 15, 4, 1, 9, 8, 5, 6, 7, 3, 0, 10, 14], [15, 3, 12, 1, 9, 0, 13, 11, 6, 4, 7, 10, 2, 14, 8, 5], [12, 3, 8, 9, 6, 1, 14, 15, 13, 4, 11, 5, 7, 0, 10, 2], [11, 8, 15, 4, 3, 9, 7, 2, 0, 14, 5, 12, 13, 6, 1, 10], [4, 5, 7, 2, 15, 14, 12, 3, 11, 6, 10, 9, 13, 0, 1, 8], [14, 10, 8, 7, 5, 13, 6, 11, 1, 12, 0, 4, 2, 9, 15, 3], [3, 9, 11, 1, 7, 5, 8, 12, 6, 14, 15, 4, 2, 10, 13, 0], [11, 4, 9, 5, 6, 13, 1, 7, 0, 15, 10, 2, 3, 12, 14, 8], [13, 3, 12, 11, 2, 7, 9, 14, 8, 6, 4, 15, 5, 0, 1, 10]]\n",
    "\n",
    "Solutions = []\n",
    "for s in testProblems:\n",
    "  TileSliding.INITIAL = s\n",
    "  ret, cost = BestFirstSearch(TileSliding, AStarFb)\n",
    "  sol = Solution(ret)\n",
    "  print (sol)\n",
    "  print (\"-----------------------\")\n",
    "  print (TileSliding.INITIAL,'\\n')\n",
    "  print (ApplyMoves(sol, TileSliding.INITIAL))\n",
    "  print (\"Length of solution: \", len(sol))\n",
    "  print (\"Nodes Expanded=\", cost)\n",
    "  print (\"-----------------------\")\n",
    "  Solutions.append((''.join(map(str, s)), ''.join(sol), cost))\n",
    "print (\"-------\")\n",
    "print (Solutions)"
   ]
  },
  {
   "cell_type": "markdown",
   "metadata": {
    "id": "TEBWJx6DwN-r"
   },
   "source": [
    "### Best First Search -- Greedy"
   ]
  },
  {
   "cell_type": "code",
   "execution_count": 174,
   "metadata": {
    "colab": {
     "base_uri": "https://localhost:8080/"
    },
    "id": "fI27-Y5ivXdw",
    "outputId": "0e78f087-b7ea-433a-9fa2-3aad3e5d5b03"
   },
   "outputs": [
    {
     "name": "stdout",
     "output_type": "stream",
     "text": [
      "['d', 'r', 'd', 'r', 'u', 'u', 'u', 'l', 'l', 'd', 'd', 'd', 'r', 'r', 'u', 'u', 'l', 'l', 'u', 'r', 'd', 'r', 'u', 'l', 'l', 'l', 'd', 'd', 'r', 'u', 'l', 'u', 'r', 'd', 'd', 'd', 'l', 'u', 'r', 'u', 'l', 'd', 'd', 'r', 'u', 'r', 'u', 'l', 'u', 'r', 'd', 'd', 'l', 'u', 'u', 'l', 'd', 'r', 'd', 'l', 'u', 'u', 'r', 'd', 'd', 'd', 'r', 'r', 'u', 'l', 'd', 'l', 'u', 'r', 'r', 'd', 'l', 'u', 'r', 'u', 'l', 'd', 'd', 'r', 'u', 'l', 'u', 'r', 'd', 'l', 'l', 'l', 'u', 'r', 'd', 'r', 'u', 'l', 'l', 'd', 'r', 'r', 'r', 'u', 'l', 'd', 'l', 'u', 'r', 'd', 'r', 'u', 'l', 'l', 'd', 'r', 'u', 'r', 'd', 'l', 'l', 'l']\n",
      "-----------------------\n",
      "[1, 8, 15, 11, 3, 0, 7, 9, 2, 13, 4, 14, 12, 6, 10, 5] \n",
      "\n",
      "[1, 2, 3, 4, 5, 6, 7, 8, 0, 9, 10, 11, 12, 13, 14, 15]\n",
      "Length of solution:  122\n",
      "Nodes Expanded= 4468\n",
      "-----------------------\n",
      "['r', 'r', 'u', 'l', 'u', 'l', 'd', 'l', 'u', 'r', 'r', 'r', 'd', 'l', 'u', 'l', 'd', 'r', 'r', 'u', 'l', 'u', 'r', 'd', 'l', 'l', 'd', 'r', 'r', 'u', 'l', 'd', 'l', 'u', 'r', 'd', 'r', 'd', 'l', 'l', 'u', 'r', 'd', 'l', 'u', 'l', 'd', 'r', 'r', 'r', 'u', 'l', 'l', 'd', 'r', 'u', 'r', 'd', 'l', 'l', 'u', 'u', 'r', 'u', 'l', 'd', 'd', 'l', 'u', 'u', 'r', 'r', 'd', 'l', 'l', 'd', 'r', 'u', 'r', 'd', 'l', 'd', 'r', 'r', 'u', 'l', 'u', 'r', 'd', 'd', 'l', 'u', 'r', 'u', 'l', 'd', 'd', 'l', 'u', 'u', 'l', 'd', 'r', 'd', 'l', 'u', 'u', 'r', 'd', 'l', 'd', 'r', 'r', 'u', 'l', 'u', 'r', 'd', 'd', 'l', 'u', 'u', 'u', 'r', 'd', 'l', 'd', 'd', 'r', 'u', 'u', 'l', 'd', 'r', 'd', 'l', 'l', 'u', 'r', 'u', 'u', 'l', 'd', 'd', 'd', 'r', 'u', 'u', 'l', 'u', 'r', 'd', 'd', 'd', 'l', 'u', 'r', 'u', 'l', 'd', 'd', 'r', 'u', 'l', 'u', 'r', 'd', 'l']\n",
      "-----------------------\n",
      "[11, 2, 12, 13, 15, 4, 1, 9, 8, 5, 6, 7, 3, 0, 10, 14] \n",
      "\n",
      "[1, 2, 3, 4, 5, 6, 7, 8, 0, 9, 10, 11, 12, 13, 14, 15]\n",
      "Length of solution:  168\n",
      "Nodes Expanded= 12537\n",
      "-----------------------\n",
      "['r', 'd', 'r', 'u', 'u', 'l', 'l', 'l', 'd', 'd', 'r', 'u', 'l', 'd', 'd', 'r', 'u', 'l', 'u', 'r', 'd', 'l', 'u', 'u', 'r', 'd', 'l', 'd', 'r', 'u', 'l', 'd', 'd', 'r', 'r', 'u', 'l', 'd', 'l', 'u', 'r', 'r', 'd', 'l', 'l', 'u', 'r', 'd', 'r', 'u', 'l', 'l', 'd', 'r', 'r', 'u', 'l', 'd', 'l', 'u', 'u', 'r', 'd', 'r', 'u', 'l', 'l', 'd', 'r', 'r', 'u', 'l', 'd', 'l', 'u', 'u', 'r', 'd', 'r', 'r', 'u', 'l', 'l', 'l', 'd', 'r', 'r', 'u', 'l', 'd', 'l', 'u', 'r', 'r', 'r', 'd', 'l', 'd', 'l', 'l', 'u', 'r', 'd', 'r', 'u', 'l', 'u', 'r', 'd', 'r', 'u', 'l', 'l', 'd', 'r', 'r', 'd', 'l', 'u', 'l', 'd', 'l', 'u', 'r', 'd', 'r', 'r', 'u', 'l', 'l', 'd', 'l', 'u', 'r', 'd', 'r', 'u', 'r', 'd', 'l', 'l', 'l', 'd', 'r', 'r', 'r', 'u', 'l', 'd', 'l', 'l', 'u', 'r', 'r', 'r', 'u', 'l', 'l', 'd', 'l', 'u', 'r', 'r', 'r', 'd', 'l', 'd', 'l', 'l', 'u', 'r', 'd', 'r', 'u', 'l', 'u', 'r', 'd', 'r', 'u', 'l', 'l', 'd', 'l']\n",
      "-----------------------\n",
      "[15, 3, 12, 1, 9, 0, 13, 11, 6, 4, 7, 10, 2, 14, 8, 5] \n",
      "\n",
      "[1, 2, 3, 4, 5, 6, 7, 8, 0, 9, 10, 11, 12, 13, 14, 15]\n",
      "Length of solution:  184\n",
      "Nodes Expanded= 20547\n",
      "-----------------------\n",
      "['u', 'u', 'l', 'd', 'r', 'r', 'd', 'r', 'u', 'u', 'u', 'l', 'l', 'l', 'd', 'd', 'd', 'r', 'r', 'r', 'u', 'u', 'u', 'l', 'l', 'l', 'd', 'd', 'd', 'r', 'r', 'u', 'l', 'd', 'l', 'u', 'r', 'r', 'd', 'l', 'u', 'u', 'l', 'd', 'r', 'r', 'u', 'l', 'd', 'd', 'r', 'u', 'l', 'u', 'u', 'r', 'r', 'd', 'd', 'l', 'l', 'u', 'l', 'd', 'd', 'r', 'u', 'l', 'u', 'r', 'r', 'u', 'l', 'd', 'r', 'r', 'u', 'l', 'l', 'd', 'r', 'u', 'l', 'l', 'd', 'r', 'd', 'l', 'u', 'u', 'r', 'd', 'd', 'l', 'd', 'r', 'u', 'u', 'l', 'd', 'r', 'd', 'l', 'u', 'u', 'r', 'u', 'r', 'r', 'd', 'l', 'l', 'u', 'r', 'd', 'r', 'u', 'l', 'd', 'd', 'l', 'u', 'r', 'u', 'l', 'd', 'd', 'r', 'u', 'l', 'u', 'r', 'd', 'd', 'l', 'l', 'u', 'r', 'd', 'r', 'u', 'l', 'l', 'd', 'r', 'u', 'r', 'd', 'l', 'u', 'u', 'l', 'd', 'r', 'd', 'l', 'u', 'u', 'r', 'd', 'l', 'd', 'd', 'r', 'u', 'l', 'u', 'r', 'd', 'd', 'l', 'u']\n",
      "-----------------------\n",
      "[12, 3, 8, 9, 6, 1, 14, 15, 13, 4, 11, 5, 7, 0, 10, 2] \n",
      "\n",
      "[1, 2, 3, 4, 5, 6, 7, 8, 0, 9, 10, 11, 12, 13, 14, 15]\n",
      "Length of solution:  172\n",
      "Nodes Expanded= 46809\n",
      "-----------------------\n",
      "['r', 'u', 'l', 'd', 'd', 'r', 'r', 'r', 'u', 'l', 'd', 'l', 'u', 'l', 'd', 'r', 'u', 'l', 'u', 'r', 'd', 'l', 'd', 'r', 'u', 'l', 'u', 'u', 'r', 'r', 'd', 'r', 'd', 'd', 'l', 'l', 'l', 'u', 'u', 'r', 'r', 'u', 'l', 'd', 'l', 'd', 'r', 'r', 'r', 'd', 'l', 'u', 'l', 'd', 'r', 'r', 'u', 'l', 'l', 'l', 'd', 'r', 'u', 'r', 'r', 'd', 'l', 'l', 'u', 'r', 'd', 'r', 'u', 'u', 'l', 'd', 'l', 'u', 'l', 'd', 'r', 'u', 'r', 'r', 'd', 'l', 'l', 'u', 'r', 'd', 'r', 'u', 'l', 'l', 'd', 'l', 'u', 'r', 'd', 'r', 'r', 'u', 'l', 'd', 'l', 'u', 'l', 'd', 'r', 'u', 'r', 'u', 'l', 'd', 'l', 'u', 'r', 'r', 'd', 'l', 'l', 'u', 'r', 'r', 'd', 'l', 'u', 'l', 'd', 'd', 'r', 'u', 'l', 'u', 'r', 'd', 'd', 'l', 'u', 'r', 'u', 'l', 'd', 'd', 'r', 'r', 'u', 'r', 'd', 'd', 'l', 'u', 'r', 'u', 'l', 'd', 'd', 'r', 'u', 'l', 'l', 'l', 'u', 'r', 'r', 'r', 'd', 'l', 'l', 'u', 'l', 'd', 'r', 'd', 'r', 'u', 'r', 'd', 'l', 'l', 'u', 'l', 'u', 'u', 'r', 'd', 'd', 'l', 'u', 'r', 'u', 'l', 'd', 'd', 'r', 'r', 'u', 'l', 'l', 'd', 'r', 'u', 'r', 'd', 'l', 'd', 'r', 'r', 'u', 'l', 'd', 'l', 'u', 'r', 'r', 'd', 'l', 'l', 'u', 'r', 'd', 'r', 'u', 'l', 'l', 'd', 'r', 'u', 'r', 'd', 'l', 'u', 'l', 'l', 'd', 'r', 'r', 'u', 'l', 'd', 'l', 'u', 'r', 'r', 'd', 'l', 'u', 'l', 'd', 'r', 'u', 'r', 'd', 'l', 'l', 'u', 'r', 'd', 'r', 'u', 'l', 'l']\n",
      "-----------------------\n",
      "[11, 8, 15, 4, 3, 9, 7, 2, 0, 14, 5, 12, 13, 6, 1, 10] \n",
      "\n",
      "[1, 2, 3, 4, 5, 6, 7, 8, 0, 9, 10, 11, 12, 13, 14, 15]\n",
      "Length of solution:  262\n",
      "Nodes Expanded= 24635\n",
      "-----------------------\n",
      "['l', 'u', 'u', 'r', 'd', 'l', 'u', 'u', 'r', 'r', 'd', 'r', 'u', 'l', 'd', 'l', 'l', 'u', 'r', 'd', 'r', 'd', 'r', 'd', 'l', 'u', 'u', 'r', 'd', 'l', 'l', 'd', 'r', 'u', 'r', 'd', 'l', 'u', 'l', 'l', 'd', 'r', 'u', 'r', 'd', 'l', 'u', 'u', 'r', 'u', 'l', 'd', 'd', 'r', 'r', 'u', 'u', 'l', 'd', 'r', 'd', 'l', 'l', 'l', 'u', 'r', 'r', 'd', 'l', 'u', 'l', 'd', 'd', 'r', 'u', 'l', 'd', 'r', 'r', 'r', 'u', 'l', 'u', 'r', 'd', 'd', 'l', 'u', 'r', 'u', 'l', 'd', 'd', 'l', 'u', 'u', 'l', 'd', 'r', 'd', 'l', 'u', 'u', 'r', 'd', 'l', 'd', 'r', 'u', 'u', 'r', 'd', 'l', 'l', 'u', 'r', 'd', 'r', 'u', 'u', 'l', 'l', 'd', 'r', 'u', 'r', 'd', 'l', 'l', 'd']\n",
      "-----------------------\n",
      "[4, 5, 7, 2, 15, 14, 12, 3, 11, 6, 10, 9, 13, 0, 1, 8] \n",
      "\n",
      "[1, 2, 3, 4, 5, 6, 7, 8, 0, 9, 10, 11, 12, 13, 14, 15]\n",
      "Length of solution:  130\n",
      "Nodes Expanded= 5741\n",
      "-----------------------\n",
      "['l', 'd', 'r', 'u', 'r', 'u', 'u', 'l', 'd', 'r', 'u', 'l', 'l', 'd', 'd', 'd', 'r', 'u', 'l', 'l', 'd', 'r', 'r', 'u', 'r', 'd', 'l', 'l', 'u', 'u', 'u', 'r', 'r', 'd', 'd', 'l', 'u', 'r', 'u', 'l', 'd', 'd', 'l', 'u', 'r', 'd', 'd', 'l', 'u', 'r', 'u', 'l', 'l', 'd', 'r', 'u', 'u', 'l', 'd', 'd', 'r', 'u', 'u', 'l', 'd', 'r', 'd', 'r', 'u', 'l', 'l', 'd', 'r', 'u', 'r', 'd', 'l', 'l', 'd', 'r', 'r', 'u', 'l', 'd', 'l', 'u', 'u', 'r', 'd', 'r', 'u', 'l', 'l', 'd', 'r', 'u', 'r', 'd', 'l', 'u', 'l', 'u', 'r', 'd', 'd', 'l', 'u', 'r', 'u', 'l', 'd', 'r', 'r', 'u', 'r', 'd', 'l', 'l', 'u', 'r', 'd', 'r', 'u', 'l', 'd', 'l', 'd', 'r', 'u', 'l', 'u', 'r', 'd', 'd', 'l', 'u', 'r', 'u', 'l', 'd', 'd', 'l', 'u', 'r', 'd', 'r', 'u', 'l', 'l', 'd', 'r', 'r', 'r', 'u', 'u', 'l', 'd', 'r', 'u', 'l', 'd', 'r', 'd', 'l', 'l', 'u', 'r', 'u', 'l', 'd', 'd', 'r', 'u', 'u', 'l', 'd', 'r', 'd', 'l', 'l', 'u', 'r', 'd', 'r', 'u', 'l', 'l', 'd', 'r', 'u', 'r', 'd', 'l', 'u', 'u', 'r', 'd', 'd', 'l', 'u', 'r', 'u', 'l', 'd', 'd', 'l']\n",
      "-----------------------\n",
      "[14, 10, 8, 7, 5, 13, 6, 11, 1, 12, 0, 4, 2, 9, 15, 3] \n",
      "\n",
      "[1, 2, 3, 4, 5, 6, 7, 8, 0, 9, 10, 11, 12, 13, 14, 15]\n",
      "Length of solution:  206\n",
      "Nodes Expanded= 20128\n",
      "-----------------------\n",
      "['u', 'u', 'l', 'l', 'd', 'd', 'r', 'u', 'l', 'u', 'r', 'u', 'l', 'l', 'd', 'r', 'r', 'u', 'l', 'd', 'r', 'd', 'l', 'u', 'r', 'd', 'r', 'd', 'l', 'u', 'l', 'u', 'r', 'd', 'l', 'u', 'u', 'l', 'd', 'd', 'r', 'u', 'l', 'u', 'r', 'd', 'r', 'd', 'l', 'u', 'r', 'r', 'd', 'l', 'u', 'l', 'u', 'r', 'r', 'd', 'l', 'u', 'l', 'd', 'r', 'd', 'l', 'u', 'u', 'l', 'd', 'd', 'r', 'r', 'u', 'l', 'l', 'u', 'r', 'd', 'r', 'd', 'd', 'r', 'u', 'u', 'l', 'd', 'r', 'd', 'l', 'l', 'l', 'u', 'u', 'u', 'r', 'd', 'l', 'd', 'd', 'r', 'r', 'u', 'u', 'l', 'd', 'r', 'd', 'l', 'u', 'u', 'l', 'd', 'd', 'r', 'u', 'u', 'u', 'l', 'd', 'd', 'r', 'd', 'r', 'u', 'u', 'l', 'l', 'd', 'r', 'u', 'r', 'd', 'l', 'l', 'd', 'r', 'u', 'r', 'd', 'l', 'l', 'u', 'u', 'r', 'u', 'l', 'd', 'r', 'd', 'l', 'u', 'u', 'r', 'd', 'r', 'd', 'l', 'u', 'l', 'd', 'r', 'r', 'u', 'l', 'd', 'l', 'u', 'r', 'r', 'd', 'd', 'l', 'u', 'r', 'u', 'l', 'd', 'd', 'r', 'u', 'l', 'u', 'r', 'd', 'l', 'l', 'd', 'r', 'u', 'r', 'd', 'l', 'l', 'u']\n",
      "-----------------------\n",
      "[3, 9, 11, 1, 7, 5, 8, 12, 6, 14, 15, 4, 2, 10, 13, 0] \n",
      "\n",
      "[1, 2, 3, 4, 5, 6, 7, 8, 0, 9, 10, 11, 12, 13, 14, 15]\n",
      "Length of solution:  196\n",
      "Nodes Expanded= 7939\n",
      "-----------------------\n",
      "['d', 'r', 'u', 'u', 'l', 'u', 'r', 'r', 'd', 'r', 'd', 'd', 'l', 'l', 'u', 'l', 'u', 'u', 'r', 'r', 'r', 'd', 'd', 'd', 'l', 'u', 'l', 'l', 'u', 'u', 'r', 'd', 'l', 'd', 'r', 'u', 'u', 'r', 'd', 'd', 'r', 'u', 'u', 'l', 'd', 'd', 'r', 'u', 'l', 'd', 'd', 'r', 'u', 'u', 'l', 'd', 'r', 'd', 'l', 'u', 'l', 'l', 'u', 'r', 'd', 'r', 'u', 'u', 'l', 'd', 'l', 'u', 'r', 'r', 'd', 'l', 'u', 'l', 'd', 'r', 'r', 'r', 'u', 'l', 'l', 'd', 'r', 'u', 'r', 'd', 'd', 'l', 'u', 'l', 'u', 'r', 'r', 'd', 'l', 'u', 'r', 'd', 'd', 'l', 'u', 'r', 'u', 'l', 'l', 'd', 'r', 'd', 'l', 'u', 'u', 'r', 'd', 'd', 'l', 'u', 'r', 'u', 'l', 'l', 'd', 'd', 'r', 'u', 'l', 'u', 'r', 'r', 'r', 'd', 'l', 'l', 'u', 'r', 'd', 'r', 'u', 'l', 'l', 'l', 'd', 'r', 'u', 'r', 'd', 'l', 'l', 'u', 'r', 'd', 'r', 'u', 'l', 'l', 'd', 'd', 'r', 'u', 'l', 'u', 'r', 'd', 'd', 'l', 'u', 'r', 'u', 'l', 'd', 'd']\n",
      "-----------------------\n",
      "[11, 4, 9, 5, 6, 13, 1, 7, 0, 15, 10, 2, 3, 12, 14, 8] \n",
      "\n",
      "[1, 2, 3, 4, 5, 6, 7, 8, 0, 9, 10, 11, 12, 13, 14, 15]\n",
      "Length of solution:  174\n",
      "Nodes Expanded= 10808\n",
      "-----------------------\n",
      "['r', 'r', 'u', 'l', 'd', 'l', 'u', 'u', 'r', 'u', 'l', 'l', 'd', 'd', 'r', 'u', 'u', 'l', 'd', 'd', 'd', 'r', 'u', 'u', 'l', 'd', 'r', 'd', 'r', 'u', 'u', 'l', 'd', 'r', 'd', 'l', 'u', 'l', 'd', 'r', 'u', 'r', 'r', 'u', 'l', 'd', 'l', 'u', 'u', 'r', 'd', 'r', 'u', 'l', 'l', 'd', 'r', 'd', 'r', 'u', 'l', 'l', 'd', 'd', 'r', 'u', 'l', 'd', 'l', 'u', 'r', 'u', 'l', 'd', 'd', 'r', 'u', 'l', 'u', 'r', 'r', 'd', 'l', 'd', 'r', 'u', 'u', 'l', 'd', 'r', 'd', 'l', 'u', 'r', 'r', 'u', 'l', 'd', 'r', 'u', 'l', 'l', 'd', 'r', 'r', 'u', 'l', 'd', 'l', 'u', 'l', 'u', 'r', 'd', 'l', 'd', 'r', 'u', 'u', 'l', 'd', 'r', 'r', 'r', 'd', 'l', 'l', 'u', 'r', 'd', 'r', 'u', 'l', 'd', 'l', 'u', 'r', 'd', 'l', 'l', 'u', 'r', 'd', 'r', 'u', 'l', 'l', 'd', 'r', 'u', 'r', 'd', 'l', 'l']\n",
      "-----------------------\n",
      "[13, 3, 12, 11, 2, 7, 9, 14, 8, 6, 4, 15, 5, 0, 1, 10] \n",
      "\n",
      "[1, 2, 3, 4, 5, 6, 7, 8, 0, 9, 10, 11, 12, 13, 14, 15]\n",
      "Length of solution:  154\n",
      "Nodes Expanded= 9361\n",
      "-----------------------\n",
      "-------\n",
      "[('1815113079213414126105', 'drdruuulldddrruullurdrulllddrulurdddlurulddrurulurddluuldrdluurdddrruldlurrdlurulddrulurdlllurdrulldrrruldlurdrulldrurdlll', 4468), ('1121213154198567301014', 'rrululdlurrrdluldrrulurdlldrruldlurdrdllurdluldrrrulldrurdlluurulddluurrdlldrurdldrrulurddlurulddluuldrdluurdldrrulurddluuurdlddruuldrdlluruuldddruulurdddlurulddrulurdl', 12537), ('1531219013116471021485', 'rdruulllddrulddrulurdluurdldrulddrruldlurrdllurdrulldrruldluurdrulldrruldluurdrrullldrruldlurrrdldllurdrulurdrulldrrdluldlurdrrulldlurdrurdllldrrruldllurrrulldlurrrdldllurdrulurdrulldl', 20547), ('1238961141513411570102', 'uuldrrdruuullldddrrruuullldddrruldlurrdluuldrrulddruluurrddllulddrulurruldrrulldrulldrdluurddldruuldrdluururrdllurdrulddlurulddrulurddllurdrulldrurdluuldrdluurdlddrulurddlu', 46809), ('1181543972014512136110', 'rulddrrruldluldrulurdldruluurrdrddllluurruldldrrrdluldrrullldrurrdllurdruuldluldrurrdllurdrulldlurdrruldluldruruldlurrdllurrdlulddrulurddlurulddrrurddlurulddrulllurrrdlluldrdrurdlluluurddlurulddrrulldrurdldrruldlurrdllurdrulldrurdlulldrruldlurrdluldrurdllurdrull', 24635), ('4572151412311610913018', 'luurdluurrdruldllurdrdrdluurdlldrurdlulldrurdluurulddrruuldrdlllurrdlulddruldrrrulurddlurulddluuldrdluurdldruurdllurdruulldrurdlld', 5741), ('1410875136111120429153', 'ldruruuldrulldddrulldrrurdlluuurrddlurulddlurddlurulldruulddruuldrdrulldrurdlldrruldluurdrulldrurdlulurddluruldrrurdllurdruldldrulurddlurulddlurdrulldrrruuldruldrdllurulddruuldrdllurdrulldrurdluurddlurulddl', 20128), ('3911175812614154210130', 'uullddrulurulldrruldrdlurdrdlulurdluulddrulurdrdlurrdlulurrdluldrdluulddrrullurdrddruuldrdllluuurdlddrruuldrdluulddruuulddrdruulldrurdlldrurdlluuruldrdluurdrdluldrruldlurrddlurulddrulurdlldrurdllu', 7939), ('1149561317015102312148', 'druulurrdrddlluluurrrdddlulluurdldruurddruulddrulddruuldrdlullurdruuldlurrdluldrrrulldrurddlulurrdlurddlurulldrdluurddlurullddrulurrrdllurdrullldrurdllurdrullddrulurddluruldd', 10808), ('1331211279148641550110', 'rruldluurullddruuldddruuldrdruuldrdluldrurruldluurdrulldrdrullddruldlurulddrulurrdldruuldrdlurruldrulldrruldlulurdldruuldrrrdllurdruldlurdllurdrulldrurdll', 9361)]\n"
     ]
    }
   ],
   "source": [
    "### Best First\n",
    "bestFirstSearchf = lambda n: OutOfPlace(n.State, GoalState)\n",
    "testProblems = [[1, 8, 15, 11, 3, 0, 7, 9, 2, 13, 4, 14, 12, 6, 10, 5], [11, 2, 12, 13, 15, 4, 1, 9, 8, 5, 6, 7, 3, 0, 10, 14], [15, 3, 12, 1, 9, 0, 13, 11, 6, 4, 7, 10, 2, 14, 8, 5], [12, 3, 8, 9, 6, 1, 14, 15, 13, 4, 11, 5, 7, 0, 10, 2], [11, 8, 15, 4, 3, 9, 7, 2, 0, 14, 5, 12, 13, 6, 1, 10], [4, 5, 7, 2, 15, 14, 12, 3, 11, 6, 10, 9, 13, 0, 1, 8], [14, 10, 8, 7, 5, 13, 6, 11, 1, 12, 0, 4, 2, 9, 15, 3], [3, 9, 11, 1, 7, 5, 8, 12, 6, 14, 15, 4, 2, 10, 13, 0], [11, 4, 9, 5, 6, 13, 1, 7, 0, 15, 10, 2, 3, 12, 14, 8], [13, 3, 12, 11, 2, 7, 9, 14, 8, 6, 4, 15, 5, 0, 1, 10]]\n",
    "\n",
    "Solutions = []\n",
    "for s in testProblems:\n",
    "  TileSliding.INITIAL = s\n",
    "  ret, cost = BestFirstSearch(TileSliding, bestFirstSearchf)\n",
    "  sol = Solution(ret)\n",
    "  print (sol)\n",
    "  print (\"-----------------------\")\n",
    "  print (TileSliding.INITIAL,'\\n')\n",
    "  print (ApplyMoves(sol, TileSliding.INITIAL))\n",
    "  print (\"Length of solution: \", len(sol))\n",
    "  print (\"Nodes Expanded=\", cost)\n",
    "  print (\"-----------------------\")\n",
    "  Solutions.append((''.join(map(str, s)), ''.join(sol), cost))\n",
    "print (\"-------\")\n",
    "print (Solutions)"
   ]
  },
  {
   "cell_type": "code",
   "execution_count": 175,
   "metadata": {
    "colab": {
     "base_uri": "https://localhost:8080/"
    },
    "id": "rQw9QKTCMvBY",
    "outputId": "84ee3def-78b4-4ea9-fde8-ce90a4f7fb2d"
   },
   "outputs": [
    {
     "name": "stdout",
     "output_type": "stream",
     "text": [
      "['l', 'd', 'r', 'd', 'r', 'r', 'u', 'u', 'u', 'l', 'l', 'd', 'd', 'd', 'r', 'r', 'u', 'u', 'u', 'l', 'd', 'd', 'l', 'd', 'l', 'u', 'r', 'u', 'l', 'd', 'd', 'r', 'r', 'r', 'u', 'u', 'l', 'u', 'l', 'd', 'd', 'r', 'd', 'l', 'u', 'l', 'd', 'r', 'u', 'r', 'd', 'l', 'l', 'u', 'r', 'd', 'r', 'u', 'l', 'd', 'r', 'r', 'u', 'l', 'd', 'l', 'u', 'u', 'r', 'd', 'r', 'u', 'l', 'l', 'd', 'r', 'r', 'u', 'u', 'l', 'd', 'd', 'r', 'u', 'l', 'u', 'r', 'd', 'd', 'l', 'l', 'l']\n",
      "-----------------------\n",
      "[1, 8, 15, 11, 3, 0, 7, 9, 2, 13, 4, 14, 12, 6, 10, 5] \n",
      "\n",
      "[1, 2, 3, 4, 5, 6, 7, 8, 0, 9, 10, 11, 12, 13, 14, 15]\n",
      "Length of solution:  92\n",
      "Nodes Expanded= 1907\n",
      "-----------------------\n",
      "['l', 'u', 'r', 'r', 'd', 'l', 'l', 'u', 'u', 'u', 'r', 'd', 'd', 'l', 'u', 'r', 'r', 'u', 'l', 'd', 'r', 'r', 'u', 'l', 'd', 'r', 'd', 'l', 'd', 'l', 'u', 'u', 'r', 'd', 'd', 'l', 'u', 'l', 'd', 'r', 'u', 'u', 'l', 'd', 'r', 'd', 'r', 'r', 'u', 'l', 'l', 'l', 'u', 'u', 'r', 'r', 'd', 'r', 'd', 'd', 'l', 'l', 'u', 'u', 'u', 'l', 'd', 'd', 'r', 'u', 'u', 'l', 'd', 'd', 'r', 'u', 'l', 'u', 'r', 'd', 'd', 'l', 'u', 'r', 'u', 'l', 'd', 'd', 'r', 'r', 'd', 'r', 'u', 'l', 'l', 'd', 'r', 'r', 'u', 'l', 'd', 'l', 'u', 'l']\n",
      "-----------------------\n",
      "[11, 2, 12, 13, 15, 4, 1, 9, 8, 5, 6, 7, 3, 0, 10, 14] \n",
      "\n",
      "[1, 2, 3, 4, 5, 6, 7, 8, 0, 9, 10, 11, 12, 13, 14, 15]\n",
      "Length of solution:  104\n",
      "Nodes Expanded= 601\n",
      "-----------------------\n",
      "['d', 'l', 'u', 'u', 'r', 'd', 'd', 'l', 'u', 'r', 'r', 'd', 'd', 'l', 'l', 'u', 'r', 'u', 'r', 'd', 'r', 'u', 'l', 'u', 'l', 'd', 'r', 'u', 'l', 'l', 'd', 'r', 'd', 'd', 'l', 'u', 'u', 'r', 'd', 'd', 'l', 'u', 'u', 'u', 'r', 'd', 'r', 'u', 'r', 'd', 'l', 'l', 'u', 'r', 'd', 'r', 'u', 'l', 'l', 'd', 'd', 'd', 'l', 'u', 'r', 'u', 'l', 'd', 'd', 'r', 'u', 'l', 'u', 'u', 'r', 'r', 'd', 'l', 'l', 'u', 'r', 'd', 'r', 'u', 'l', 'd', 'l', 'u', 'r', 'd', 'd', 'l', 'u', 'u', 'r', 'd', 'l', 'd', 'r', 'u', 'u', 'l', 'd', 'd', 'r', 'u', 'l', 'd', 'd', 'r', 'u', 'u', 'l', 'd', 'd', 'r', 'u', 'l', 'u', 'r', 'd', 'd', 'l', 'u', 'r', 'u', 'r', 'd', 'l', 'd', 'r', 'r', 'u', 'l', 'd', 'l', 'u', 'r', 'u', 'l', 'l', 'd', 'r', 'r', 'u', 'l', 'l', 'd', 'r', 'u', 'r', 'd', 'l', 'l', 'd', 'r', 'u', 'r', 'r', 'd', 'l', 'l', 'l', 'u', 'r', 'r', 'd', 'r', 'u', 'l', 'l', 'd', 'r', 'u', 'r', 'd', 'l', 'l', 'u', 'l']\n",
      "-----------------------\n",
      "[15, 3, 12, 1, 9, 0, 13, 11, 6, 4, 7, 10, 2, 14, 8, 5] \n",
      "\n",
      "[1, 2, 3, 4, 5, 6, 7, 8, 0, 9, 10, 11, 12, 13, 14, 15]\n",
      "Length of solution:  180\n",
      "Nodes Expanded= 2593\n",
      "-----------------------\n",
      "['l', 'u', 'u', 'r', 'd', 'l', 'u', 'u', 'r', 'd', 'd', 'd', 'l', 'u', 'u', 'r', 'd', 'r', 'u', 'u', 'r', 'd', 'l', 'u', 'l', 'd', 'r', 'r', 'd', 'd', 'l', 'u', 'l', 'u', 'r', 'r', 'u', 'l', 'l', 'd', 'r', 'u', 'l', 'l', 'd', 'r', 'r', 'u', 'l', 'l', 'd', 'd', 'd', 'r', 'r', 'r', 'u', 'u', 'l', 'l', 'l', 'd', 'r', 'u', 'u', 'l', 'd', 'd', 'r', 'd', 'l', 'u', 'u', 'r', 'u', 'l', 'd', 'r', 'd', 'l', 'u', 'u', 'r', 'd', 'l', 'd', 'r', 'r', 'd', 'r', 'u', 'l', 'l', 'u', 'u', 'r', 'd', 'l', 'd', 'd', 'r', 'u', 'u', 'u', 'l', 'd', 'd', 'd', 'r', 'u', 'l', 'u', 'u', 'r', 'd', 'd', 'd', 'l', 'u', 'u', 'r', 'u', 'l', 'd', 'd', 'd', 'r', 'u', 'r', 'd', 'l', 'l', 'u', 'r', 'd', 'r', 'u', 'l', 'l', 'l']\n",
      "-----------------------\n",
      "[12, 3, 8, 9, 6, 1, 14, 15, 13, 4, 11, 5, 7, 0, 10, 2] \n",
      "\n",
      "[1, 2, 3, 4, 5, 6, 7, 8, 0, 9, 10, 11, 12, 13, 14, 15]\n",
      "Length of solution:  140\n",
      "Nodes Expanded= 2739\n",
      "-----------------------\n",
      "['r', 'u', 'u', 'l', 'd', 'r', 'r', 'd', 'd', 'r', 'u', 'l', 'd', 'l', 'l', 'u', 'u', 'r', 'r', 'u', 'l', 'l', 'd', 'r', 'r', 'u', 'l', 'l', 'd', 'd', 'r', 'u', 'r', 'r', 'd', 'l', 'l', 'u', 'r', 'r', 'd', 'l', 'd', 'r', 'u', 'u', 'l', 'd', 'l', 'l', 'u', 'u', 'r', 'd', 'r', 'r', 'd', 'l', 'l', 'l', 'u', 'r', 'd', 'r', 'u', 'l', 'l', 'd', 'r', 'r', 'r', 'u', 'l', 'l', 'd', 'l', 'u', 'r', 'r', 'u', 'l', 'l', 'd', 'r', 'u', 'r', 'd', 'l', 'l', 'd', 'd', 'r', 'r', 'u', 'l', 'l', 'd', 'r', 'u', 'l', 'd', 'r', 'u', 'r', 'd', 'l', 'l', 'u', 'r', 'r', 'd', 'l', 'u', 'r', 'r', 'd', 'l', 'l', 'u', 'r', 'd', 'r', 'u', 'l', 'l', 'l']\n",
      "-----------------------\n",
      "[11, 8, 15, 4, 3, 9, 7, 2, 0, 14, 5, 12, 13, 6, 1, 10] \n",
      "\n",
      "[1, 2, 3, 4, 5, 6, 7, 8, 0, 9, 10, 11, 12, 13, 14, 15]\n",
      "Length of solution:  126\n",
      "Nodes Expanded= 2052\n",
      "-----------------------\n",
      "['r', 'u', 'u', 'u', 'r', 'd', 'l', 'l', 'd', 'r', 'u', 'r', 'd', 'd', 'l', 'u', 'u', 'r', 'd', 'd', 'l', 'l', 'u', 'l', 'u', 'u', 'r', 'r', 'd', 'd', 'l', 'l', 'd', 'r', 'r', 'r', 'u', 'l', 'l', 'd', 'l', 'u', 'r', 'u', 'l', 'u', 'r', 'r', 'd', 'l', 'u', 'l', 'd', 'd', 'd', 'r', 'r', 'u', 'r', 'd', 'l', 'l', 'u', 'u', 'r', 'u', 'r', 'd', 'd', 'l', 'l', 'l', 'u', 'u', 'r', 'd', 'r', 'r', 'u', 'l', 'l', 'l', 'd', 'd', 'r', 'r', 'u', 'l', 'd', 'd', 'l', 'u', 'u', 'r', 'd', 'l', 'u', 'u', 'r', 'd', 'd', 'l', 'u', 'r', 'u', 'l', 'd', 'd', 'r', 'd', 'l', 'u', 'r', 'r', 'd', 'l', 'l', 'u', 'r', 'd', 'r', 'u', 'r', 'u', 'u', 'l', 'd', 'r', 'd', 'l', 'l', 'l', 'u', 'r', 'd', 'r', 'u', 'l', 'l', 'd', 'r', 'r', 'u', 'u', 'l', 'd', 'd', 'r', 'u', 'l', 'u', 'r', 'd', 'd', 'l', 'l']\n",
      "-----------------------\n",
      "[4, 5, 7, 2, 15, 14, 12, 3, 11, 6, 10, 9, 13, 0, 1, 8] \n",
      "\n",
      "[1, 2, 3, 4, 5, 6, 7, 8, 0, 9, 10, 11, 12, 13, 14, 15]\n",
      "Length of solution:  156\n",
      "Nodes Expanded= 2186\n",
      "-----------------------\n",
      "['u', 'u', 'l', 'l', 'd', 'd', 'r', 'd', 'l', 'u', 'r', 'u', 'u', 'r', 'r', 'd', 'd', 'd', 'l', 'l', 'u', 'r', 'r', 'u', 'l', 'l', 'd', 'r', 'u', 'u', 'l', 'd', 'd', 'l', 'u', 'u', 'r', 'd', 'r', 'u', 'l', 'l', 'd', 'd', 'd', 'r', 'r', 'u', 'u', 'l', 'd', 'd', 'l', 'u', 'r', 'u', 'u', 'l', 'd', 'd', 'r', 'u', 'l', 'u', 'r', 'd', 'd', 'l', 'u', 'u', 'r', 'd', 'l', 'd', 'r', 'u', 'u', 'l', 'd', 'd', 'r', 'r', 'u', 'l', 'l', 'd', 'r', 'u', 'r', 'd', 'r', 'u', 'u', 'l', 'd', 'd', 'r', 'u', 'l', 'u', 'r', 'd', 'l', 'd', 'l', 'l', 'u', 'r', 'd', 'r', 'u', 'l', 'l', 'd', 'r', 'r', 'u', 'r', 'd', 'l', 'l', 'u', 'r', 'd', 'r', 'u', 'l', 'l', 'd', 'l']\n",
      "-----------------------\n",
      "[14, 10, 8, 7, 5, 13, 6, 11, 1, 12, 0, 4, 2, 9, 15, 3] \n",
      "\n",
      "[1, 2, 3, 4, 5, 6, 7, 8, 0, 9, 10, 11, 12, 13, 14, 15]\n",
      "Length of solution:  130\n",
      "Nodes Expanded= 1501\n",
      "-----------------------\n",
      "['u', 'u', 'l', 'u', 'r', 'd', 'l', 'd', 'l', 'd', 'r', 'u', 'r', 'u', 'l', 'd', 'l', 'l', 'u', 'r', 'u', 'l', 'd', 'd', 'r', 'u', 'l', 'u', 'r', 'r', 'd', 'l', 'u', 'l', 'd', 'r', 'r', 'u', 'l', 'l', 'd', 'd', 'r', 'r', 'u', 'l', 'd', 'r', 'u', 'l', 'l', 'd', 'd', 'r', 'u', 'l', 'u', 'u', 'r', 'd', 'd', 'l', 'u', 'u', 'r', 'd', 'r', 'd', 'r', 'u', 'u', 'l', 'l', 'l', 'd', 'd', 'r', 'u', 'u', 'r', 'r', 'd', 'd', 'l', 'l', 'u', 'l', 'u', 'r', 'd', 'd', 'l', 'u', 'u', 'r', 'd', 'l', 'd', 'r', 'r', 'r', 'u', 'u', 'l', 'l', 'd', 'r', 'u', 'r', 'd', 'd', 'l', 'u', 'l', 'd', 'r', 'r', 'u', 'l', 'l', 'd', 'l', 'd', 'r', 'r', 'u', 'u', 'r', 'd', 'd', 'l', 'u', 'r', 'u', 'u', 'l', 'd', 'd', 'd', 'r', 'u', 'u', 'l', 'u', 'r', 'd', 'd', 'l', 'l', 'l', 'd', 'r', 'u', 'r', 'd', 'l', 'l', 'u', 'r', 'r', 'd', 'l', 'u', 'r', 'r', 'd', 'l', 'l', 'u', 'r', 'd', 'r', 'u', 'l', 'l', 'l']\n",
      "-----------------------\n",
      "[3, 9, 11, 1, 7, 5, 8, 12, 6, 14, 15, 4, 2, 10, 13, 0] \n",
      "\n",
      "[1, 2, 3, 4, 5, 6, 7, 8, 0, 9, 10, 11, 12, 13, 14, 15]\n",
      "Length of solution:  176\n",
      "Nodes Expanded= 2846\n",
      "-----------------------\n",
      "['d', 'r', 'u', 'u', 'r', 'u', 'l', 'd', 'l', 'u', 'r', 'd', 'r', 'r', 'u', 'l', 'd', 'r', 'd', 'd', 'l', 'l', 'u', 'u', 'l', 'd', 'r', 'u', 'r', 'r', 'd', 'l', 'l', 'l', 'u', 'r', 'r', 'd', 'r', 'd', 'l', 'u', 'r', 'u', 'l', 'u', 'l', 'd', 'd', 'r', 'd', 'l', 'u', 'l', 'd', 'r', 'r', 'u', 'l', 'u', 'r', 'd', 'd', 'l', 'l', 'u', 'u', 'u', 'r', 'r', 'd', 'l', 'u', 'l', 'd', 'd', 'r', 'd', 'r', 'u', 'l', 'l', 'd', 'r', 'r', 'u', 'l', 'd', 'l', 'u', 'u', 'r', 'd', 'r', 'r', 'u', 'l', 'l', 'l', 'd', 'r', 'r', 'u', 'r', 'd', 'l', 'l', 'u', 'r', 'd', 'r', 'u', 'l', 'l', 'd', 'l']\n",
      "-----------------------\n",
      "[11, 4, 9, 5, 6, 13, 1, 7, 0, 15, 10, 2, 3, 12, 14, 8] \n",
      "\n",
      "[1, 2, 3, 4, 5, 6, 7, 8, 0, 9, 10, 11, 12, 13, 14, 15]\n",
      "Length of solution:  116\n",
      "Nodes Expanded= 3374\n",
      "-----------------------\n",
      "['r', 'r', 'u', 'l', 'u', 'u', 'l', 'l', 'd', 'd', 'd', 'r', 'u', 'r', 'u', 'l', 'l', 'd', 'r', 'r', 'd', 'l', 'u', 'l', 'd', 'r', 'r', 'u', 'u', 'l', 'u', 'l', 'd', 'd', 'r', 'u', 'r', 'r', 'd', 'l', 'u', 'l', 'd', 'd', 'r', 'u', 'r', 'u', 'l', 'd', 'l', 'u', 'r', 'd', 'd', 'l', 'u', 'l', 'd', 'r', 'r', 'u', 'l', 'd', 'l', 'u', 'u', 'u', 'r', 'd', 'r', 'r', 'u', 'l', 'l', 'l', 'd', 'd', 'r', 'r', 'u', 'u', 'r', 'd', 'd', 'l', 'u', 'r', 'u', 'l', 'd', 'd', 'r', 'u', 'u', 'l', 'd', 'd', 'r', 'u', 'l', 'u', 'r', 'd', 'd', 'l', 'u', 'r', 'u', 'l', 'd', 'l', 'l', 'u', 'r', 'd', 'r', 'd', 'l', 'l', 'u', 'u', 'r', 'd', 'd', 'r', 'u', 'l', 'l', 'd', 'r', 'u', 'r', 'd', 'l', 'u', 'u', 'r', 'd', 'd', 'l', 'u', 'r', 'u', 'l', 'd', 'd', 'l']\n",
      "-----------------------\n",
      "[13, 3, 12, 11, 2, 7, 9, 14, 8, 6, 4, 15, 5, 0, 1, 10] \n",
      "\n",
      "[1, 2, 3, 4, 5, 6, 7, 8, 0, 9, 10, 11, 12, 13, 14, 15]\n",
      "Length of solution:  148\n",
      "Nodes Expanded= 4113\n",
      "-----------------------\n",
      "-------\n",
      "[('1815113079213414126105', 'ldrdrruuulldddrruuulddldlurulddrrruululddrdluldrurdllurdruldrruldluurdrulldrruulddrulurddlll', 1907), ('1121213154198567301014', 'lurrdlluuurddlurruldrruldrdldluurddluldruuldrdrrullluurrdrddlluuulddruulddrulurddlurulddrrdrulldrruldlul', 601), ('1531219013116471021485', 'dluurddlurrddllururdrululdrulldrddluurddluuurdrurdllurdrulldddlurulddruluurrdllurdruldlurddluurdldruulddrulddruulddrulurddlururdldrruldlurulldrrulldrurdlldrurrdlllurrdrulldrurdllul', 2593), ('1238961141513411570102', 'luurdluurdddluurdruurdluldrrddlulurrulldrulldrrulldddrrruullldruulddrdluuruldrdluurdldrrdrulluurdlddruuuldddruluurdddluuruldddrurdllurdrulll', 2739), ('1181543972014512136110', 'ruuldrrddruldlluurrulldrrullddrurrdllurrdldruuldlluurdrrdlllurdrulldrrrulldlurrulldrurdllddrrulldruldrurdllurrdlurrdllurdrulll', 2052), ('4572151412311610913018', 'ruuurdlldrurddluurddlluluurrddlldrrrulldlurulurrdluldddrrurdlluururddllluurdrrulllddrrulddluurdluurddlurulddrdlurrdllurdruruuldrdlllurdrulldrruulddrulurddll', 2186), ('1410875136111120429153', 'uullddrdluruurrdddllurrulldruulddluurdrulldddrruulddluruulddrulurddluurdldruulddrrulldrurdruulddrulurdldllurdrulldrrurdllurdrulldl', 1501), ('3911175812614154210130', 'uulurdldldruruldllurulddrulurrdluldrrullddrruldrullddruluurddluurdrdruulllddruurrddllulurddluurdldrrruulldrurddluldrrulldldrruurddluruuldddruulurddllldrurdllurrdlurrdllurdrulll', 2846), ('1149561317015102312148', 'druuruldlurdrruldrddlluuldrurrdlllurrdrdlurululddrdluldrrulurddlluuurrdlulddrdrulldrruldluurdrrullldrrurdllurdrulldl', 3374), ('1331211279148641550110', 'rruluulldddrurulldrrdluldrruululddrurrdlulddruruldlurddluldrruldluuurdrrulllddrruurddlurulddruulddrulurddluruldllurdrdlluurddrulldrurdluurddlurulddl', 4113)]\n"
     ]
    }
   ],
   "source": [
    "### Best First\n",
    "bestFirstSearchf = lambda n: ManhattanDistance(n.State, GoalState)\n",
    "testProblems = [[1, 8, 15, 11, 3, 0, 7, 9, 2, 13, 4, 14, 12, 6, 10, 5], [11, 2, 12, 13, 15, 4, 1, 9, 8, 5, 6, 7, 3, 0, 10, 14], [15, 3, 12, 1, 9, 0, 13, 11, 6, 4, 7, 10, 2, 14, 8, 5], [12, 3, 8, 9, 6, 1, 14, 15, 13, 4, 11, 5, 7, 0, 10, 2], [11, 8, 15, 4, 3, 9, 7, 2, 0, 14, 5, 12, 13, 6, 1, 10], [4, 5, 7, 2, 15, 14, 12, 3, 11, 6, 10, 9, 13, 0, 1, 8], [14, 10, 8, 7, 5, 13, 6, 11, 1, 12, 0, 4, 2, 9, 15, 3], [3, 9, 11, 1, 7, 5, 8, 12, 6, 14, 15, 4, 2, 10, 13, 0], [11, 4, 9, 5, 6, 13, 1, 7, 0, 15, 10, 2, 3, 12, 14, 8], [13, 3, 12, 11, 2, 7, 9, 14, 8, 6, 4, 15, 5, 0, 1, 10]]\n",
    "\n",
    "Solutions = []\n",
    "for s in testProblems:\n",
    "  TileSliding.INITIAL = s\n",
    "  ret, cost = BestFirstSearch(TileSliding, bestFirstSearchf)\n",
    "  sol = Solution(ret)\n",
    "  print (sol)\n",
    "  print (\"-----------------------\")\n",
    "  print (TileSliding.INITIAL,'\\n')\n",
    "  print (ApplyMoves(sol, TileSliding.INITIAL))\n",
    "  print (\"Length of solution: \", len(sol))\n",
    "  print (\"Nodes Expanded=\", cost)\n",
    "  print (\"-----------------------\")\n",
    "  Solutions.append((''.join(map(str, s)), ''.join(sol), cost))\n",
    "print (\"-------\")\n",
    "print (Solutions)"
   ]
  },
  {
   "cell_type": "markdown",
   "metadata": {
    "id": "TFLhS5QmxRz2"
   },
   "source": [
    "# Domain 2"
   ]
  },
  {
   "cell_type": "code",
   "execution_count": 176,
   "metadata": {
    "id": "PqDD8fsrxXK7"
   },
   "outputs": [],
   "source": [
    "VectorWorldDim = 10\n",
    "VectorWorld = Problem()\n",
    "VectorWorld.INITIAL = [0]\n",
    "VectorWorld.IsGoal = lambda s: s==[3,] or s==(3,)\n",
    "VectorWorld.Actions = lambda s: ['Left', 'Right']\n",
    "## TileSliding.Result=VectorWorldResult\n",
    "VectorWorld.ActionCost = lambda s, a, sPrime: 1"
   ]
  },
  {
   "cell_type": "code",
   "execution_count": 177,
   "metadata": {
    "id": "uWNR8AQJyCN7"
   },
   "outputs": [],
   "source": [
    "def VectorWorldResult(state, action):\n",
    "  if action=='Left':\n",
    "    return [(state[0]+VectorWorldDim-1)%VectorWorldDim]\n",
    "  else:\n",
    "    return [(state[0]+1)%VectorWorldDim]\n",
    "VectorWorld.Result=VectorWorldResult\n"
   ]
  },
  {
   "cell_type": "code",
   "execution_count": 178,
   "metadata": {
    "colab": {
     "base_uri": "https://localhost:8080/"
    },
    "id": "Ox26cyPP2xba",
    "outputId": "40387548-f024-4cf8-9ddd-7f016cbce708"
   },
   "outputs": [
    {
     "name": "stdout",
     "output_type": "stream",
     "text": [
      "True\n"
     ]
    }
   ],
   "source": [
    "print (VectorWorld.IsGoal((3,)))"
   ]
  },
  {
   "cell_type": "code",
   "execution_count": 179,
   "metadata": {
    "colab": {
     "base_uri": "https://localhost:8080/"
    },
    "id": "SBfeM9Vbykci",
    "outputId": "8e6689d5-f32d-4cff-cb33-ba656277774f"
   },
   "outputs": [
    {
     "name": "stdout",
     "output_type": "stream",
     "text": [
      "ret= [3], Right\n",
      "['Right', 'Right', 'Right']\n"
     ]
    }
   ],
   "source": [
    "ret, cost = BreadthFirstSearch(VectorWorld)\n",
    "print (\"ret=\", ret)\n",
    "sol = Solution(ret)\n",
    "print (sol)\n"
   ]
  },
  {
   "cell_type": "code",
   "execution_count": 180,
   "metadata": {
    "id": "dAbJ75Ym4WmP"
   },
   "outputs": [],
   "source": [
    "VectorWorld.INITIAL = [8]"
   ]
  },
  {
   "cell_type": "code",
   "execution_count": 181,
   "metadata": {
    "colab": {
     "base_uri": "https://localhost:8080/"
    },
    "id": "QGO1VglP4Zq6",
    "outputId": "5a145a87-66f6-4645-9329-98768f258908"
   },
   "outputs": [
    {
     "name": "stdout",
     "output_type": "stream",
     "text": [
      "ret= [3], Left\n",
      "['Left', 'Left', 'Left', 'Left', 'Left']\n"
     ]
    }
   ],
   "source": [
    "ret, cost = BreadthFirstSearch(VectorWorld)\n",
    "print (\"ret=\", ret)\n",
    "sol = Solution(ret)\n",
    "print (sol)"
   ]
  },
  {
   "cell_type": "code",
   "execution_count": null,
   "metadata": {},
   "outputs": [],
   "source": []
  }
 ],
 "metadata": {
  "colab": {
   "authorship_tag": "ABX9TyP/XgtPkoBl7WatIg5txFKQ",
   "include_colab_link": true,
   "provenance": []
  },
  "kernelspec": {
   "display_name": "Python 3 (ipykernel)",
   "language": "python",
   "name": "python3"
  },
  "language_info": {
   "codemirror_mode": {
    "name": "ipython",
    "version": 3
   },
   "file_extension": ".py",
   "mimetype": "text/x-python",
   "name": "python",
   "nbconvert_exporter": "python",
   "pygments_lexer": "ipython3",
   "version": "3.13.3"
  }
 },
 "nbformat": 4,
 "nbformat_minor": 4
}
